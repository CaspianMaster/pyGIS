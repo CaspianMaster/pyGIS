{
 "cells": [
  {
   "cell_type": "code",
   "execution_count": 1,
   "id": "piano-anaheim",
   "metadata": {},
   "outputs": [
    {
     "data": {
      "text/plain": [
       "0    POINT (1.00000 1.00000)\n",
       "1    POINT (2.00000 2.00000)\n",
       "2    POINT (3.00000 3.00000)\n",
       "dtype: geometry"
      ]
     },
     "execution_count": 1,
     "metadata": {},
     "output_type": "execute_result"
    }
   ],
   "source": [
    "import geopandas\n",
    "from shapely.geometry import Point\n",
    "s = geopandas.GeoSeries([Point(1, 1), Point(2, 2), Point(3, 3)])\n",
    "s"
   ]
  },
  {
   "cell_type": "code",
   "execution_count": 2,
   "id": "welcome-interstate",
   "metadata": {},
   "outputs": [
    {
     "data": {
      "text/plain": [
       "0    LINESTRING (-77.03687 38.90719, -76.61219 39.2...\n",
       "dtype: geometry"
      ]
     },
     "execution_count": 2,
     "metadata": {},
     "output_type": "execute_result"
    }
   ],
   "source": [
    "from shapely.geometry import LineString\n",
    "l= geopandas.GeoSeries([LineString([Point(-77.036873,38.907192), Point(-76.612190,39.290386,), Point(-77.408456,39.412006)])])\n",
    "l"
   ]
  },
  {
   "cell_type": "code",
   "execution_count": 3,
   "id": "optional-accreditation",
   "metadata": {},
   "outputs": [
    {
     "data": {
      "text/plain": [
       "0    POLYGON ((-77.03687 38.90719, -76.61219 39.290...\n",
       "dtype: geometry"
      ]
     },
     "execution_count": 3,
     "metadata": {},
     "output_type": "execute_result"
    }
   ],
   "source": [
    "from shapely.geometry import Polygon\n",
    "p= geopandas.GeoSeries([Polygon([Point(-77.036873,38.907192), Point(-76.612190,39.290386,), Point(-77.408456,39.412006)])])\n",
    "p"
   ]
  }
 ],
 "metadata": {
  "jupytext": {
   "text_representation": {
    "extension": ".md",
    "format_name": "myst"
   }
  },
  "kernelspec": {
   "display_name": "Python 3",
   "language": "python",
   "name": "python3"
  },
  "language_info": {
   "codemirror_mode": {
    "name": "ipython",
    "version": 3
   },
   "file_extension": ".py",
   "mimetype": "text/x-python",
   "name": "python",
   "nbconvert_exporter": "python",
   "pygments_lexer": "ipython3",
   "version": "3.7.10"
  },
  "source_map": [
   10,
   34,
   40,
   45,
   49
  ]
 },
 "nbformat": 4,
 "nbformat_minor": 5
}