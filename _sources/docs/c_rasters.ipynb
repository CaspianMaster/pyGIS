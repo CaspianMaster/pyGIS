{
 "cells": [
  {
   "cell_type": "markdown",
   "id": "beginning-variation",
   "metadata": {},
   "source": [
    "(c_rasters)=\n",
    " \n",
    "----------------\n",
    "\n",
    "```{admonition} Learning Objectives\n",
    "An example of an admonition with a title.\n",
    "* Create new raster objects \n",
    "* Assign the correct projection or CRS\n",
    "```\n",
    "```{admonition} Review\n",
    "* [IMPORTANT: Affine transformation](d_affine)\n",
    "```\n",
    "----------------\n",
    "\n",
    "# Raster Data \n",
    "In order to work with raster data we will be using `rasterio`. Behind the scenes a `numpy.ndarray` does all the heavy lifting. To understand how raster works it helps to construct one from scratch. \n",
    "\n",
    "Here we create two `ndarray` objects one `X` spans [-90&deg;,90&deg;] longitude, and `Y` covers [-90&deg;,90&deg;] latitude."
   ]
  },
  {
   "cell_type": "code",
   "execution_count": 1,
   "id": "cloudy-devil",
   "metadata": {},
   "outputs": [
    {
     "data": {
      "text/plain": [
       "array([[-90., -60., -30.,   0.,  30.,  60.,  90.],\n",
       "       [-90., -60., -30.,   0.,  30.,  60.,  90.],\n",
       "       [-90., -60., -30.,   0.,  30.,  60.,  90.],\n",
       "       [-90., -60., -30.,   0.,  30.,  60.,  90.],\n",
       "       [-90., -60., -30.,   0.,  30.,  60.,  90.],\n",
       "       [-90., -60., -30.,   0.,  30.,  60.,  90.],\n",
       "       [-90., -60., -30.,   0.,  30.,  60.,  90.]])"
      ]
     },
     "execution_count": 1,
     "metadata": {},
     "output_type": "execute_result"
    }
   ],
   "source": [
    "import numpy as np\n",
    "x = np.linspace(-90, 90, 7)\n",
    "y = np.linspace(90, -90, 7)\n",
    "X, Y = np.meshgrid(x, y)\n",
    "X"
   ]
  },
  {
   "cell_type": "code",
   "execution_count": 2,
   "id": "amateur-entertainment",
   "metadata": {},
   "outputs": [
    {
     "data": {
      "text/plain": [
       "array([[ 90.,  90.,  90.,  90.,  90.,  90.,  90.],\n",
       "       [ 60.,  60.,  60.,  60.,  60.,  60.,  60.],\n",
       "       [ 30.,  30.,  30.,  30.,  30.,  30.,  30.],\n",
       "       [  0.,   0.,   0.,   0.,   0.,   0.,   0.],\n",
       "       [-30., -30., -30., -30., -30., -30., -30.],\n",
       "       [-60., -60., -60., -60., -60., -60., -60.],\n",
       "       [-90., -90., -90., -90., -90., -90., -90.]])"
      ]
     },
     "execution_count": 2,
     "metadata": {},
     "output_type": "execute_result"
    }
   ],
   "source": [
    "Y"
   ]
  },
  {
   "cell_type": "markdown",
   "id": "pursuant-execution",
   "metadata": {},
   "source": [
    "Both arrays have the same spatial resolution"
   ]
  },
  {
   "cell_type": "code",
   "execution_count": 3,
   "id": "valued-taylor",
   "metadata": {},
   "outputs": [
    {
     "data": {
      "text/plain": [
       "25.714285714285715"
      ]
     },
     "execution_count": 3,
     "metadata": {},
     "output_type": "execute_result"
    }
   ],
   "source": [
    "res = (x[-1] - x[0]) / len(x)\n",
    "res"
   ]
  },
  {
   "cell_type": "markdown",
   "id": "comfortable-details",
   "metadata": {},
   "source": [
    "Let's generate some data representing temperature and store it an array `Z`"
   ]
  },
  {
   "cell_type": "code",
   "execution_count": 4,
   "id": "brilliant-squad",
   "metadata": {},
   "outputs": [
    {
     "data": {
      "image/png": "[encoded data removed]",
      "text/plain": [
       "<Figure size 432x288 with 1 Axes>"
      ]
     },
     "metadata": {
      "filenames": {
       "image/png": "/home/mmann1123/Documents/github/pyGIS/pygis/_build/jupyter_execute/docs/c_rasters_6_0.png"
      },
      "needs_background": "light"
     },
     "output_type": "display_data"
    }
   ],
   "source": [
    "import matplotlib.pyplot as plt\n",
    "\n",
    "Z1 =  np.abs(((X - 10) ** 2 + (Y - 10) ** 2) / 1 ** 2)\n",
    "Z2 =  np.abs(((X + 10) ** 2 + (Y + 10) ** 2) / 2.5 ** 2)\n",
    "Z =  (Z1 - Z2)\n",
    "\n",
    "plt.imshow(Z)\n",
    "plt.title(\"Temperature\")\n",
    "plt.show()"
   ]
  },
  {
   "cell_type": "markdown",
   "id": "toxic-birmingham",
   "metadata": {},
   "source": [
    "In this example the coordinate reference system will be '+proj=latlong', which describes an equirectangular coordinate reference system with units of decimal degrees. Although `X` and `Y` seems relevant to understanding the location of cell values, `rasterio` instead uses affine transformations instead. Affine transforms uses matrix algebra to describe where a cell is located (translation) and what its resolution is (scale). [Review affine transformations](d_affine_trans_scale) and [see an example here](d_affine_trans).\n",
    "\n",
    "The affine transformation matrix can be computed from the matrix product of a translation (moving N,S,E,W) and a scaling (resolution). First, we start with translation where $\\Delta x$ and $\\Delta y$ define the location of the upper left hand corner of our new `Z` ndarray. As a reminder the translation matrix takes the form:\n",
    "\n",
    "$$\n",
    "   \\begin{eqnarray}\n",
    "     \\mbox{Translate: }  \\begin{bmatrix} 1 & 0 & \\Delta x \\\\  0 & 1 & \\Delta y \\\\ 0 & 0 & 1 \\end{bmatrix}  \n",
    "   \\end{eqnarray}\n",
    "$$\n",
    "\n",
    "Now we can define our translation matrix using the point coordinates (`x[0]`,`y[0]`), but these need to be offset by 1/2 the resolution so that the cell is centered over the coodinate (-90,90):"
   ]
  },
  {
   "cell_type": "code",
   "execution_count": 5,
   "id": "descending-quebec",
   "metadata": {},
   "outputs": [
    {
     "name": "stdout",
     "output_type": "stream",
     "text": [
      "| 1.00, 0.00,-102.86|\n",
      "| 0.00, 1.00, 77.14|\n",
      "| 0.00, 0.00, 1.00|\n"
     ]
    }
   ],
   "source": [
    "from rasterio.transform import Affine\n",
    "print(Affine.translation(x[0] - res / 2, y[0] - res / 2))"
   ]
  },
  {
   "cell_type": "markdown",
   "id": "requested-highway",
   "metadata": {},
   "source": [
    "We also need to scale our data based on the resolution of each cell, the scale matrix is defined here:\n",
    "\n",
    "$$\n",
    "   \\begin{eqnarray}\n",
    "   \\mbox{Scale: }  \\begin{bmatrix} S_{x} & 0 & 0 \\\\ 0 & S_{y} & 0 \\\\ 0 & 0 & 1 \\end{bmatrix} \n",
    "   \\end{eqnarray}\n",
    "$$"
   ]
  },
  {
   "cell_type": "code",
   "execution_count": 6,
   "id": "noble-specification",
   "metadata": {},
   "outputs": [
    {
     "name": "stdout",
     "output_type": "stream",
     "text": [
      "| 25.71, 0.00, 0.00|\n",
      "| 0.00, 25.71, 0.00|\n",
      "| 0.00, 0.00, 1.00|\n"
     ]
    }
   ],
   "source": [
    "print(Affine.scale(res, res))"
   ]
  },
  {
   "cell_type": "markdown",
   "id": "facial-cycle",
   "metadata": {},
   "source": [
    "______________ USE THE AFFINE SCALE EXAMPLE FROM THE BOOK TO SHOW HOW THIS WORKS ____________\n",
    "\n",
    "----------\n",
    "Credits: [rasterio quickstart](https://rasterio.readthedocs.io/en/latest/quickstart.html)"
   ]
  }
 ],
 "metadata": {
  "jupytext": {
   "text_representation": {
    "extension": ".md",
    "format_name": "myst"
   }
  },
  "kernelspec": {
   "display_name": "Python 3",
   "language": "python",
   "name": "python3"
  },
  "language_info": {
   "codemirror_mode": {
    "name": "ipython",
    "version": 3
   },
   "file_extension": ".py",
   "mimetype": "text/x-python",
   "name": "python",
   "nbconvert_exporter": "python",
   "pygments_lexer": "ipython3",
   "version": "3.7.10"
  },
  "source_map": [
   10,
   31,
   39,
   41,
   43,
   46,
   49,
   59,
   73,
   76,
   87,
   89
  ]
 },
 "nbformat": 4,
 "nbformat_minor": 5
}