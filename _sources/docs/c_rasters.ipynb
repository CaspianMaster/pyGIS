{
 "cells": [
  {
   "cell_type": "markdown",
   "id": "fleet-trinity",
   "metadata": {},
   "source": [
    "(c_rasters)=\n",
    " \n",
    "----------------\n",
    "\n",
    "```{admonition} Learning Objectives\n",
    "An example of an admonition with a title.\n",
    "* Create new raster objects \n",
    "* Assign the correct projection or CRS\n",
    "```\n",
    "```{admonition} Review\n",
    "* [Please review Affine transformation](d_affine)\n",
    "```\n",
    "----------------\n",
    "\n",
    "# Raster Data \n",
    "A raster data model uses an array of cells, or pixels, to represent real-world objects. Raster datasets are commonly used for representing and managing imagery, surface temperatures, digital elevation models, and numerous other entities. A raster can be thought of as a special case of an area object where the area is divided into a regular grid of cells. But a regularly spaced array of marked points may be a better analogy since rasters are stored as an array of values where each cell is defined by a single coordinate pair inside of most GIS environments. Implicit in a raster data model is a value associated with each cell or pixel. This is in contrast to a vector model that may or may not have a value associated with the geometric primitive.\n",
    "\n",
    "In order to work with raster data we will be using `rasterio` and later `geowombat`. Behind the scenes a `numpy.ndarray` does all the heavy lifting. To understand how raster works it helps to construct one from scratch. \n",
    "\n",
    "Here we create two `ndarray` objects one `X` spans [-90&deg;,90&deg;] longitude, and `Y` covers [-90&deg;,90&deg;] latitude."
   ]
  },
  {
   "cell_type": "code",
   "execution_count": 1,
   "id": "provincial-small",
   "metadata": {},
   "outputs": [
    {
     "data": {
      "text/plain": [
       "array([[-90., -54., -18.,  18.,  54.,  90.],\n",
       "       [-90., -54., -18.,  18.,  54.,  90.],\n",
       "       [-90., -54., -18.,  18.,  54.,  90.],\n",
       "       [-90., -54., -18.,  18.,  54.,  90.],\n",
       "       [-90., -54., -18.,  18.,  54.,  90.],\n",
       "       [-90., -54., -18.,  18.,  54.,  90.]])"
      ]
     },
     "execution_count": 1,
     "metadata": {},
     "output_type": "execute_result"
    }
   ],
   "source": [
    "import numpy as np\n",
    "x = np.linspace(-90, 90, 6)\n",
    "y = np.linspace(90, -90, 6)\n",
    "X, Y = np.meshgrid(x, y)\n",
    "X"
   ]
  },
  {
   "cell_type": "code",
   "execution_count": 2,
   "id": "modern-crossing",
   "metadata": {},
   "outputs": [
    {
     "data": {
      "text/plain": [
       "array([[ 90.,  90.,  90.,  90.,  90.,  90.],\n",
       "       [ 54.,  54.,  54.,  54.,  54.,  54.],\n",
       "       [ 18.,  18.,  18.,  18.,  18.,  18.],\n",
       "       [-18., -18., -18., -18., -18., -18.],\n",
       "       [-54., -54., -54., -54., -54., -54.],\n",
       "       [-90., -90., -90., -90., -90., -90.]])"
      ]
     },
     "execution_count": 2,
     "metadata": {},
     "output_type": "execute_result"
    }
   ],
   "source": [
    "Y"
   ]
  },
  {
   "cell_type": "markdown",
   "id": "outstanding-africa",
   "metadata": {},
   "source": [
    "Let's generate some data representing temperature and store it an array `Z`"
   ]
  },
  {
   "cell_type": "code",
   "execution_count": 3,
   "id": "advisory-premiere",
   "metadata": {},
   "outputs": [
    {
     "data": {
      "image/png": "[encoded data removed]",
      "text/plain": [
       "<Figure size 432x288 with 1 Axes>"
      ]
     },
     "metadata": {
      "filenames": {
       "image/png": "/home/mmann1123/Documents/github/pyGIS/pygis/_build/jupyter_execute/docs/c_rasters_4_0.png"
      },
      "needs_background": "light"
     },
     "output_type": "display_data"
    }
   ],
   "source": [
    "import matplotlib.pyplot as plt\n",
    "\n",
    "Z1 =  np.abs(((X - 10) ** 2 + (Y - 10) ** 2) / 1 ** 2)\n",
    "Z2 =  np.abs(((X + 10) ** 2 + (Y + 10) ** 2) / 2.5 ** 2)\n",
    "Z =  (Z1 - Z2)\n",
    "\n",
    "plt.imshow(Z)\n",
    "plt.title(\"Temperature\")\n",
    "plt.show()"
   ]
  },
  {
   "cell_type": "markdown",
   "id": "victorian-lounge",
   "metadata": {},
   "source": [
    "## Creating raster data\n",
    "\n",
    "The final array `Z` still lacks a number of elements that transform it from being a non-spatial `numpy` array to a spatial one usable by `rasterio` etc. `Rasterio` requires the following elements to write out a geotif, or spatial raster dataset:\n",
    "\n",
    "| Parameters     | Description    | Argument      |\n",
    "| :---          | ---:           |---:        |\n",
    "| driver  | the name of the desired format driver   |  `'GTiff'` |\n",
    "| width  | the number of columns of the dataset   |  `Z.shape[1]` |\n",
    "| height  | the number of rows of the dataset   |  `Z.shape[0]` |\n",
    "| count  | a count of the dataset bands   |  `1` |\n",
    "| dtype  | the data type of the dataset   |  `Z.dtype` |\n",
    "| crs  | a coordinate reference system identifier or description   |  `'+proj=latlong'`|\n",
    "| transform  | an affine transformation matrix   |  `Affine.translation(x[0] - xres / 2, y[0] - yres / 2) * Affine.scale(xres, yres)`|\n",
    "| nodata  | a “nodata” value   |  `-9999`|\n",
    "\n",
    "```{note}\n",
    "`transform` defines the location of the upper left hand corner of the raster on the globe, and its spatial resolution. The arguments for `transform` are complex and beyond the scope of the chapter, please refer to the next chapter @ [affine transforms](d_affine) and [raster crs](d_raster_crs_intro) for more info. \n",
    "```\n",
    "## Writing Rasters\n",
    "To save this array along with geospatial information to a file, we call `rasterio.open()` with a path to the new file to be created, and 'w' to specify writing mode, along with the arguments above."
   ]
  },
  {
   "cell_type": "code",
   "execution_count": 4,
   "id": "passing-happiness",
   "metadata": {},
   "outputs": [],
   "source": [
    "import rasterio\n",
    "from rasterio.transform import Affine\n",
    "\n",
    "xres = (x[-1] - x[0]) / len(x)\n",
    "yres = (y[-1] - y[0]) / len(y)\n",
    "\n",
    "transform = Affine.translation(x[0] - xres / 2, y[0] - yres / 2) * Affine.scale(xres, yres)\n",
    "\n",
    "with rasterio.open(\n",
    "        \"../temp/temperature.tif\",\n",
    "        mode=\"w\",\n",
    "        driver=\"GTiff\",\n",
    "        height=Z.shape[0],\n",
    "        width=Z.shape[1],\n",
    "        count=1,\n",
    "        dtype=Z.dtype,\n",
    "        crs=\"+proj=latlong\",\n",
    "        transform=transform,\n",
    ") as new_dataset:\n",
    "        new_dataset.write(Z, 1)\n"
   ]
  },
  {
   "cell_type": "markdown",
   "id": "micro-accommodation",
   "metadata": {},
   "source": [
    "When we go to look again at our data we can read it back in using `open`. Before plotting we `raster.read(1)` the first band, which converts the data back to a `numpy` array that can be plotted in `matplotlib`.  Notice that we also specify the band number (in this case 1), with `.write(Z, 1)`."
   ]
  },
  {
   "cell_type": "code",
   "execution_count": 5,
   "id": "liked-communication",
   "metadata": {},
   "outputs": [
    {
     "data": {
      "image/png": "[encoded data removed]",
      "text/plain": [
       "<Figure size 432x288 with 1 Axes>"
      ]
     },
     "metadata": {
      "filenames": {
       "image/png": "/home/mmann1123/Documents/github/pyGIS/pygis/_build/jupyter_execute/docs/c_rasters_8_0.png"
      },
      "needs_background": "light"
     },
     "output_type": "display_data"
    }
   ],
   "source": [
    "import matplotlib.pyplot as plt\n",
    "\n",
    "raster = rasterio.open(\"../temp/temperature.tif\")\n",
    "\n",
    "plt.imshow(raster.read(1), cmap=\"BrBG\")\n",
    "plt.title(\"Temperature\")\n",
    "plt.show()"
   ]
  },
  {
   "cell_type": "markdown",
   "id": "breeding-terrorism",
   "metadata": {},
   "source": [
    "So in summary, a geospatial dataset is essentially just a `numpy.ndarray` with information about the location and resolution of the array, the [coordinate reference system](d_crs_what_is_it), and number of bands. This information is typically accessed and updated via the `.profile`."
   ]
  },
  {
   "cell_type": "code",
   "execution_count": 6,
   "id": "viral-beatles",
   "metadata": {},
   "outputs": [
    {
     "name": "stdout",
     "output_type": "stream",
     "text": [
      "{'driver': 'GTiff', 'dtype': 'float64', 'nodata': None, 'width': 6, 'height': 6, 'count': 1, 'crs': CRS.from_epsg(4326), 'transform': Affine(30.0, 0.0, -105.0,\n",
      "       0.0, -30.0, 105.0), 'tiled': False, 'interleave': 'band'}\n"
     ]
    }
   ],
   "source": [
    "print(raster.profile)"
   ]
  },
  {
   "cell_type": "markdown",
   "id": "danish-mississippi",
   "metadata": {},
   "source": [
    "## Update Raster Metadata\n",
    "Notice the the `.profile` above is missing a meaningful `nodata` value and was uncompressed. Let's learn how to update these values. For this we can update the `.profile` dictionary."
   ]
  },
  {
   "cell_type": "code",
   "execution_count": 7,
   "id": "constant-depth",
   "metadata": {},
   "outputs": [
    {
     "name": "stdout",
     "output_type": "stream",
     "text": [
      "{'driver': 'GTiff', 'dtype': 'float64', 'nodata': 0, 'width': 6, 'height': 6, 'count': 1, 'crs': CRS.from_epsg(4326), 'transform': Affine(30.0, 0.0, -105.0,\n",
      "       0.0, -30.0, 105.0), 'tiled': False, 'interleave': 'band', 'compress': 'lzw'}\n"
     ]
    }
   ],
   "source": [
    "# start with the original profile\n",
    "profile = raster.profile\n",
    "# update values for nodata and compression type\n",
    "profile.update(nodata=0, compress=\"lzw\")\n",
    "print(profile)"
   ]
  },
  {
   "cell_type": "markdown",
   "id": "agreed-parliament",
   "metadata": {},
   "source": [
    "Now we just need to write the array of data (obtained from `raster.read(1)`) out with the updated profile info. We can unpack all the dictionary values from the profile using `**profile`."
   ]
  },
  {
   "cell_type": "code",
   "execution_count": 8,
   "id": "presidential-screening",
   "metadata": {},
   "outputs": [],
   "source": [
    "with rasterio.open(\"../temp/temperature.tif\", \n",
    "                  mode=\"w\", \n",
    "                  **profile,) as update_dataset:\n",
    "    update_dataset.write(raster.read(1), 1)"
   ]
  },
  {
   "cell_type": "markdown",
   "id": "tender-assets",
   "metadata": {},
   "source": [
    "## Rasterio Multiband Rasters \n",
    "Working with multiband imagery starts to get a bit tricky, especially with `rasterio` alone. \n",
    "\n",
    "Let's start with a problematic raster file, a landsat image that stores its red, green, and blue bands in reverse order (blue, green, red), that is scaled by 100 (multiplied by 100 to store data as integers rather than float), and that is missing a meaningful nodata value."
   ]
  },
  {
   "cell_type": "code",
   "execution_count": 9,
   "id": "yellow-satisfaction",
   "metadata": {},
   "outputs": [
    {
     "name": "stdout",
     "output_type": "stream",
     "text": [
      "Array shape: (3, 1860, 2041)\n",
      "{'driver': 'GTiff', 'dtype': 'uint16', 'nodata': None, 'width': 2041, 'height': 1860, 'count': 3, 'crs': CRS.from_epsg(32621), 'transform': Affine(30.0, 0.0, 717345.0,\n",
      "       0.0, -30.0, -2776995.0), 'blockxsize': 256, 'blockysize': 256, 'tiled': True, 'compress': 'lzw', 'interleave': 'pixel'}\n"
     ]
    }
   ],
   "source": [
    "with rasterio.open(\n",
    "    \"../data/LC08_L1TP_224078_20200518_20200518_01_RT.TIF\", mode=\"r\", nodata=0) as src:\n",
    "    # read in the array, band 3 first, then band 2, then band 1\n",
    "    arr = src.read([3, 2, 1])\n",
    "    # the array has three bands\n",
    "    print(\"Array shape:\", arr.shape)\n",
    "    # look at the profile, despite setting nodata=0, there still isn't a nodata value \n",
    "    # this is because we need to update the profile and write out a new image with\n",
    "    #  nodata set\n",
    "    profile = src.profile\n",
    "    print(profile)"
   ]
  },
  {
   "cell_type": "markdown",
   "id": "classical-albert",
   "metadata": {},
   "source": [
    "```{note}\n",
    "We use `src.read([3, 2, 1])` in order to reverse the read order of our bands. With this the original blue, green, red order is read in reverse as red, green, blue, which is required for true color images. \n",
    "```\n",
    "\n",
    "To see what it looks like, let's use rasterio's `show` function which *sort of helps* when viewing multiband imagery."
   ]
  },
  {
   "cell_type": "code",
   "execution_count": 10,
   "id": "hungry-payment",
   "metadata": {},
   "outputs": [
    {
     "name": "stderr",
     "output_type": "stream",
     "text": [
      "Clipping input data to the valid range for imshow with RGB data ([0..1] for floats or [0..255] for integers).\n"
     ]
    },
    {
     "name": "stdout",
     "output_type": "stream",
     "text": [
      "[[[   0    0    0 ...    0    0    0]\n",
      "  [   0    0    0 ...    0    0    0]\n",
      "  [   0    0    0 ...    0    0    0]\n",
      "  ...\n",
      "  [6672 6168 6100 ... 6028 6015 6008]\n",
      "  [6291 6457 6423 ... 6021 6001 6017]\n",
      "  [6181 6727 6747 ... 6098 6023 5991]]\n",
      "\n",
      " [[   0    0    0 ...    0    0    0]\n",
      "  [   0    0    0 ...    0    0    0]\n",
      "  [   0    0    0 ...    0    0    0]\n",
      "  ...\n",
      "  [7083 6794 6731 ... 6760 6724 6685]\n",
      "  [6951 7079 7016 ... 6699 6687 6715]\n",
      "  [6864 7286 7338 ... 6817 6732 6659]]\n",
      "\n",
      " [[   0    0    0 ...    0    0    0]\n",
      "  [   0    0    0 ...    0    0    0]\n",
      "  [   0    0    0 ...    0    0    0]\n",
      "  ...\n",
      "  [7692 7518 7513 ... 7440 7432 7415]\n",
      "  [7586 7590 7610 ... 7440 7411 7425]\n",
      "  [7576 7743 7770 ... 7464 7443 7406]]]\n",
      "--------------\n"
     ]
    },
    {
     "data": {
      "image/png": "[encoded data removed]",
      "text/plain": [
       "<Figure size 432x288 with 1 Axes>"
      ]
     },
     "metadata": {
      "filenames": {
       "image/png": "/home/mmann1123/Documents/github/pyGIS/pygis/_build/jupyter_execute/docs/c_rasters_18_2.png"
      },
      "needs_background": "light"
     },
     "output_type": "display_data"
    },
    {
     "data": {
      "text/plain": [
       "<AxesSubplot:>"
      ]
     },
     "execution_count": 10,
     "metadata": {},
     "output_type": "execute_result"
    }
   ],
   "source": [
    "from rasterio.plot import show\n",
    "print(arr)\n",
    "print('--------------')\n",
    "show(arr)"
   ]
  },
  {
   "cell_type": "markdown",
   "id": "motivated-siemens",
   "metadata": {},
   "source": [
    "Arg... it looks terrible. A few things, the primary problem is that the zeros aren't being treated as missing data, and therefor messing everything up. Second, there is a message at the top of the image saying its `clipping... [0..255] for integers)`. \n",
    "\n",
    "Let's check what the range of values are in our raster. To do this we will use `scipy` `stats`, and `.ravel()` to convert our `n` dimension array to a `1d` array."
   ]
  },
  {
   "cell_type": "code",
   "execution_count": 11,
   "id": "applied-rabbit",
   "metadata": {},
   "outputs": [
    {
     "name": "stdout",
     "output_type": "stream",
     "text": [
      "DescribeResult(nobs=11388780, minmax=(0, 24147), mean=6095.312502656123, variance=7725568.74402071, skewness=-1.6071105370358574, kurtosis=0.9303298625510847)\n"
     ]
    }
   ],
   "source": [
    "from scipy import stats\n",
    "\n",
    "print(stats.describe(arr.ravel()))"
   ]
  },
  {
   "cell_type": "markdown",
   "id": "present-lightning",
   "metadata": {},
   "source": [
    "Since we currently have integer data that ranges from 0 to 24147, we should try scaling it, if we go to the documentation we would see that we need to divide all values by 100."
   ]
  },
  {
   "cell_type": "code",
   "execution_count": 12,
   "id": "tracked-pattern",
   "metadata": {},
   "outputs": [
    {
     "name": "stdout",
     "output_type": "stream",
     "text": [
      "float64\n"
     ]
    }
   ],
   "source": [
    "scaled_arr = arr / 100\n",
    "print(scaled_arr.dtype)"
   ]
  },
  {
   "cell_type": "markdown",
   "id": "comprehensive-buddy",
   "metadata": {},
   "source": [
    "Then let's write the data back out again with an updated profile. Notice that the datatype (`dtype`) has changed since we divided by 100."
   ]
  },
  {
   "cell_type": "code",
   "execution_count": 13,
   "id": "homeless-eagle",
   "metadata": {},
   "outputs": [],
   "source": [
    "# update the profile for the new raster\n",
    "profile = src.profile\n",
    "profile.update(nodata=0, compress=\"lzw\", dtype=scaled_arr.dtype)\n",
    "\n",
    "# write out raster as RGB \n",
    "with rasterio.open(\n",
    "    \"../temp/LS_scaled_20200518.tif\",\n",
    "    mode=\"w\",\n",
    "    **profile,  # unpack the profile arguments set above\n",
    ") as new_dataset:\n",
    "    new_dataset.write(scaled_arr, [1, 2, 3])"
   ]
  },
  {
   "cell_type": "markdown",
   "id": "enabling-mediterranean",
   "metadata": {},
   "source": [
    "```{note}\n",
    "Since the bands have already been put in the right order in the array (ie. RGB), we can just write it out as follows `.write(scaled_arr, [1, 2, 3])`. \n",
    "```\n",
    "\n",
    "There you go! A fixed raster. Try opening it in Qgis to make sure. We can look at it now using rasterio `show`, but again it isn't great, but better."
   ]
  },
  {
   "cell_type": "code",
   "execution_count": 14,
   "id": "ranging-fairy",
   "metadata": {},
   "outputs": [
    {
     "data": {
      "image/png": "[encoded data removed]",
      "text/plain": [
       "<Figure size 432x288 with 1 Axes>"
      ]
     },
     "metadata": {
      "filenames": {
       "image/png": "/home/mmann1123/Documents/github/pyGIS/pygis/_build/jupyter_execute/docs/c_rasters_26_0.png"
      },
      "needs_background": "light"
     },
     "output_type": "display_data"
    }
   ],
   "source": [
    "with rasterio.open(\"../temp/LS_scaled_20200518.tif\", mode=\"r\") as src:\n",
    "    show(src,adjust='linear')"
   ]
  },
  {
   "cell_type": "markdown",
   "id": "trying-element",
   "metadata": {},
   "source": [
    "To help make all of this easier and more intuitive we will be presenting the use of `geowombat` for remote sensing applications later, [start here](f_rs_intro).\n",
    "\n",
    "Just as a preview, here's how to do this in `geowombat`."
   ]
  },
  {
   "cell_type": "code",
   "execution_count": 15,
   "id": "fitted-skill",
   "metadata": {},
   "outputs": [
    {
     "ename": "ModuleNotFoundError",
     "evalue": "No module named 'geowombat'",
     "output_type": "error",
     "traceback": [
      "\u001b[0;31m---------------------------------------------------------------------------\u001b[0m",
      "\u001b[0;31mModuleNotFoundError\u001b[0m                       Traceback (most recent call last)",
      "\u001b[0;32m<ipython-input-15-6b3940a41b00>\u001b[0m in \u001b[0;36m<module>\u001b[0;34m\u001b[0m\n\u001b[0;32m----> 1\u001b[0;31m \u001b[0;32mimport\u001b[0m \u001b[0mgeowombat\u001b[0m \u001b[0;32mas\u001b[0m \u001b[0mgw\u001b[0m\u001b[0;34m\u001b[0m\u001b[0;34m\u001b[0m\u001b[0m\n\u001b[0m\u001b[1;32m      2\u001b[0m \u001b[0;32mimport\u001b[0m \u001b[0mmatplotlib\u001b[0m\u001b[0;34m.\u001b[0m\u001b[0mpyplot\u001b[0m \u001b[0;32mas\u001b[0m \u001b[0mplt\u001b[0m\u001b[0;34m\u001b[0m\u001b[0;34m\u001b[0m\u001b[0m\n\u001b[1;32m      3\u001b[0m \u001b[0;34m\u001b[0m\u001b[0m\n\u001b[1;32m      4\u001b[0m \u001b[0mfig\u001b[0m\u001b[0;34m,\u001b[0m \u001b[0max\u001b[0m \u001b[0;34m=\u001b[0m \u001b[0mplt\u001b[0m\u001b[0;34m.\u001b[0m\u001b[0msubplots\u001b[0m\u001b[0;34m(\u001b[0m\u001b[0mdpi\u001b[0m\u001b[0;34m=\u001b[0m\u001b[0;36m200\u001b[0m\u001b[0;34m)\u001b[0m\u001b[0;34m\u001b[0m\u001b[0;34m\u001b[0m\u001b[0m\n\u001b[1;32m      5\u001b[0m \u001b[0;34m\u001b[0m\u001b[0m\n",
      "\u001b[0;31mModuleNotFoundError\u001b[0m: No module named 'geowombat'"
     ]
    }
   ],
   "source": [
    "import geowombat as gw\n",
    "import matplotlib.pyplot as plt\n",
    "\n",
    "fig, ax = plt.subplots(dpi=200)\n",
    "\n",
    "# tell gw to read a blue green red\n",
    "with gw.config.update(sensor=\"bgr\"):\n",
    "    with gw.open(\"../data/LC08_L1TP_224078_20200518_20200518_01_RT.TIF\") as src:\n",
    "        \n",
    "        # see that bands names, blue green red are assigned\n",
    "        print(src.band)\n",
    "\n",
    "        # remove 0 value, rearrange band order \n",
    "        temp = src.where(src != 0).sel(band=[\"red\", \"green\", \"blue\"])\n",
    "\n",
    "        # plot\n",
    "        temp.gw.imshow(robust=True, ax=ax)\n",
    "\n",
    "        #save to file\n",
    "        temp.gw.to_raster(\n",
    "            \"../temp/LS_scaled_20200518.tif\", verbose=0, n_workers=4, overwrite=True\n",
    "        )"
   ]
  },
  {
   "cell_type": "markdown",
   "id": "yellow-analysis",
   "metadata": {},
   "source": [
    "----------\n",
    "Credits: [rasterio quickstart](https://rasterio.readthedocs.io/en/latest/quickstart.html)\n",
    "\n",
    "Supported by: <a href=\"https://geography.columbian.gwu.edu/\">GW Dept of Geography</a> \n",
    "\n",
    "Take a class with [Prof Mann](https://geography.columbian.gwu.edu/michael-mann)"
   ]
  }
 ],
 "metadata": {
  "jupytext": {
   "text_representation": {
    "extension": ".md",
    "format_name": "myst"
   }
  },
  "kernelspec": {
   "display_name": "Python 3",
   "language": "python",
   "name": "python3"
  },
  "language_info": {
   "codemirror_mode": {
    "name": "ipython",
    "version": 3
   },
   "file_extension": ".py",
   "mimetype": "text/x-python",
   "name": "python",
   "nbconvert_exporter": "python",
   "pygments_lexer": "ipython3",
   "version": "3.7.10"
  },
  "source_map": [
   10,
   33,
   41,
   43,
   46,
   56,
   80,
   102,
   105,
   113,
   118,
   120,
   125,
   131,
   134,
   139,
   146,
   158,
   166,
   171,
   176,
   180,
   183,
   186,
   189,
   201,
   208,
   211,
   217,
   240
  ]
 },
 "nbformat": 4,
 "nbformat_minor": 5
}