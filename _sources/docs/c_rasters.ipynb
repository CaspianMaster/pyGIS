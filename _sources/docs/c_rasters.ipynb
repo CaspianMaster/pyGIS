{
 "cells": [
  {
   "cell_type": "markdown",
   "id": "3cb5a76a",
   "metadata": {},
   "source": [
    "(c_rasters)=\n",
    " \n",
    "----------------\n",
    "\n",
    "```{admonition} Learning Objectives\n",
    "* Create new raster objects \n",
    "* Assign the correct projection or CRS\n",
    "```\n",
    "```{admonition} Review\n",
    "* [Please review Affine transformation](d_affine.md)\n",
    "```\n",
    "----------------\n",
    "\n",
    "# Spatial Raster Data in Python\n",
    "A raster data model uses an array of cells, or pixels, to represent real-world objects. Raster datasets are commonly used for representing and managing imagery, surface temperatures, digital elevation models, and numerous other entities. A raster can be thought of as a special case of an area object where the area is divided into a regular grid of cells. But a regularly spaced array of marked points may be a better analogy since rasters are stored as an array of values where each cell is defined by a single coordinate pair inside of most GIS environments. Implicit in a raster data model is a value associated with each cell or pixel. This is in contrast to a vector model that may or may not have a value associated with the geometric primitive.\n",
    "\n",
    "In order to work with raster data we will be using `rasterio` and later `geowombat`. Behind the scenes a `numpy.ndarray` does all the heavy lifting. To understand how raster works it helps to construct one from scratch. \n",
    "\n",
    "Here we create two `ndarray` objects one `X` spans [-90&deg;,90&deg;] longitude, and `Y` covers [-90&deg;,90&deg;] latitude."
   ]
  },
  {
   "cell_type": "code",
   "execution_count": 1,
   "id": "530592b2",
   "metadata": {},
   "outputs": [
    {
     "data": {
      "text/plain": [
       "array([[-90., -54., -18.,  18.,  54.,  90.],\n",
       "       [-90., -54., -18.,  18.,  54.,  90.],\n",
       "       [-90., -54., -18.,  18.,  54.,  90.],\n",
       "       [-90., -54., -18.,  18.,  54.,  90.],\n",
       "       [-90., -54., -18.,  18.,  54.,  90.],\n",
       "       [-90., -54., -18.,  18.,  54.,  90.]])"
      ]
     },
     "execution_count": 1,
     "metadata": {},
     "output_type": "execute_result"
    }
   ],
   "source": [
    "import numpy as np\n",
    "x = np.linspace(-90, 90, 6)\n",
    "y = np.linspace(90, -90, 6)\n",
    "X, Y = np.meshgrid(x, y)\n",
    "X"
   ]
  },
  {
   "cell_type": "markdown",
   "id": "180e9d87",
   "metadata": {},
   "source": [
    "Let's generate some data representing temperature and store it an array `Z`"
   ]
  },
  {
   "cell_type": "code",
   "execution_count": 2,
   "id": "459e9514",
   "metadata": {},
   "outputs": [
    {
     "data": {
      "image/png": "[encoded data removed]",
      "text/plain": [
       "<Figure size 432x288 with 1 Axes>"
      ]
     },
     "metadata": {
      "filenames": {
       "image/png": "/home/mmann1123/Documents/github/pyGIS/pygis/_build/jupyter_execute/docs/c_rasters_3_0.png"
      },
      "needs_background": "light"
     },
     "output_type": "display_data"
    }
   ],
   "source": [
    "import matplotlib.pyplot as plt\n",
    "\n",
    "Z1 =  np.abs(((X - 10) ** 2 + (Y - 10) ** 2) / 1 ** 2)\n",
    "Z2 =  np.abs(((X + 10) ** 2 + (Y + 10) ** 2) / 2.5 ** 2)\n",
    "Z =  (Z1 - Z2)\n",
    "\n",
    "plt.imshow(Z)\n",
    "plt.title(\"Temperature\")\n",
    "plt.show()"
   ]
  },
  {
   "cell_type": "markdown",
   "id": "55a4e09a",
   "metadata": {},
   "source": [
    "Note that *`Z` contains no data on its location*. Its just an array, the information stored in `x` and `y` aren't associated with it at all. This location data will often be stored in the header of file. In order to 'locate' the array on the map we will use affine transformations. \n",
    "\n",
    "\n",
    "\n",
    "## Assigning spatial data to an array in python\n",
    "Ok we have an array of data and some coordinates for each cell, but how do we create a spatial dataset from it? In order to do this we need three components:\n",
    "\n",
    "1) An array of data and typically the xy coordinates\n",
    "2) A coordinate reference system which defines what coordinate space we are using (e.g. degrees or meters, where is the prime meridian etc)\n",
    "3) A transform defining the coordinate of the upper left hand corner and the cell resolution\n",
    "\n",
    "```{note}\n",
    "These topic is covered extensively in the next chapter. We will briefly introduce the topic here, but will go into the details later. For more info on transforms go [here](d_raster_crs_intro.md). For more info on coordinate references systems go [here](d_crs_what_is_it.md) or to understand CRS codes go [here](d_understand_crs_codes). To help bring it all together, read/writing rasters got to [Reading & Writing Rasters with Rasterio](e_new_rasters).\n",
    "```\n",
    "\n",
    "Once you have those components you can write out a working spatial raster dataset in python in a few lines of code. We just need to provide the information listed above in a format that rasterio understands."
   ]
  },
  {
   "cell_type": "code",
   "execution_count": 3,
   "id": "1194034c",
   "metadata": {},
   "outputs": [],
   "source": [
    "from rasterio.transform import Affine\n",
    "import rasterio as rio\n",
    "\n",
    "res = (x[-1] - x[0]) / 240.0\n",
    "transform = Affine.translation(x[0] - res / 2, y[0] - res / 2) * Affine.scale(res, res)\n",
    "\n",
    "# open in 'write' mode, unpack profile info to dst\n",
    "with rio.open(\n",
    "   \"../temp/new_raster.tif\",\n",
    "   \"w\",\n",
    "   driver=\"GTiff\",         # output file type\n",
    "   height=Z.shape[0],      # shape of array\n",
    "   width=Z.shape[1],\n",
    "   count=1,                # number of bands\n",
    "   dtype=Z.dtype,          # output datatype\n",
    "   crs=\"+proj=latlong\",    # CRS\n",
    "   transform=transform,    # location and resolution of upper left cell\n",
    ") as dst:\n",
    "   # check for number of bands\n",
    "   if dst.count == 1:\n",
    "       # write single band\n",
    "       dst.write(Z, 1)\n",
    "   else:\n",
    "       # write each band individually\n",
    "       for band in range(len(Z)):\n",
    "           # write data, band # (starting from 1)\n",
    "           dst.write(Z[band], band + 1)"
   ]
  },
  {
   "cell_type": "markdown",
   "id": "b212b329",
   "metadata": {},
   "source": [
    "```{note}\n",
    "Raster data is often 'multiband' (e.g. red, green, blue), so I provided code that works for both multiband and single band data. \n",
    "\n",
    "If you are storing multiband data the dimensions should be stored as (band, y, x ).\n",
    "```"
   ]
  }
 ],
 "metadata": {
  "html_meta": {
   "description lang=en": "Learn to create new spatial raster objects, assign projections or CRS.",
   "description lang=es": "Aprenda a crear nuevos objetos ráster, asignar proyecciones o CRS.",
   "description lang=fr": "Apprenez à créer de nouveaux objets raster, à attribuer des projections ou CRS.",
   "keywords": "raster, spatial, shapefile, rasterio, numpy",
   "property=og:locale": "en_US"
  },
  "jupytext": {
   "text_representation": {
    "extension": ".md",
    "format_name": "myst"
   }
  },
  "kernelspec": {
   "display_name": "Python 3",
   "language": "python",
   "name": "python3"
  },
  "language_info": {
   "codemirror_mode": {
    "name": "ipython",
    "version": 3
   },
   "file_extension": ".py",
   "mimetype": "text/x-python",
   "name": "python",
   "nbconvert_exporter": "python",
   "pygments_lexer": "ipython3",
   "version": "3.7.10"
  },
  "source_map": [
   16,
   38,
   44,
   48,
   58,
   77,
   105
  ]
 },
 "nbformat": 4,
 "nbformat_minor": 5
}