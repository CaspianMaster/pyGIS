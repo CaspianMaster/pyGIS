{
 "cells": [
  {
   "cell_type": "markdown",
   "id": "considerable-devil",
   "metadata": {},
   "source": [
    "(d_raster_crs_intro)=\n",
    "\n",
    "\n",
    "To Do:\n",
    "- show how warping works\n",
    "\n",
    "----------------\n",
    "\n",
    "```{admonition} Learning Objectives\n",
    "Learning Objectives:\n",
    "- What is warping?\n",
    "- What is an affine transformation?\n",
    "```\n",
    "```{admonition} Review\n",
    "Please Review:\n",
    "* [Affine transformation](d_affine)\n",
    "```\n",
    "----------------\n",
    "\n",
    "\n",
    "\n",
    "\n",
    "# Raster CRS \n",
    " \n",
    "Let's start from the `ndarray` `Z` that we want to span from [-90&deg;,90&deg;] longitude, and [-90&deg;,90&deg;] latitude. For more detail on the construction of these arrays please refer to [the raster section](c_rasters)."
   ]
  },
  {
   "cell_type": "code",
   "execution_count": 1,
   "id": "destroyed-mission",
   "metadata": {},
   "outputs": [
    {
     "data": {
      "image/png": "[encoded data removed]",
      "text/plain": [
       "<Figure size 432x288 with 1 Axes>"
      ]
     },
     "metadata": {
      "filenames": {
       "image/png": "/home/mmann1123/Documents/github/pyGIS/pygis/_build/jupyter_execute/docs/d_raster_crs_intro_1_0.png"
      },
      "needs_background": "light"
     },
     "output_type": "display_data"
    }
   ],
   "source": [
    "import numpy as np\n",
    "import matplotlib.pyplot as plt\n",
    "\n",
    "x = np.linspace(-90, 90, 6)\n",
    "y = np.linspace(90, -90, 6)\n",
    "X, Y = np.meshgrid(x, y)\n",
    "\n",
    "Z1 =  np.abs(((X - 10) ** 2 + (Y - 10) ** 2) / 1 ** 2)\n",
    "Z2 =  np.abs(((X + 10) ** 2 + (Y + 10) ** 2) / 2.5 ** 2)\n",
    "Z =  (Z1 - Z2)\n",
    "\n",
    "plt.imshow(Z)\n",
    "plt.title(\"Temperature\")\n",
    "plt.show()"
   ]
  },
  {
   "cell_type": "markdown",
   "id": "important-construction",
   "metadata": {},
   "source": [
    "## Describing the Array Location\n",
    "In this example the coordinate reference system will be '+proj=latlong', which describes an equirectangular coordinate reference system with units of decimal degrees. Although `X` and `Y` seems relevant to understanding the location of cell values, `rasterio` instead uses affine transformations instead. Affine transforms uses matrix algebra to describe where a cell is located (translation) and what its resolution is (scale). [Review affine transformations](d_affine_trans_scale) and [see an example here](d_affine_trans).\n",
    "\n",
    "The affine transformation matrix can be computed from the matrix product of a translation (moving N,S,E,W) and a scaling (resolution). First, we start with translation where $\\Delta x$ and $\\Delta y$ define the location of the upper left hand corner of our new `Z` ndarray. As a reminder the translation matrix takes the form:\n",
    "\n",
    "$$\n",
    "   \\begin{eqnarray}\n",
    "     \\mbox{Translate} =  \\begin{bmatrix} 1 & 0 & \\Delta x \\\\  0 & 1 & \\Delta y \\\\ 0 & 0 & 1 \\end{bmatrix}  \n",
    "   \\end{eqnarray}\n",
    "$$\n",
    "\n",
    "Now we can define our translation matrix using the point coordinates (`x[0]`,`y[0]`), but these need to be offset by 1/2 the resolution so that the cell is centered over the coodinate (-90,90). Notice however there are some difference between the x and y resolution:\n",
    "\n",
    "Both arrays have the same spatial resolution"
   ]
  },
  {
   "cell_type": "code",
   "execution_count": 2,
   "id": "unnecessary-document",
   "metadata": {},
   "outputs": [
    {
     "data": {
      "text/plain": [
       "30.0"
      ]
     },
     "execution_count": 2,
     "metadata": {},
     "output_type": "execute_result"
    }
   ],
   "source": [
    "xres = (x[-1] - x[0]) / len(x)\n",
    "xres"
   ]
  },
  {
   "cell_type": "markdown",
   "id": "coordinate-manner",
   "metadata": {},
   "source": [
    "But notice that the y resolution is negative:"
   ]
  },
  {
   "cell_type": "code",
   "execution_count": 3,
   "id": "brilliant-times",
   "metadata": {},
   "outputs": [
    {
     "data": {
      "text/plain": [
       "-30.0"
      ]
     },
     "execution_count": 3,
     "metadata": {},
     "output_type": "execute_result"
    }
   ],
   "source": [
    "yres = (y[-1] - y[0]) / len(y)\n",
    "yres"
   ]
  },
  {
   "cell_type": "code",
   "execution_count": 4,
   "id": "adapted-pacific",
   "metadata": {},
   "outputs": [
    {
     "name": "stdout",
     "output_type": "stream",
     "text": [
      "| 1.00, 0.00,-105.00|\n",
      "| 0.00, 1.00, 105.00|\n",
      "| 0.00, 0.00, 1.00|\n"
     ]
    }
   ],
   "source": [
    "from rasterio.transform import Affine\n",
    "print(Affine.translation(x[0] - xres / 2, y[0] - yres / 2))"
   ]
  },
  {
   "cell_type": "markdown",
   "id": "studied-federation",
   "metadata": {},
   "source": [
    "We also need to scale our data based on the resolution of each cell, the scale matrix takes the following form:\n",
    "\n",
    "$$\n",
    "   \\begin{eqnarray}\n",
    "   \\mbox{Scale} = \\begin{bmatrix} xres & 0 & 0 \\\\ 0 & yres & 0 \\\\ 0 & 0 & 1 \\end{bmatrix} \n",
    "   \\end{eqnarray}\n",
    "$$"
   ]
  },
  {
   "cell_type": "code",
   "execution_count": 5,
   "id": "future-emission",
   "metadata": {},
   "outputs": [
    {
     "name": "stdout",
     "output_type": "stream",
     "text": [
      "| 30.00, 0.00, 0.00|\n",
      "| 0.00,-30.00, 0.00|\n",
      "| 0.00, 0.00, 1.00|\n"
     ]
    }
   ],
   "source": [
    "print(Affine.scale(xres, yres))"
   ]
  },
  {
   "cell_type": "markdown",
   "id": "generous-improvement",
   "metadata": {},
   "source": [
    "We can do both operations simultaneously in a new `transform` matrix by calculating the product of the Translate and Scale matrix: \n",
    "\n",
    "$$\n",
    "    \\mbox{Translate} \\cdot \\mbox{Scale} =  \\begin{bmatrix} xres & 0 & \\Delta x \\\\ 0 & yres & \\Delta y \\\\ 0 & 0 & 1 \\end{bmatrix} \n",
    "$$"
   ]
  },
  {
   "cell_type": "code",
   "execution_count": 6,
   "id": "cubic-witness",
   "metadata": {},
   "outputs": [
    {
     "name": "stdout",
     "output_type": "stream",
     "text": [
      "| 30.00, 0.00,-105.00|\n",
      "| 0.00,-30.00, 105.00|\n",
      "| 0.00, 0.00, 1.00|\n"
     ]
    }
   ],
   "source": [
    "transform = Affine.translation(x[0] - xres / 2, y[0] - yres / 2) * Affine.scale(xres, yres)\n",
    "print(transform)"
   ]
  },
  {
   "cell_type": "markdown",
   "id": "broken-psychiatry",
   "metadata": {},
   "source": [
    "Now we need to write out a `tif` file that holds the data in `Z` and its data type with `dtype`, the location described by `transform`, in coordinates described by the coordinate reference system `+proj=latlon`, the number of 'bands' of data in `count` (in this case just one), and the shape in `height` and `width`."
   ]
  },
  {
   "cell_type": "code",
   "execution_count": 7,
   "id": "steady-young",
   "metadata": {},
   "outputs": [
    {
     "ename": "NameError",
     "evalue": "name 'rasterio' is not defined",
     "output_type": "error",
     "traceback": [
      "\u001b[0;31m---------------------------------------------------------------------------\u001b[0m",
      "\u001b[0;31mNameError\u001b[0m                                 Traceback (most recent call last)",
      "\u001b[0;32m<ipython-input-7-18b916674da7>\u001b[0m in \u001b[0;36m<module>\u001b[0;34m\u001b[0m\n\u001b[0;32m----> 1\u001b[0;31m with rasterio.open(\n\u001b[0m\u001b[1;32m      2\u001b[0m     \u001b[0;34m'../temp/Z.tif'\u001b[0m\u001b[0;34m,\u001b[0m\u001b[0;34m\u001b[0m\u001b[0;34m\u001b[0m\u001b[0m\n\u001b[1;32m      3\u001b[0m     \u001b[0;34m'w'\u001b[0m\u001b[0;34m,\u001b[0m\u001b[0;34m\u001b[0m\u001b[0;34m\u001b[0m\u001b[0m\n\u001b[1;32m      4\u001b[0m     \u001b[0mdriver\u001b[0m\u001b[0;34m=\u001b[0m\u001b[0;34m'GTiff'\u001b[0m\u001b[0;34m,\u001b[0m\u001b[0;34m\u001b[0m\u001b[0;34m\u001b[0m\u001b[0m\n\u001b[1;32m      5\u001b[0m     \u001b[0mheight\u001b[0m\u001b[0;34m=\u001b[0m\u001b[0mZ\u001b[0m\u001b[0;34m.\u001b[0m\u001b[0mshape\u001b[0m\u001b[0;34m[\u001b[0m\u001b[0;36m0\u001b[0m\u001b[0;34m]\u001b[0m\u001b[0;34m,\u001b[0m\u001b[0;34m\u001b[0m\u001b[0;34m\u001b[0m\u001b[0m\n",
      "\u001b[0;31mNameError\u001b[0m: name 'rasterio' is not defined"
     ]
    }
   ],
   "source": [
    "with rasterio.open(\n",
    "    '../temp/Z.tif',\n",
    "    'w',\n",
    "    driver='GTiff',\n",
    "    height=Z.shape[0],\n",
    "    width=Z.shape[1],\n",
    "    count=1,\n",
    "    dtype=Z.dtype,\n",
    "    crs='+proj=latlong',\n",
    "    transform=transform,\n",
    ") as dst:\n",
    "    dst.write(Z, 1)"
   ]
  },
  {
   "cell_type": "markdown",
   "id": "irish-vanilla",
   "metadata": {},
   "source": [
    "All this info is stored in `dst` and then written to disk with `dst.write(Z,1)`. Where `write` gets the array of data `Z` and the band location to write to, in this case band `1`. This is a bit awkward, but I believe is a carryover from GDAL which rasterio relies on heavily (like all other platforms including arcmap etc). \n",
    "\n",
    "\n",
    "\n",
    "\n",
    "### The Crazy Tale of the Upper Left Hand Corner\n",
    "To help us understand what is going on it helps to work an example. For our example above we need to define the translate matrix that helps define the upper left hand corner of our rainfall raster data `Z`. In particular we need the upper left cell center to be located at (-90,90), so the upper left hand corner need to be 1/2 the resolution above and to the left of (-90,90), implying a location of (-105,105) since the resolution is 25 degrees.\n",
    "\n",
    "We can visualize what we need to do here: \n",
    "\n",
    "```{figure} ../_static/c_data_types/c_raster_upperleft_drawing.png\n",
    ":name: Example of using affine translation to shift the upper left hand corner\n",
    ":width: 500px\n",
    "Example of using translation to shift the upper left hand corner\n",
    "```\n",
    "\n",
    "Let's walk through the math behind the scenes. Here we use our transform matrix to move our upper left hand corner which is assumed to start at the origin (0,0).\n",
    "\n",
    "```{figure} ../_static/c_data_types/c_raster_upperleft_transform.png\n",
    ":name: Example of using affine translation of a matrix to shift the upper left hand corner\n",
    ":width: 500px\n",
    "Example of using affine translation of a matrix to shift the upper left hand corner\n",
    "```\n",
    "The final coordinate of the upper left hand corner are $(x_0,y_0) = (-105,105)$\n",
    "\n",
    "\n",
    "### Translate is a \"map\"\n",
    "Now here's the magic, our new `translate` matrix can be used to easily find the coordinates of any cell based on its row and column number. To see how if works, we are going to multiply our `translate` matrix by `(row_number, column_number)` to retrieve the coordinates of that cell's upper right hand corner. Essentially, `translate` \"maps\" row and column indexes to coordinates! OMG! This is fun... ok kidding, but it's useful. \n",
    "\n",
    " \n",
    "Let's see how we can calculate a few coordinates (upper left) based on the visual examples below:\n",
    "\n",
    "```{figure} ../_static/c_data_types/c_raster_raster.png\n",
    ":name: Example of using transform to identify coordinates based on row and column\n",
    ":width: 500px\n",
    "Example of using transform to identify coordinates based on row and column\n",
    "```\n",
    "Let's start with the easiest and retrieve the upper left corner coordinates based on `transform * (row_number, column_number)`:"
   ]
  },
  {
   "cell_type": "code",
   "execution_count": null,
   "id": "controlled-lexington",
   "metadata": {},
   "outputs": [],
   "source": [
    "print(transform*(0,0))"
   ]
  },
  {
   "cell_type": "markdown",
   "id": "classical-spring",
   "metadata": {},
   "source": [
    "Let's find the corner that is one cell down (-30&deg;) and to the right (+30&deg;)"
   ]
  },
  {
   "cell_type": "code",
   "execution_count": null,
   "id": "dense-support",
   "metadata": {},
   "outputs": [],
   "source": [
    "print(transform*(1,1))"
   ]
  },
  {
   "cell_type": "markdown",
   "id": "parental-aspect",
   "metadata": {},
   "source": [
    "Just to make sure it works let's find a harder one:"
   ]
  },
  {
   "cell_type": "code",
   "execution_count": null,
   "id": "consistent-circuit",
   "metadata": {},
   "outputs": [],
   "source": [
    "print(transform*(5,2))"
   ]
  },
  {
   "cell_type": "markdown",
   "id": "olive-honey",
   "metadata": {},
   "source": [
    "#### How transform works\n",
    "Let's work the example of finding the upper left coordinates of with `row=5`, `column=2`:\n",
    "\n",
    "$$\n",
    "   \\begin{eqnarray}\n",
    "      \\begin{bmatrix} 5 \\\\ 2 \\\\ 1 \\end{bmatrix}   \n",
    "      \\begin{bmatrix} \n",
    "          30 & 0 & -105 \\\\  \n",
    "          0 & -30 & 105 \\\\ \n",
    "          0 & 0 & 1 \n",
    "      \\end{bmatrix}  =\n",
    "      \\begin{bmatrix} \n",
    "          5 \\times 30 + 2 \\times 0 + 1 \\times -105  \\\\  \n",
    "          5 \\times 0 + 2 \\times -30 + 1 \\times 105 \\\\ \n",
    "          5 \\times 0 + 2 \\times 0 + 1 \\times 1  \n",
    "      \\end{bmatrix} = \n",
    "      \\begin{bmatrix} 45  \\\\  45 \\\\ 1  \\end{bmatrix}\n",
    "   \\end{eqnarray}\n",
    "$$\n",
    "\n",
    "Wow, it works! Come on it's at least a little bit cool. Depending on your definition of cool.\n",
    "\n",
    "## Warping Images (Reproject)\n",
    "How then do we reproject, or warp, a raster? Since `transform` is a map of pixel locations, warping a raster then becomes as simple as knowing the `transform` of your destination based on the description of the new coordinate reference system."
   ]
  }
 ],
 "metadata": {
  "jupytext": {
   "text_representation": {
    "extension": ".md",
    "format_name": "myst"
   }
  },
  "kernelspec": {
   "display_name": "Python 3",
   "language": "python",
   "name": "python3"
  },
  "language_info": {
   "codemirror_mode": {
    "name": "ipython",
    "version": 3
   },
   "file_extension": ".py",
   "mimetype": "text/x-python",
   "name": "python",
   "nbconvert_exporter": "python",
   "pygments_lexer": "ipython3",
   "version": "3.7.10"
  },
  "source_map": [
   10,
   38,
   53,
   69,
   72,
   74,
   79,
   82,
   93,
   95,
   103,
   106,
   109,
   122,
   161,
   163,
   165,
   167,
   169,
   171
  ]
 },
 "nbformat": 4,
 "nbformat_minor": 5
}