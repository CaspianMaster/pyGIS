{
 "cells": [
  {
   "cell_type": "markdown",
   "id": "complete-consistency",
   "metadata": {},
   "source": [
    "(d_raster_crs_intro)=\n",
    "\n",
    "\n",
    "\n",
    "\n",
    "----------------\n",
    "\n",
    "```{admonition} Learning Objectives\n",
    "Learning Objectives:\n",
    "- What is warping?\n",
    "- What is an affine transformation?\n",
    "```\n",
    "```{admonition} Review\n",
    "Please Review:\n",
    "* [Affine transformation](d_affine)\n",
    "```\n",
    "----------------\n",
    "\n",
    "\n",
    "\n",
    "\n",
    "# Raster CRS \n",
    " \n",
    "Here we create two `ndarray` objects one `X` spans [-90&deg;,90&deg;] longitude, and `Y` covers [-90&deg;,90&deg;] latitude."
   ]
  },
  {
   "cell_type": "code",
   "execution_count": 1,
   "id": "fifty-hardware",
   "metadata": {},
   "outputs": [
    {
     "data": {
      "text/plain": [
       "array([[-90., -54., -18.,  18.,  54.,  90.],\n",
       "       [-90., -54., -18.,  18.,  54.,  90.],\n",
       "       [-90., -54., -18.,  18.,  54.,  90.],\n",
       "       [-90., -54., -18.,  18.,  54.,  90.],\n",
       "       [-90., -54., -18.,  18.,  54.,  90.],\n",
       "       [-90., -54., -18.,  18.,  54.,  90.]])"
      ]
     },
     "execution_count": 1,
     "metadata": {},
     "output_type": "execute_result"
    }
   ],
   "source": [
    "import numpy as np\n",
    "x = np.linspace(-90, 90, 6)\n",
    "y = np.linspace(90, -90, 6)\n",
    "X, Y = np.meshgrid(x, y)\n",
    "X"
   ]
  },
  {
   "cell_type": "code",
   "execution_count": 2,
   "id": "contained-oklahoma",
   "metadata": {},
   "outputs": [
    {
     "data": {
      "text/plain": [
       "array([[ 90.,  90.,  90.,  90.,  90.,  90.],\n",
       "       [ 54.,  54.,  54.,  54.,  54.,  54.],\n",
       "       [ 18.,  18.,  18.,  18.,  18.,  18.],\n",
       "       [-18., -18., -18., -18., -18., -18.],\n",
       "       [-54., -54., -54., -54., -54., -54.],\n",
       "       [-90., -90., -90., -90., -90., -90.]])"
      ]
     },
     "execution_count": 2,
     "metadata": {},
     "output_type": "execute_result"
    }
   ],
   "source": [
    "Y"
   ]
  },
  {
   "cell_type": "markdown",
   "id": "trained-logistics",
   "metadata": {},
   "source": [
    "Let's generate some data representing temperature and store it an array `Z`"
   ]
  },
  {
   "cell_type": "code",
   "execution_count": 3,
   "id": "charming-warrior",
   "metadata": {},
   "outputs": [
    {
     "data": {
      "image/png": "[encoded data removed]",
      "text/plain": [
       "<Figure size 432x288 with 1 Axes>"
      ]
     },
     "metadata": {
      "filenames": {
       "image/png": "/home/mmann1123/Documents/github/pyGIS/pygis/_build/jupyter_execute/docs/d_raster_crs_intro_4_0.png"
      },
      "needs_background": "light"
     },
     "output_type": "display_data"
    }
   ],
   "source": [
    "import matplotlib.pyplot as plt\n",
    "\n",
    "Z1 =  np.abs(((X - 10) ** 2 + (Y - 10) ** 2) / 1 ** 2)\n",
    "Z2 =  np.abs(((X + 10) ** 2 + (Y + 10) ** 2) / 2.5 ** 2)\n",
    "Z =  (Z1 - Z2)\n",
    "\n",
    "plt.imshow(Z)\n",
    "plt.title(\"Temperature\")\n",
    "plt.show()"
   ]
  },
  {
   "cell_type": "markdown",
   "id": "bright-abraham",
   "metadata": {},
   "source": [
    "## Describing the Array Location\n",
    "In this example the coordinate reference system will be '+proj=latlong', which describes an equirectangular coordinate reference system with units of decimal degrees. Although `X` and `Y` seems relevant to understanding the location of cell values, `rasterio` instead uses affine transformations instead. Affine transforms uses matrix algebra to describe where a cell is located (translation) and what its resolution is (scale). [Review affine transformations](d_affine_trans_scale) and [see an example here](d_affine_trans).\n",
    "\n",
    "The affine transformation matrix can be computed from the matrix product of a translation (moving N,S,E,W) and a scaling (resolution). First, we start with translation where $\\Delta x$ and $\\Delta y$ define the location of the upper left hand corner of our new `Z` ndarray. As a reminder the translation matrix takes the form:\n",
    "\n",
    "$$\n",
    "   \\begin{eqnarray}\n",
    "     \\mbox{Translate} =  \\begin{bmatrix} 1 & 0 & \\Delta x \\\\  0 & 1 & \\Delta y \\\\ 0 & 0 & 1 \\end{bmatrix}  \n",
    "   \\end{eqnarray}\n",
    "$$\n",
    "\n",
    "Now we can define our translation matrix using the point coordinates (`x[0]`,`y[0]`), but these need to be offset by 1/2 the resolution so that the cell is centered over the coodinate (-90,90). Notice however there are some difference between the x and y resolution:\n",
    "\n",
    "Both arrays have the same spatial resolution"
   ]
  },
  {
   "cell_type": "code",
   "execution_count": 4,
   "id": "cardiac-harvey",
   "metadata": {},
   "outputs": [
    {
     "data": {
      "text/plain": [
       "30.0"
      ]
     },
     "execution_count": 4,
     "metadata": {},
     "output_type": "execute_result"
    }
   ],
   "source": [
    "xres = (x[-1] - x[0]) / len(x)\n",
    "xres"
   ]
  },
  {
   "cell_type": "markdown",
   "id": "yellow-editing",
   "metadata": {},
   "source": [
    "But notice that the y resolution is negative:"
   ]
  },
  {
   "cell_type": "code",
   "execution_count": 5,
   "id": "handy-southwest",
   "metadata": {},
   "outputs": [
    {
     "data": {
      "text/plain": [
       "-30.0"
      ]
     },
     "execution_count": 5,
     "metadata": {},
     "output_type": "execute_result"
    }
   ],
   "source": [
    "yres = (y[-1] - y[0]) / len(y)\n",
    "yres"
   ]
  },
  {
   "cell_type": "code",
   "execution_count": 6,
   "id": "extreme-accuracy",
   "metadata": {},
   "outputs": [
    {
     "name": "stdout",
     "output_type": "stream",
     "text": [
      "| 1.00, 0.00,-105.00|\n",
      "| 0.00, 1.00, 105.00|\n",
      "| 0.00, 0.00, 1.00|\n"
     ]
    }
   ],
   "source": [
    "from rasterio.transform import Affine\n",
    "print(Affine.translation(x[0] - xres / 2, y[0] - yres / 2))"
   ]
  },
  {
   "cell_type": "markdown",
   "id": "protecting-greece",
   "metadata": {},
   "source": [
    "We also need to scale our data based on the resolution of each cell, the scale matrix takes the following form:\n",
    "\n",
    "$$\n",
    "   \\begin{eqnarray}\n",
    "   \\mbox{Scale} = \\begin{bmatrix} xres & 0 & 0 \\\\ 0 & yres & 0 \\\\ 0 & 0 & 1 \\end{bmatrix} \n",
    "   \\end{eqnarray}\n",
    "$$"
   ]
  },
  {
   "cell_type": "code",
   "execution_count": 7,
   "id": "sized-metro",
   "metadata": {},
   "outputs": [
    {
     "name": "stdout",
     "output_type": "stream",
     "text": [
      "| 30.00, 0.00, 0.00|\n",
      "| 0.00,-30.00, 0.00|\n",
      "| 0.00, 0.00, 1.00|\n"
     ]
    }
   ],
   "source": [
    "print(Affine.scale(xres, yres))"
   ]
  },
  {
   "cell_type": "markdown",
   "id": "laughing-racing",
   "metadata": {},
   "source": [
    "We can do both operations simultaneously in a new `transform` matrix by calculating the product of the Translate and Scale matrix: \n",
    "\n",
    "$$\n",
    "    \\mbox{Translate} \\cdot \\mbox{Scale} =  \\begin{bmatrix} xres & 0 & \\Delta x \\\\ 0 & yres & \\Delta y \\\\ 0 & 0 & 1 \\end{bmatrix} \n",
    "$$"
   ]
  },
  {
   "cell_type": "code",
   "execution_count": 8,
   "id": "immediate-slovenia",
   "metadata": {},
   "outputs": [
    {
     "name": "stdout",
     "output_type": "stream",
     "text": [
      "| 30.00, 0.00,-105.00|\n",
      "| 0.00,-30.00, 105.00|\n",
      "| 0.00, 0.00, 1.00|\n"
     ]
    }
   ],
   "source": [
    "transform = Affine.translation(x[0] - xres / 2, y[0] - yres / 2) * Affine.scale(xres, yres)\n",
    "print(transform)"
   ]
  },
  {
   "cell_type": "markdown",
   "id": "designed-melissa",
   "metadata": {},
   "source": [
    "### The Crazy Tale of the Upper Left Hand Corner\n",
    "To help us understand what is going on it helps to work an example. For our example above we need to define the translate matrix that helps define the upper left hand corner of our rainfall raster data `Z`. In particular we need the upper left cell center to be located at (-90,90), so the upper left hand corner need to be 1/2 the resolution above and to the right of (-90,90), implying a location of (-105,105) since the resolution is 25 degrees.\n",
    "\n",
    "We can visualize what we need to do here: \n",
    "\n",
    "```{figure} ../_static/c_data_types/c_raster_upperleft_drawing.png\n",
    ":name: Example of using affine translation to shift the upper left hand corner\n",
    ":width: 500px\n",
    "Example of using translation to shift the upper left hand corner\n",
    "```\n",
    "\n",
    "Let's walk through the math behind the scenes. Here we use our transform matrix to move our upper left hand corner which is assumed to start at the origin (0,0).\n",
    "\n",
    "```{figure} ../_static/c_data_types/c_raster_upperleft_transform.png\n",
    ":name: Example of using affine translation of a matrix to shift the upper left hand corner\n",
    ":width: 500px\n",
    "Example of using affine translation of a matrix to shift the upper left hand corner\n",
    "```\n",
    "The final coordinate of the upper left hand corner are $(x_0,y_0) = (-105,105)$\n",
    "\n",
    "### Translate is a \"map\"\n",
    "Now here's the magic, our new `translate` matrix can be used to easily find the coordinates of any cell based on its row and column number. Just to see how if works, we are going to multiply our `translate` matrix by `(row_number, column_number)` to retrieve the coordinates of that cell's upper right hand corner. Essentially, `translate` \"maps\" row and column indexes to coordinates! OMG! This is fun... ok kidding, but it's useful. \n",
    " \n",
    "Let's see how we can calculate a few coordinates (upper left) based on the visual examples below:\n",
    "\n",
    "```{figure} ../_static/c_data_types/c_raster_raster.png\n",
    ":name: Example of using translate to identify coordinates based on row and column\n",
    ":width: 500px\n",
    "Example of using translate to identify coordinates based on row and column\n",
    "```\n",
    "Let's start with the easiest and retreive the upper left corner coordinates based on `translate * (row_number, column_number)`:"
   ]
  },
  {
   "cell_type": "code",
   "execution_count": 9,
   "id": "virgin-reward",
   "metadata": {},
   "outputs": [
    {
     "name": "stdout",
     "output_type": "stream",
     "text": [
      "(-105.0, 105.0)\n"
     ]
    }
   ],
   "source": [
    "print(transform*(0,0))"
   ]
  },
  {
   "cell_type": "markdown",
   "id": "hungry-teach",
   "metadata": {},
   "source": [
    "Let's find the corner that is one cell down (-30&deg;) and to the right (+30&deg;)"
   ]
  },
  {
   "cell_type": "code",
   "execution_count": 10,
   "id": "veterinary-elite",
   "metadata": {},
   "outputs": [
    {
     "name": "stdout",
     "output_type": "stream",
     "text": [
      "(-75.0, 75.0)\n"
     ]
    }
   ],
   "source": [
    "print(transform*(1,1))"
   ]
  },
  {
   "cell_type": "markdown",
   "id": "numerous-insider",
   "metadata": {},
   "source": [
    "Just to make sure it works let's find a harder one:"
   ]
  },
  {
   "cell_type": "code",
   "execution_count": 11,
   "id": "temporal-resort",
   "metadata": {},
   "outputs": [
    {
     "name": "stdout",
     "output_type": "stream",
     "text": [
      "(45.0, 45.0)\n"
     ]
    }
   ],
   "source": [
    "print(transform*(5,2))"
   ]
  },
  {
   "cell_type": "markdown",
   "id": "realistic-witch",
   "metadata": {},
   "source": [
    "#### How translate works\n",
    "Let's work the example of finding the upper left coordinates of with `row=5`, `column=2`:\n",
    "\n",
    "$$\n",
    "   \\begin{eqnarray}\n",
    "      \\begin{bmatrix} 5 \\\\ 2 \\\\ 1 \\end{bmatrix}   \n",
    "      \\begin{bmatrix} \n",
    "          30 & 0 & -105 \\\\  \n",
    "          0 & -30 & 105 \\\\ \n",
    "          0 & 0 & 1 \n",
    "      \\end{bmatrix}  =\n",
    "      \\begin{bmatrix} \n",
    "          5 \\times 30 + 2 \\times 0 + 1 \\times -105  \\\\  \n",
    "          5 \\times 0 + 2 \\times -30 + 1 \\times 105 \\\\ \n",
    "          5 \\times 0 + 2 \\times 0 + 1 \\times 1  \n",
    "      \\end{bmatrix} = \n",
    "      \\begin{bmatrix} 45  \\\\  45 \\\\ 1  \\end{bmatrix}\n",
    "   \\end{eqnarray}\n",
    "$$\n",
    "\n",
    "Wow, it works! Come on it's at least a little bit cool. Depending on your defintion of cool.\n",
    "\n",
    "## Warping Images"
   ]
  }
 ],
 "metadata": {
  "jupytext": {
   "text_representation": {
    "extension": ".md",
    "format_name": "myst"
   }
  },
  "kernelspec": {
   "display_name": "Python 3",
   "language": "python",
   "name": "python3"
  },
  "language_info": {
   "codemirror_mode": {
    "name": "ipython",
    "version": 3
   },
   "file_extension": ".py",
   "mimetype": "text/x-python",
   "name": "python",
   "nbconvert_exporter": "python",
   "pygments_lexer": "ipython3",
   "version": "3.7.10"
  },
  "source_map": [
   10,
   37,
   45,
   47,
   50,
   60,
   76,
   79,
   81,
   86,
   89,
   100,
   102,
   110,
   113,
   146,
   148,
   150,
   152,
   154,
   156
  ]
 },
 "nbformat": 4,
 "nbformat_minor": 5
}