{
 "cells": [
  {
   "cell_type": "markdown",
   "id": "dutch-asset",
   "metadata": {},
   "source": [
    "(d_vector_crs_intro)=\n",
    "\n",
    "----------------\n",
    "\n",
    "```{admonition} Learning Objectives\n",
    "- How to reproject vector data\n",
    "- How does affine transforms relate to reprojection?\n",
    "```\n",
    "```{admonition} Review\n",
    "* [Affine transformation](d_affine)\n",
    "* [Creating Points, Lines, Polygons](e_new_vectors)\n",
    "```\n",
    "----------------\n",
    "\n",
    "# Vector CRS \n",
    "When it comes to coordinate reference systems points, lines and polygons are convenient because each point or node has an assigned coordinate pair (x,y). The only trick then is to know how those coordinates relate to the coordinate space, or location on the ground. \n",
    "\n",
    "## Define a Projection for Points, Lines, Polygons\n",
    "When a point, line or polyon is created each point or node has two coordinates `x` and `y`. The location of these two points on the ground will change wildly between projections. The coordinate pair (0,0) might mean a location just off shore from Ghana with WGS84 LatLon, or in the middle of the Pacific ocean in another. \n",
    "\n",
    "Let's take a look at the example of a polygon with coordinates (0,45),(5,45),(5,40),(0,40) below. In the left pane we can see that, although we have the polygon's node coordinates, we don't know where they are located! This is because no coordinate reference system has been assigned to it. Could be in outer space for all we know. On the right, we can see that we have assigned it WGS84 geographic lat lon i.e. `EPSG:4326`. Suddenly the coordinates make sense, because we know how they relate to locations on the ground.   \n",
    "\n",
    "```{figure} ../_static/d_crs/d_crs_assigned.png\n",
    ":name: Example of assigning a coordinate reference system\n",
    ":width: 700px\n",
    "Example of assigning a coordinate reference system\n",
    "```\n",
    "Every time we create vector data (or receive it from someone else), we need to make sure that a projection is assigned to it. \n",
    "\n",
    "The following demonstrates how to"
   ]
  },
  {
   "cell_type": "code",
   "execution_count": 1,
   "id": "parental-exhaust",
   "metadata": {},
   "outputs": [
    {
     "data": {
      "image/png": "[encoded data removed]",
      "text/plain": [
       "<Figure size 864x432 with 1 Axes>"
      ]
     },
     "metadata": {
      "filenames": {
       "image/png": "/home/mmann1123/Documents/github/pyGIS/pygis/_build/jupyter_execute/docs/d_vector_crs_intro_1_0.png"
      },
      "needs_background": "light"
     },
     "output_type": "display_data"
    }
   ],
   "source": [
    "import geopandas as gpd\n",
    "from shapely.geometry import Point, Polygon\n",
    "import matplotlib.pyplot as plt\n",
    "plt.style.use('bmh')  \n",
    "\n",
    "a_square = {'name': ['Washington\\n(38.90, -77.03)' ], \n",
    "     'geometry': [Polygon([Point(0,45), Point(5,45), Point(5,40), Point(0,40)])]}\n",
    "\n",
    "# create a dataframe from the nodes and assign the CRS\n",
    "gdf_square = gpd.GeoDataFrame(a_square, crs=\"EPSG:4326\")  \n",
    "fig, ax = plt.subplots(figsize=(12, 6))\n",
    "gdf_square.plot(ax=ax)\n",
    "plt.show()"
   ]
  },
  {
   "cell_type": "markdown",
   "id": "sporting-tours",
   "metadata": {},
   "source": [
    "```{note}\n",
    "Take a moment to review proj4 string and EPSG codes [here](d_understand_crs_codes)\n",
    "```\n",
    " \n",
    "## Reproject Points, Lines, Polygons\n",
    "Once a projection is assigned we often have to 'reproject' it to another one. Reprojection entails using a set of formulas to convert (x,y) stored in latitude and longitude into another coordinate space. This entails a two step process. \n",
    "\n",
    "Looking at the example below, we will move from Sinosoidal to Hobo-Dyer. The first step however is to use the \"inverse equation\" to convert coordinate pairs from Sinosoidal back to lat lon, and the use the forward equation to convert lat lon into the Hobo-Dyer coordinate space. \n",
    "\n",
    "```{figure} ../_static/d_crs/d_reprojection_example.jpg\n",
    ":name: Reprojecting vectors with inverse and forward equations\n",
    ":width: 500px\n",
    "Reprojecting vectors with inverse and forward equations\n",
    "```\n",
    "\n",
    "<!-- Affine transformations allows us to use simple systems of linear equations to manipulate any point or set of points. It allows us to move, stretch, or even rotate a point or set of points. In this case it is used to move and reshape vector data (point, lines, polygons). In this case we will learn how affine transforms are used to reproject data. -->\n",
    "\n",
    "These 'forward' and 'inverse' equations can be simple or complex. To make things easy to understand lets look at the example of reprojecting from proj4 code `+proj=longlat +datum=WGS84` to `+proj=longlat +datum=WGS84 +lon_0=-10`, where `+lon_0=-10` just moves the prime meridian 10 degrees west (west is negative). Because we are already in latitude and longitude we can ignore the 'inverse' equation and just look at the 'forward' equation. \n",
    "\n",
    "In this case the 'forward' equation is very simple:\n",
    "\n",
    "$$\n",
    "x = x + 10 \n",
    "$$\n",
    "\n",
    "$$\n",
    "y = y\n",
    "$$\n",
    "\n",
    "As result the polygon remains in the same location, but in the 'new' projection longitude values are now all 10 degrees higher. \n",
    "\n",
    "```{figure} ../_static/d_crs/d_europe_translate_vector.png\n",
    ":name: Reprojecting by moving the prime meridian west\n",
    ":width: 500px\n",
    "Reprojecting by moving the prime meridian west\n",
    "```\n",
    "Most 'forward' and 'inverse' equations are non-linear and more complex. Take for instance the Gall-Peters forward projection equations are shown below: \n",
    "\n",
    "$$\n",
    "x=\\frac {R\\pi \\lambda \\cos 45^{\\circ }}{180^{\\circ }}\n",
    "$$\n",
    "\n",
    "$$\n",
    "y={\\frac {R\\sin \\varphi }{\\cos 45^{\\circ }}} \n",
    "$$\n",
    "\n",
    "where $\\lambda$ is the longitude from the central meridian in degrees, $\\varphi$ is the latitude, and R is the radius of the globe used as the model of the earth for projection. Luckily computers make all these calculation quick and easy. \n",
    "\n",
    "Refering back to our previous example, let's use geopandas to move the prime meridian 10 degrees west:"
   ]
  },
  {
   "cell_type": "code",
   "execution_count": 2,
   "id": "planned-priest",
   "metadata": {},
   "outputs": [
    {
     "data": {
      "image/png": "[encoded data removed]",
      "text/plain": [
       "<Figure size 864x432 with 1 Axes>"
      ]
     },
     "metadata": {
      "filenames": {
       "image/png": "/home/mmann1123/Documents/github/pyGIS/pygis/_build/jupyter_execute/docs/d_vector_crs_intro_3_0.png"
      },
      "needs_background": "light"
     },
     "output_type": "display_data"
    }
   ],
   "source": [
    "# reproject the data\n",
    "gdf_square_10w = gdf_square.to_crs(\"+proj=longlat +datum=WGS84 +lon_0=-10\")\n",
    "\n",
    "fig, ax = plt.subplots(figsize=(12, 6))\n",
    "gdf_square_10w.plot(ax=ax)\n",
    "plt.show()"
   ]
  },
  {
   "cell_type": "markdown",
   "id": "worst-crown",
   "metadata": {},
   "source": [
    "Note the shift in coordinates along x by 10.\n",
    "\n",
    "<!--\n",
    "https://kartoweb.itc.nl/geometrics/Coordinate%20transformations/coordtrans.html\n",
    "\n",
    " https://geopandas.org/gallery/plotting_with_geoplot.html\n",
    "\n",
    "https://geocompr.robinlovelace.net/geometric-operations.html\n",
    " In this section we will learn how to reproject vector data:\n",
    "\n",
    "\n",
    " Affine transformation is any transformation that preserves lines and parallelism. However, angles or length are not necessarily preserved. Affine transformations include, among others, shifting (translation), scaling and rotation. Additionally, it is possible to use any combination of these. Affine transformations are an essential part of geocomputation. For example, shifting is needed for labels placement, scaling is used in non-contiguous area cartograms (see Section 8.6), and many affine transformations are applied when reprojecting or improving the geometry that was created based on a distorted or wrongly projected map. The sf package implements affine transformation for objects of classes sfg and sfc.\n",
    "\n",
    "nz_sfc = st_geometry(nz)\n",
    "\n",
    "Shifting moves every point by the same distance in map units. It could be done by adding a numerical vector to a vector object. For example, the code below shifts all y-coordinates by 100,000 meters to the north, but leaves the x-coordinates untouched (left panel of Figure 5.5).\n",
    "\n",
    "nz_shift = nz_sfc + c(0, 100000)\n",
    "\n",
    "Scaling enlarges or shrinks objects by a factor. It can be applied either globally or locally. Global scaling increases or decreases all coordinates values in relation to the origin coordinates, while keeping all geometries topological relations intact. It can be done by subtraction or multiplication of asfg or sfc object.\n",
    "\n",
    "Local scaling treats geometries independently and requires points around which geometries are going to be scaled, e.g., centroids. In the example below, each geometry is shrunk by a factor of two around the centroids (middle panel in Figure 5.5). To achieve that, each object is firstly shifted in a way that its center has coordinates of 0, 0 ((nz_sfc - nz_centroid_sfc)). Next, the sizes of the geometries are reduced by half (* 0.5). Finally, each object’s centroid is moved back to the input data coordinates (+ nz_centroid_sfc).\n",
    "\n",
    "nz_centroid_sfc = st_centroid(nz_sfc)\n",
    "nz_scale = (nz_sfc - nz_centroid_sfc) * 0.5 + nz_centroid_sfc\n",
    "\n",
    "Rotation of two-dimensional coordinates requires a rotation matrix:\n",
    "\n",
    "R=[cosθ−sinθsinθcosθ]\n",
    "\n",
    "It rotates points in a clockwise direction. The rotation matrix can be implemented in R as:\n",
    "\n",
    "rotation = function(a){\n",
    "  r = a * pi / 180 #degrees to radians\n",
    "  matrix(c(cos(r), sin(r), -sin(r), cos(r)), nrow = 2, ncol = 2)\n",
    "} \n",
    "\n",
    "The rotation function accepts one argument a - a rotation angle in degrees. Rotation could be done around selected points, such as centroids (right panel of Figure 5.5). See vignette(\"sf3\") for more examples.\n",
    "\n",
    "nz_rotate = (nz_sfc - nz_centroid_sfc) * rotation(30) + nz_centroid_sfc\n",
    "\n",
    "Illustrations of affine transformations: shift, scale and rotate.\n",
    "\n",
    "FIGURE 5.5: Illustrations of affine transformations: shift, scale and rotate.\n",
    "\n",
    "Finally, the newly created geometries can replace the old ones with the st_set_geometry() function:\n",
    "\n",
    "nz_scale_sf = st_set_geometry(nz, nz_scale) -->"
   ]
  }
 ],
 "metadata": {
  "jupytext": {
   "text_representation": {
    "extension": ".md",
    "format_name": "myst"
   }
  },
  "kernelspec": {
   "display_name": "Python 3",
   "language": "python",
   "name": "python3"
  },
  "language_info": {
   "codemirror_mode": {
    "name": "ipython",
    "version": 3
   },
   "file_extension": ".py",
   "mimetype": "text/x-python",
   "name": "python",
   "nbconvert_exporter": "python",
   "pygments_lexer": "ipython3",
   "version": "3.7.10"
  },
  "source_map": [
   10,
   43,
   57,
   109,
   116
  ]
 },
 "nbformat": 4,
 "nbformat_minor": 5
}