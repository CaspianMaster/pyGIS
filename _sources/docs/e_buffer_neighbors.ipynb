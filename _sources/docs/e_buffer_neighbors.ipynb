{
 "cells": [
  {
   "cell_type": "markdown",
   "id": "1b9f10d1",
   "metadata": {},
   "source": [
    "----------------\n",
    "\n",
    "```{admonition} Learning Objectives\n",
    "* Do distance/proximity based analysis for points, lines, polygons\n",
    "* Create buffers\n",
    "* Get nearest neighbors\n",
    "```\n",
    "```{admonition} Review\n",
    "* [Geospatial Vector Data](c_vectors.md)\n",
    "* [Attributes & Indexing for Vector Data](e_attributes.md)\n",
    "* [Creating Geospatial Vector Data](e_new_vectors.md)\n",
    "```\n",
    "----------------\n",
    "\n",
    "# Proximity Analysis - Buffers, Nearest Neighbor \n",
    "In this chapter we are going to dig into some of the most common geospatial operations. After this section you will be able to answer simple questions like \"where is the nearest wendy's?\", \"Are there any homes within 50 yards of a highway?\".\n",
    " \n",
    "\n",
    "## Buffer Analysis\n",
    "First, we will import the necessary modules and create two lines (click the + below to show code cell)."
   ]
  },
  {
   "cell_type": "code",
   "execution_count": 1,
   "id": "b66d88d1",
   "metadata": {},
   "outputs": [],
   "source": [
    "# Import modules\n",
    "import pandas as pd\n",
    "import geopandas as gpd\n",
    "from shapely.geometry import Point, LineString, Polygon\n",
    "from io import StringIO \n",
    "\n",
    "data = \"\"\"\n",
    "ID,X,Y\n",
    "1,  -87.789,  41.976\n",
    "1,  -87.482,  41.677\n",
    "2,  -87.599,  41.908\n",
    "2,  -87.598,  41.708\n",
    "2,  -87.643,  41.675\n",
    "\"\"\"\n",
    "# use StringIO to read in text chunk\n",
    "df = pd.read_table(StringIO(data), sep=',')\n",
    "\n",
    "#zip the coordinates into a point object and convert to a GeoData Frame\n",
    "points = [Point(xy) for xy in zip(df.X, df.Y)]\n",
    "points = gpd.GeoDataFrame(df, geometry=points, crs = 'EPSG:4326')\n",
    "# create line for each ID \n",
    "lines = points.groupby(['ID'])['geometry'].apply(lambda x:  LineString(x.tolist()))\n",
    "lines = gpd.GeoDataFrame(lines, geometry='geometry', crs=\"EPSG:4326\") \n",
    "lines.reset_index(inplace=True)\n"
   ]
  },
  {
   "cell_type": "markdown",
   "id": "7b7c9bc7",
   "metadata": {},
   "source": [
    "Let's take a look at the data."
   ]
  },
  {
   "cell_type": "code",
   "execution_count": 2,
   "id": "cd17e45b",
   "metadata": {},
   "outputs": [
    {
     "data": {
      "text/plain": [
       "<AxesSubplot:>"
      ]
     },
     "execution_count": 2,
     "metadata": {},
     "output_type": "execute_result"
    },
    {
     "data": {
      "image/png": "[encoded data removed]",
      "text/plain": [
       "<Figure size 432x288 with 1 Axes>"
      ]
     },
     "metadata": {
      "filenames": {
       "image/png": "/home/mmann1123/Documents/github/pyGIS/pygis/_build/jupyter_execute/docs/e_buffer_neighbors_3_1.png"
      },
      "needs_background": "light"
     },
     "output_type": "display_data"
    }
   ],
   "source": [
    "# plot county outline and add wells to axis (ax)\n",
    "lines.plot(column='ID')"
   ]
  },
  {
   "cell_type": "markdown",
   "id": "6378b2b0",
   "metadata": {},
   "source": [
    "```{important} NEVER do distance analysis with unprojeted data (e.g. lat lon). Distances are best not measured in degrees! Instead use .to_crs() to convert it to a projected coordinate system with a linear unit in feet or meters etc.\n",
    "```\n",
    "\n",
    "Although it is not clearly stated the `distance` parameter is measured in the linear unit of the projection. So before we get started we need to make sure to use `to_crs()` to convert to a projected coordinate system."
   ]
  },
  {
   "cell_type": "code",
   "execution_count": 3,
   "id": "8627f981",
   "metadata": {},
   "outputs": [
    {
     "name": "stdout",
     "output_type": "stream",
     "text": [
      "[Axis(name=Easting, abbrev=X, direction=east, unit_auth_code=EPSG, unit_code=9001, unit_name=metre), Axis(name=Northing, abbrev=Y, direction=north, unit_auth_code=EPSG, unit_code=9001, unit_name=metre)]\n"
     ]
    }
   ],
   "source": [
    "# plot county outline and add wells to axis (ax)\n",
    "lines = lines.to_crs(3857)\n",
    "# check the linear unit name in `unit_name`.\n",
    "print(lines.crs.axis_info)"
   ]
  },
  {
   "cell_type": "markdown",
   "id": "f16f2f9e",
   "metadata": {},
   "source": [
    "Starting from two lines we can start playing around with the buffer function. You can read the docs for the buffer function, unfortunately is split between two docs [geopandas](https://geopandas.org/en/stable/docs/reference/api/geopandas.GeoSeries.buffer.html) and [shapely](https://shapely.readthedocs.io/en/latest/manual.html#object.buffer)."
   ]
  },
  {
   "cell_type": "code",
   "execution_count": 4,
   "id": "c9e78ab0",
   "metadata": {},
   "outputs": [
    {
     "name": "stdout",
     "output_type": "stream",
     "text": [
      "0    POLYGON ((-9737657.488 5113325.388, -9737601.7...\n",
      "1    POLYGON ((-9750364.761 5117342.850, -9750369.3...\n",
      "dtype: geometry\n"
     ]
    },
    {
     "data": {
      "image/png": "[encoded data removed]",
      "text/plain": [
       "<Figure size 432x288 with 1 Axes>"
      ]
     },
     "metadata": {
      "filenames": {
       "image/png": "/home/mmann1123/Documents/github/pyGIS/pygis/_build/jupyter_execute/docs/e_buffer_neighbors_7_1.png"
      },
      "needs_background": "light"
     },
     "output_type": "display_data"
    }
   ],
   "source": [
    "buf = lines.buffer(distance = 1000)\n",
    "bp = buf.plot()\n",
    "lines.plot(ax=bp, color='red')\n",
    "print(buf)"
   ]
  },
  {
   "cell_type": "markdown",
   "id": "b7a8122d",
   "metadata": {},
   "source": [
    "Notice that we now have to polygon GEOMETRIES. This no longer has the line attributes associated with it. If we want to add back the attribute data we need to replace the original geometry column with new buffer geometry values."
   ]
  },
  {
   "cell_type": "code",
   "execution_count": 5,
   "id": "7816e8d0",
   "metadata": {},
   "outputs": [
    {
     "name": "stdout",
     "output_type": "stream",
     "text": [
      "   ID                                           geometry\n",
      "0   1  POLYGON ((-9737657.488 5113325.388, -9737601.7...\n",
      "1   2  POLYGON ((-9750364.761 5117342.850, -9750369.3...\n"
     ]
    }
   ],
   "source": [
    "line_buffer = lines.copy()\n",
    "line_buffer['geometry'] = buf\n",
    "print(line_buffer)"
   ]
  },
  {
   "cell_type": "markdown",
   "id": "7235fb63",
   "metadata": {},
   "source": [
    "There are a number of other parameters available to use, namely `cap_style`, and `single_sided`."
   ]
  },
  {
   "cell_type": "code",
   "execution_count": 6,
   "id": "4802719d",
   "metadata": {},
   "outputs": [
    {
     "data": {
      "text/plain": [
       "<AxesSubplot:>"
      ]
     },
     "execution_count": 6,
     "metadata": {},
     "output_type": "execute_result"
    },
    {
     "data": {
      "image/png": "[encoded data removed]",
      "text/plain": [
       "<Figure size 432x288 with 1 Axes>"
      ]
     },
     "metadata": {
      "filenames": {
       "image/png": "/home/mmann1123/Documents/github/pyGIS/pygis/_build/jupyter_execute/docs/e_buffer_neighbors_11_1.png"
      },
      "needs_background": "light"
     },
     "output_type": "display_data"
    }
   ],
   "source": [
    "buf = lines.buffer(distance = 3000, cap_style = 2)\n",
    "bp = buf.plot()\n",
    "lines.plot(ax=bp, color='red')"
   ]
  },
  {
   "cell_type": "markdown",
   "id": "ed3b2948",
   "metadata": {},
   "source": [
    "```{table} Buffer caps can be different shapes\n",
    ":name: cap_style\n",
    "\n",
    "| attribute | value |\n",
    "|---|---|\n",
    "| round | 1 |\n",
    "| flat  | 2 |\n",
    "| square | 3 |\n",
    "```\n",
    "\n",
    "We can also create left or right side buffers. Use negative distances for left, and positive values for right."
   ]
  },
  {
   "cell_type": "code",
   "execution_count": 7,
   "id": "62d467b7",
   "metadata": {},
   "outputs": [
    {
     "data": {
      "text/plain": [
       "<AxesSubplot:>"
      ]
     },
     "execution_count": 7,
     "metadata": {},
     "output_type": "execute_result"
    },
    {
     "data": {
      "image/png": "[encoded data removed]",
      "text/plain": [
       "<Figure size 432x288 with 1 Axes>"
      ]
     },
     "metadata": {
      "filenames": {
       "image/png": "/home/mmann1123/Documents/github/pyGIS/pygis/_build/jupyter_execute/docs/e_buffer_neighbors_13_1.png"
      },
      "needs_background": "light"
     },
     "output_type": "display_data"
    }
   ],
   "source": [
    "buf_right = lines.buffer(distance = 3000, single_sided = True)\n",
    "bp = buf_right.plot(color='green')\n",
    "\n",
    "buf_left = lines.buffer(distance = -1500, single_sided = True)\n",
    "buf_left.plot(ax=bp, color='purple')\n",
    "lines.plot(ax=bp, color='white')"
   ]
  },
  {
   "cell_type": "markdown",
   "id": "1ac38f40",
   "metadata": {},
   "source": [
    " \n",
    "## Nearest Neighbor Analysis\n",
    "\n",
    "One commonly used GIS task is to be able to find the nearest neighbor. For instance, you might have a single Point object representing your home location, and then another set of locations representing e.g. public transport stops. Then, quite typical question is *\"which of the stops is closest one to my home?\"* This is a typical nearest neighbor analysis, where the aim is to find the closest geometry to another geometry. [^gpd_clip]\n",
    "\n",
    "In Python this kind of analysis can be done with shapely function called `nearest_points()` that returns a tuple of the [nearest points](https://shapely.readthedocs.io/en/latest/manual.html#shapely.ops.nearest_points) in the input geometries.\n",
    "\n",
    "### Nearest point using Shapely\n",
    "\n",
    "Let's start by testing how we can find the nearest Point using the `nearest_points` function of Shapely.\n",
    "\n",
    "Let's create an origin Point and a few destination Points and find out the closest destination."
   ]
  },
  {
   "cell_type": "code",
   "execution_count": 8,
   "id": "ee26227a",
   "metadata": {},
   "outputs": [],
   "source": [
    "from shapely.geometry import Point, MultiPoint\n",
    "from shapely.ops import nearest_points\n",
    "\n",
    "orig = Point(1, 1.67)\n",
    "dest1, dest2, dest3 = Point(0, 1.45), Point(2, 2), Point(0, 2.5)\n"
   ]
  },
  {
   "cell_type": "markdown",
   "id": "7909b57a",
   "metadata": {},
   "source": [
    "To be able to find out the closest destination point from the origin, we need to create a MultiPoint object from the destination points."
   ]
  },
  {
   "cell_type": "code",
   "execution_count": 9,
   "id": "80c3d480",
   "metadata": {},
   "outputs": [
    {
     "name": "stdout",
     "output_type": "stream",
     "text": [
      "MULTIPOINT (0 1.45, 2 2, 0 2.5)\n"
     ]
    }
   ],
   "source": [
    "destinations = MultiPoint([dest1, dest2, dest3])\n",
    "print(destinations)"
   ]
  },
  {
   "cell_type": "markdown",
   "id": "be0ea72d",
   "metadata": {},
   "source": [
    "Okey, now we can see that all the destination points are represented as a single MultiPoint object. Now we can find out the nearest destination point by using `nearest_points()` function."
   ]
  },
  {
   "cell_type": "code",
   "execution_count": 10,
   "id": "c3f13c94",
   "metadata": {},
   "outputs": [
    {
     "name": "stdout",
     "output_type": "stream",
     "text": [
      "(<shapely.geometry.point.Point object at 0x7f8f18f84050>, <shapely.geometry.point.Point object at 0x7f8f18e82b50>)\n",
      "Coordinates of original point: POINT (1 1.67)\n",
      "Coordinates of closest destination point: POINT (0 1.45)\n"
     ]
    }
   ],
   "source": [
    "nearest_geoms = nearest_points(orig, destinations)\n",
    "original_point, nearest_destination = nearest_geoms\n",
    "print(nearest_geoms)\n",
    "print('Coordinates of original point:',original_point)\n",
    "print('Coordinates of closest destination point:',nearest_destination)"
   ]
  },
  {
   "cell_type": "markdown",
   "id": "443bc23c",
   "metadata": {},
   "source": [
    "As you can see the `nearest_points` function returns a tuple of geometries where the first item is the geometry of our origin point and the second item (at index 1) is the actual nearest geometry from the destination points. Hence, the closest destination point seems to be the one located at coordinates (0, 1.45).\n",
    "\n",
    "This is the basic logic how we can find the nearest point from a set of points.\n",
    "\n",
    "### Nearest points using Geopandas\n",
    "\n",
    "Of course, the previous example is not really useful yet. Hence, next I show, how it is possible to find nearest points from a set of origin points to a set of destination points using GeoDataFrames. In this example we will recreate the previous example but use geopandas, however this data could come from any shapefile. \n",
    "\n",
    "- First we need to create a function that takes advantage of the previous function but is tailored to work with two GeoDataFrames."
   ]
  },
  {
   "cell_type": "code",
   "execution_count": 11,
   "id": "97b8ec7f",
   "metadata": {},
   "outputs": [],
   "source": [
    "def _nearest(row, df1, df2, geom1='geometry', geom2='geometry', df2_column=None):\n",
    "    \"\"\"Find the nearest point and return the corresponding value from specified column.\"\"\"\n",
    "\n",
    "    # create object usable by Shapely\n",
    "    geom_union = df2.unary_union\n",
    "\n",
    "    # Find the geometry that is closest\n",
    "    nearest = df2[geom2] == nearest_points(row[geom1], geom_union)[1]\n",
    "    # Get the corresponding value from df2 (matching is based on the geometry)\n",
    "    if df2_column is None:\n",
    "        value = df2[nearest].index[0]\n",
    "    else:\n",
    "        value = df2[nearest][df2_column].values[0]\n",
    "    return value\n",
    "\n",
    "def nearest(df1, df2, geom1_col='geometry', geom2_col='geometry', df2_column=None):\n",
    "    \"\"\"Find the nearest point and return the corresponding value from specified column.\n",
    "    :param df1: Origin points\n",
    "    :type df1: geopandas.GeoDataFrame\n",
    "    :param df2: Destination points\n",
    "    :type df2: geopandas.GeoDataFrame\n",
    "    :param geom1_col: name of column holding coordinate geometry, defaults to 'geometry'\n",
    "    :type geom1_col: str, optional\n",
    "    :param geom2_col: name of column holding coordinate geometry, defaults to 'geometry'\n",
    "    :type geom2_col: str, optional\n",
    "    :param df2_column: column name to return from df2, defaults to None\n",
    "    :type df2_column: str, optional\n",
    "    :return: df1 with nearest neighbor index or df2_column appended\n",
    "    :rtype: geopandas.GeoDataFrame\n",
    "    \"\"\"\n",
    "    df1['nearest_id'] = df1.apply(_nearest,  df1=df1, df2=df2, \n",
    "                                  geom1=geom1_col, geom2=geom2_col, \n",
    "                                  df2_column=df2_column, axis=1)\n",
    "    return df1 "
   ]
  },
  {
   "cell_type": "code",
   "execution_count": 12,
   "id": "b1f95cbd",
   "metadata": {},
   "outputs": [
    {
     "name": "stdout",
     "output_type": "stream",
     "text": [
      "       name                    geometry\n",
      "0  Origin_1  POINT (-77.30000 38.94000)\n",
      "1  Origin_2  POINT (-77.41000 39.93000)\n",
      "         name                    geometry\n",
      "0   Baltimore  POINT (-76.61000 39.29000)\n",
      "1  Washington  POINT (-77.04000 38.91000)\n",
      "2    Fredrick  POINT (-77.40000 39.41000)\n"
     ]
    }
   ],
   "source": [
    "# generate origin and destination points as geodataframe\n",
    "orig = {'name': ['Origin_1','Origin_2'], \n",
    "     'geometry': [Point(-77.3,38.94),Point(-77.41,39.93)]}\n",
    "orig = gpd.GeoDataFrame(orig, crs=\"EPSG:4326\")\n",
    "print(orig)\n",
    "\n",
    "dest = {'name': ['Baltimore','Washington', 'Fredrick'], \n",
    "     'geometry': [ Point(-76.61,39.29,), Point(-77.04,38.91), Point(-77.40,39.41)]}\n",
    "dest = gpd.GeoDataFrame(dest, crs=\"EPSG:4326\")\n",
    "print(dest)"
   ]
  },
  {
   "cell_type": "markdown",
   "id": "44058602",
   "metadata": {},
   "source": [
    "Okay now we are ready to use our function and find closest Points (taking the value from id column) from df2 to df1 centroids"
   ]
  },
  {
   "cell_type": "code",
   "execution_count": 13,
   "id": "014c4dab",
   "metadata": {},
   "outputs": [
    {
     "data": {
      "text/html": [
       "<div>\n",
       "<style scoped>\n",
       "    .dataframe tbody tr th:only-of-type {\n",
       "        vertical-align: middle;\n",
       "    }\n",
       "\n",
       "    .dataframe tbody tr th {\n",
       "        vertical-align: top;\n",
       "    }\n",
       "\n",
       "    .dataframe thead th {\n",
       "        text-align: right;\n",
       "    }\n",
       "</style>\n",
       "<table border=\"1\" class=\"dataframe\">\n",
       "  <thead>\n",
       "    <tr style=\"text-align: right;\">\n",
       "      <th></th>\n",
       "      <th>name</th>\n",
       "      <th>geometry</th>\n",
       "      <th>nearest_id</th>\n",
       "    </tr>\n",
       "  </thead>\n",
       "  <tbody>\n",
       "    <tr>\n",
       "      <th>0</th>\n",
       "      <td>Origin_1</td>\n",
       "      <td>POINT (-77.30000 38.94000)</td>\n",
       "      <td>Washington</td>\n",
       "    </tr>\n",
       "    <tr>\n",
       "      <th>1</th>\n",
       "      <td>Origin_2</td>\n",
       "      <td>POINT (-77.41000 39.93000)</td>\n",
       "      <td>Fredrick</td>\n",
       "    </tr>\n",
       "  </tbody>\n",
       "</table>\n",
       "</div>"
      ],
      "text/plain": [
       "       name                    geometry  nearest_id\n",
       "0  Origin_1  POINT (-77.30000 38.94000)  Washington\n",
       "1  Origin_2  POINT (-77.41000 39.93000)    Fredrick"
      ]
     },
     "execution_count": 13,
     "metadata": {},
     "output_type": "execute_result"
    }
   ],
   "source": [
    "nearest = nearest(df1=orig, df2=dest, df2_column='name')\n",
    "nearest.head()"
   ]
  },
  {
   "cell_type": "markdown",
   "id": "eb70127d",
   "metadata": {},
   "source": [
    "That's it! Now we found the closest point for each centroid and got the `index` value or column name from our addresses into the `df1` GeoDataFrame.\n",
    "\n",
    "\n",
    "```{note} If you want to do nearest neighbor analysis with polygons, you can simply use the centroid. If you have a geopandas polygon called poly, run poly['centroid'] = poly.centroid to store the centroid values in the attribute table.  \n",
    "```\n",
    "\n",
    "\n",
    "Sources\n",
    "[^gpd_clip]: [automating-gis-processes](https://automating-gis-processes.github.io/2017/lessons/L3/nearest-neighbour.html)"
   ]
  }
 ],
 "metadata": {
  "html_meta": {
   "description lang=en": "In python create buffers and find the nearest neighbor for points",
   "keywords": "python spatial buffer neighbor",
   "property=og:locale": "en_US"
  },
  "jupytext": {
   "text_representation": {
    "extension": ".md",
    "format_name": "myst"
   }
  },
  "kernelspec": {
   "display_name": "Python 3",
   "language": "python",
   "name": "python3"
  },
  "language_info": {
   "codemirror_mode": {
    "name": "ipython",
    "version": 3
   },
   "file_extension": ".py",
   "mimetype": "text/x-python",
   "name": "python",
   "nbconvert_exporter": "python",
   "pygments_lexer": "ipython3",
   "version": "3.7.10"
  },
  "source_map": [
   14,
   37,
   63,
   66,
   69,
   76,
   81,
   85,
   90,
   93,
   97,
   101,
   105,
   119,
   126,
   140,
   147,
   151,
   155,
   159,
   165,
   177,
   215,
   226,
   230,
   233
  ]
 },
 "nbformat": 4,
 "nbformat_minor": 5
}