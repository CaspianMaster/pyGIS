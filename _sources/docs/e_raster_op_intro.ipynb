{
 "cells": [
  {
   "cell_type": "markdown",
   "id": "ecological-minister",
   "metadata": {},
   "source": [
    "(e_raster_op_intro)=\n",
    "\n",
    "# Raster Skills\n",
    " \n",
    "In this section we will learn how to:\n",
    "\n",
    "```{tableofcontents}\n",
    "```\n",
    "\n",
    "\n",
    "```{toctree}\n",
    ":hidden:\n",
    ":titlesonly:\n",
    "\n",
    "\n",
    "e_raster_reproject\n",
    "```"
   ]
  }
 ],
 "metadata": {
  "jupytext": {
   "text_representation": {
    "extension": ".md",
    "format_name": "myst"
   }
  },
  "kernelspec": {
   "display_name": "Python 3",
   "language": "python",
   "name": "python3"
  },
  "source_map": [
   10
  ]
 },
 "nbformat": 4,
 "nbformat_minor": 5
}