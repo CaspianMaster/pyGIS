{
 "cells": [
  {
   "cell_type": "markdown",
   "id": "a81adb77",
   "metadata": {},
   "source": [
    "# Rasterize Vectors w. Rasterio\n",
    "\n",
    "----------------\n",
    "\n",
    "```{admonition} Learning Objectives\n",
    "* Convert vector data into raster format with rasterio\n",
    "* Understand the requirements for successful conversion\n",
    "```\n",
    "```{admonition} Review\n",
    "* [Geospatial Vector Data](c_vectors.md)\n",
    "* [Geospatial Raster Data](c_rasters.md)\n",
    "* [Reproject Rasters w. Rasterio and Geowombat](e_raster_reproject.md)\n",
    "```\n",
    "\n",
    "----------------\n",
    "\n",
    "Rasterizing vectors can be helpful if you want to incorporate vector data (i.e., point, line, or polygon) in your raster analysis. The process is essentially what the name suggests: We take a vector and convert it into pixels. This can be done with `rasterio`.\n",
    "\n",
    "## Setup\n",
    "\n",
    "We'll begin by importing our modules (click the + below to show code cell)."
   ]
  },
  {
   "cell_type": "code",
   "execution_count": 1,
   "id": "cf5d1c37",
   "metadata": {
    "tags": [
     "hide-cell"
    ]
   },
   "outputs": [],
   "source": [
    "# Import modules\n",
    "import geopandas as gpd\n",
    "import matplotlib.pyplot as plt\n",
    "import rasterio\n",
    "from rasterio import features\n",
    "from rasterio.enums import MergeAlg\n",
    "from rasterio.plot import show"
   ]
  },
  {
   "cell_type": "markdown",
   "id": "00bb6ee0",
   "metadata": {},
   "source": [
    "## Rasterize vectors with rasterio\n",
    "\n",
    "We'll read in the vector file (click the + below to show code cell). We will also read in a raster file to get the raster's metadata (e.g., coordinate system) so that we can apply those parameters to the vector file. In other words, the raster will serve as a \"model\" for the the rasterization of the vector. In particular, we are going to match the shape (number of rows and columns) and the transform. For a refresher on transforms, please see the chapter on [Affine Transforms](d_affine.md).\n",
    "\n",
    "```{important} The vector and raster should be in the same coordinate system. If not, you'll need to re-project one of them so they are the same. To re-project vectors, see the chapter on [Understanding CRS Codes](d_understand_crs_codes.md). To re-project rasters, see the chapter on [Reproject Rasters w. Rasterio and Geowombat](e_raster_reproject.md).\n",
    "```"
   ]
  },
  {
   "cell_type": "code",
   "execution_count": 2,
   "id": "a7606fcb",
   "metadata": {
    "tags": [
     "hide-cell"
    ]
   },
   "outputs": [],
   "source": [
    "# Read in vector\n",
    "vector = gpd.read_file(r\"../_static/e_vector_shapefiles/sf_bay_counties/sf_bay_counties.shp\")\n",
    "\n",
    "# Get list of geometries for all features in vector file\n",
    "geom = [shapes for shapes in vector.geometry]\n",
    "\n",
    "# Open example raster\n",
    "raster = rasterio.open(r\"../_static/e_raster/bay-area-wells_kde_sklearn.tif\")"
   ]
  },
  {
   "cell_type": "markdown",
   "id": "6e75f527",
   "metadata": {},
   "source": [
    "With our data loaded, we can rasterize the vector using the metadata from the raster using `rasterize()` in the `rasterio.features` module. For more information on this function, check out [the `rasterio` documentation](https://rasterio.readthedocs.io/en/latest/api/rasterio.features.html#rasterio.features.rasterize)."
   ]
  },
  {
   "cell_type": "code",
   "execution_count": 3,
   "id": "25c2758e",
   "metadata": {},
   "outputs": [
    {
     "data": {
      "image/png": "[encoded data removed]",
      "text/plain": [
       "<Figure size 720x720 with 1 Axes>"
      ]
     },
     "metadata": {
      "filenames": {
       "image/png": "/home/mmann1123/Documents/github/pyGIS/pygis/_build/jupyter_execute/docs/e_raster_rasterize_5_0.png"
      },
      "needs_background": "light"
     },
     "output_type": "display_data"
    }
   ],
   "source": [
    "# Rasterize vector using the shape and coordinate system of the raster\n",
    "rasterized = features.rasterize(geom,\n",
    "                                out_shape = raster.shape,\n",
    "                                fill = 0,\n",
    "                                out = None,\n",
    "                                transform = raster.transform,\n",
    "                                all_touched = False,\n",
    "                                merge_alg = MergeAlg.replace,\n",
    "                                default_value = 1,\n",
    "                                dtype = None)\n",
    "\n",
    "# Plot raster\n",
    "fig, ax = plt.subplots(1, figsize = (10, 10))\n",
    "show(rasterized, ax = ax)\n",
    "plt.gca().invert_yaxis()"
   ]
  },
  {
   "cell_type": "markdown",
   "id": "d152bf26",
   "metadata": {},
   "source": [
    "Finally, we can save the rasterized vector out (click the + below to show code cell)."
   ]
  },
  {
   "cell_type": "code",
   "execution_count": 4,
   "id": "45fb3c52",
   "metadata": {
    "tags": [
     "hide-cell"
    ]
   },
   "outputs": [],
   "source": [
    "with rasterio.open(\n",
    "        \"../temp/rasterized_vector.tif\", \"w\",\n",
    "        driver = \"GTiff\",\n",
    "        transform = raster.transform,\n",
    "        dtype = rasterio.uint8,\n",
    "        count = 1,\n",
    "        width = raster.width,\n",
    "        height = raster.height) as dst:\n",
    "    dst.write(rasterized, indexes = 1)"
   ]
  }
 ],
 "metadata": {
  "html_meta": {
   "description lang=en": "Learn how to convert vector shapefiles into raster files using rasterio.",
   "keywords": "geospatial, python, rasterio, raster, vector, shapefile, rasterize",
   "property=og:locale": "en_US"
  },
  "jupytext": {
   "text_representation": {
    "extension": ".md",
    "format_name": "myst"
   }
  },
  "kernelspec": {
   "display_name": "Python 3",
   "language": "python",
   "name": "python3"
  },
  "language_info": {
   "codemirror_mode": {
    "name": "ipython",
    "version": 3
   },
   "file_extension": ".py",
   "mimetype": "text/x-python",
   "name": "python",
   "nbconvert_exporter": "python",
   "pygments_lexer": "ipython3",
   "version": "3.7.10"
  },
  "source_map": [
   14,
   38,
   48,
   57,
   68,
   72,
   88,
   92
  ]
 },
 "nbformat": 4,
 "nbformat_minor": 5
}