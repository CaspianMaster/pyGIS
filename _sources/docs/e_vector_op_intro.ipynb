{
 "cells": [
  {
   "cell_type": "markdown",
   "id": "wireless-fetish",
   "metadata": {},
   "source": [
    "(e_vector_op_intro)=\n",
    "\n",
    "# Vector Skills\n",
    " \n",
    "In this section we will learn how to:\n",
    "\n",
    "```{tableofcontents}\n",
    "```\n",
    "\n",
    "\n",
    "```{toctree}\n",
    ":hidden:\n",
    ":titlesonly:\n",
    "\n",
    "\n",
    "e_attributes\n",
    "e_new_vectors\n",
    "e_vector_merge_dissolve\n",
    "```"
   ]
  }
 ],
 "metadata": {
  "jupytext": {
   "text_representation": {
    "extension": ".md",
    "format_name": "myst"
   }
  },
  "kernelspec": {
   "display_name": "Python 3",
   "language": "python",
   "name": "python3"
  },
  "source_map": [
   10
  ]
 },
 "nbformat": 4,
 "nbformat_minor": 5
}