{
 "cells": [
  {
   "cell_type": "markdown",
   "id": "7402da64",
   "metadata": {},
   "source": [
    "(f_rs_crs)=\n",
    "\n",
    "\n",
    "----------------\n",
    "\n",
    "```{admonition} Learning Objectives\n",
    "- Reproject remotely sensed data (change CRS)\n",
    "- Reproject on-the-fly\n",
    "- Understand resampling options\n",
    "```\n",
    "```{admonition} Review\n",
    "* [What is a CRS](d_crs_what_is_it.md)\n",
    "* [Understanding CRS codes](d_understand_crs_codes.md)\n",
    "* [Raster CRS](d_raster_crs_intro.md)\n",
    "```\n",
    "----------------\n",
    "\n",
    "\n",
    "# Remote Sensing Coordinate Reference Systems\n",
    "\n",
    "Image projections can be transformed in GeoWombat using the configuration manager (see [Config Manager](f_rs_config.md)). With the configuration manager, the CRS is transformed using [rasterio CRS](https://rasterio.readthedocs.io/en/latest/api/rasterio.crs.html) and [virtual warping](https://rasterio.readthedocs.io/en/latest/topics/virtual-warping.html). For references, see [Spatial Reference](https://spatialreference.org/) and [epsg.io](http://epsg.io/).\n",
    "\n",
    "## View Image Coordinate Reference System & Properties\n",
    "In the following we will print out the properties relevant to CRS for the red, green blue image. The CRS can be accessed from the [xarray.DataArray](http://xarray.pydata.org/en/stable/generated/xarray.DataArray.html) attributes."
   ]
  },
  {
   "cell_type": "code",
   "execution_count": null,
   "id": "7b552945",
   "metadata": {},
   "outputs": [],
   "source": [
    "import geowombat as gw\n",
    "from geowombat.data import rgbn\n",
    "\n",
    "with gw.open(rgbn) as src:\n",
    "    print(src.transform)\n",
    "    print(src.gw.transform)\n",
    "    print(src.crs)\n",
    "    print(src.resampling)\n",
    "    print(src.res)\n",
    "    print(src.gw.cellx, src.gw.celly)"
   ]
  },
  {
   "cell_type": "markdown",
   "id": "da8cc484",
   "metadata": {},
   "source": [
    "## Transforming a CRS On-The-Fly\n",
    "\n",
    "To transform the CRS, use the context manager. In this example, an proj4 code is used. See [understanding CRS codes](d_understand_crs_codes.md) for more details. Also note the use the `nodata` in this case the file `rgbn` doesn't have the missing data value set in its profile, so we can set it manually when opened."
   ]
  },
  {
   "cell_type": "code",
   "execution_count": null,
   "id": "5d3451e3",
   "metadata": {},
   "outputs": [],
   "source": [
    "import matplotlib.pyplot as plt\n",
    "fig, ax = plt.subplots(dpi=200)\n",
    "\n",
    "proj4 = \"+proj=aea +lat_1=20 +lat_2=60 +lat_0=40 +lon_0=-96 +x_0=0 +y_0=0 +datum=NAD83 +units=m +no_defs\"\n",
    "\n",
    "with gw.config.update(ref_crs=proj4):\n",
    "    with gw.open(rgbn, nodata=0) as src:\n",
    "        # replace 0 with nan\n",
    "        src = src.gw.mask_nodata()\n",
    "        print(src.transform)\n",
    "        print(src.crs)\n",
    "        print(src.resampling)\n",
    "        print(src.res)\n",
    "        src.sel(band=[3,2,1]).plot.imshow(robust=True, ax=ax)\n",
    "\n",
    "plt.tight_layout(pad=1)"
   ]
  },
  {
   "cell_type": "markdown",
   "id": "54df6921",
   "metadata": {},
   "source": [
    "Other formats supported by rasterio, (e.g., PROJ4 strings) can be used."
   ]
  },
  {
   "cell_type": "code",
   "execution_count": null,
   "id": "b7f6c333",
   "metadata": {},
   "outputs": [],
   "source": [
    "with gw.config.update(ref_crs=proj4):\n",
    "    with gw.open(rgbn) as src:\n",
    "        print(src.transform)\n",
    "        print(src.crs)\n",
    "        print(src.resampling)\n",
    "        print(src.res)"
   ]
  },
  {
   "cell_type": "markdown",
   "id": "03111855",
   "metadata": {},
   "source": [
    "## Resampling the Cell Size\n",
    "\n",
    "The resampling algorithm can be specified in the `geowombat.open` function. Here, we use cubic convolution resampling to warp the data to EPSG code 31972 (a UTM projection)."
   ]
  },
  {
   "cell_type": "code",
   "execution_count": null,
   "id": "9a9894e4",
   "metadata": {},
   "outputs": [],
   "source": [
    "with gw.config.update(ref_crs=31972):\n",
    "    with gw.open(rgbn, resampling='cubic') as src:\n",
    "        print(src.transform)\n",
    "        print(src.crs)\n",
    "        print(src.resampling)\n",
    "        print(src.res)"
   ]
  },
  {
   "cell_type": "markdown",
   "id": "367ef777",
   "metadata": {},
   "source": [
    "The transformed cell resolution can be added in the context manager. Here, we resample the data to 10m x 10m spatial resolution."
   ]
  },
  {
   "cell_type": "code",
   "execution_count": null,
   "id": "caff90a5",
   "metadata": {},
   "outputs": [],
   "source": [
    "with gw.config.update(ref_crs=31972, ref_res=(10, 10)):\n",
    "    with gw.open(rgbn, resampling='cubic') as src:\n",
    "        print(src.transform)\n",
    "        print(src.crs)\n",
    "        print(src.resampling)\n",
    "        print(src.res)"
   ]
  },
  {
   "cell_type": "markdown",
   "id": "5ca809a7",
   "metadata": {},
   "source": [
    "## Transformations Outside Context Manager\n",
    "\n",
    "To transform an `xarray.DataArray` outside of a configuration context, use the `geowombat.transform_crs` function."
   ]
  },
  {
   "cell_type": "code",
   "execution_count": null,
   "id": "bec86bf1",
   "metadata": {},
   "outputs": [],
   "source": [
    "with gw.open(rgbn) as src:\n",
    "    print(src.transform)\n",
    "    print(src.crs)\n",
    "    print(src.resampling)\n",
    "    print(src.res)\n",
    "    print('')\n",
    "    src_tr = src.gw.transform_crs(proj4, dst_res=(10, 10), resampling='bilinear')\n",
    "    print(src_tr.transform)\n",
    "    print(src_tr.crs)\n",
    "    print(src_tr.resampling)\n",
    "    print(src_tr.res)"
   ]
  },
  {
   "cell_type": "markdown",
   "id": "95b9772e",
   "metadata": {},
   "source": [
    "For more help we can read through the docs a bit."
   ]
  },
  {
   "cell_type": "code",
   "execution_count": null,
   "id": "30781504",
   "metadata": {},
   "outputs": [],
   "source": [
    "with gw.open(rgbn, resampling='cubic') as src:\n",
    "    print(help(src.gw.transform_crs))"
   ]
  }
 ],
 "metadata": {
  "jupytext": {
   "text_representation": {
    "extension": ".md",
    "format_name": "myst"
   }
  },
  "kernelspec": {
   "display_name": "Python 3",
   "language": "python",
   "name": "python3"
  },
  "source_map": [
   10,
   37,
   48,
   55,
   72,
   76,
   83,
   89,
   96,
   100,
   107,
   113,
   125,
   128
  ]
 },
 "nbformat": 4,
 "nbformat_minor": 5
}