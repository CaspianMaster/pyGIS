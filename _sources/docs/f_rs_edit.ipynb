{
 "cells": [
  {
   "cell_type": "markdown",
   "id": "6f9e44f2",
   "metadata": {},
   "source": [
    "(f_rs_edit)=\n",
    "\n",
    "\n",
    "----------------\n",
    "\n",
    "```{admonition} Learning Objectives\n",
    "- Handle missing values\n",
    "- Setting missing values\n",
    "- Replacing values\n",
    "\n",
    "```\n",
    "```{admonition} Review\n",
    "* [Opening remotely sensed data](f_rs_io.md)\n",
    "```\n",
    "----------------\n",
    "\n",
    "# Editing Rasters and Remotely Sensed Data\n",
    "\n",
    "\n",
    "## Setting 'no data' Values\n",
    "\n",
    "The `xarray.DataArray.where` function masks data by setting nans, as demonstrated by the example below."
   ]
  },
  {
   "cell_type": "code",
   "execution_count": 1,
   "id": "4ffe7475",
   "metadata": {},
   "outputs": [],
   "source": [
    "import geowombat as gw\n",
    "from geowombat.data import l8_224078_20200518\n",
    "\n",
    "# Zeros are replaced with nans\n",
    "with gw.open(l8_224078_20200518) as src:\n",
    "    data = src.where(src != 0)"
   ]
  },
  {
   "cell_type": "markdown",
   "id": "f8fe6656",
   "metadata": {},
   "source": [
    "## Setting 'no data' Values with Scaling\n",
    "\n",
    "In GeoWombat, we use `xarray.where` and `xarray.DataArray.where` along with optional scaling in the `set_nodata` function. In this example, we set zeros as 65535 and scale all other values from a [0,10000] range to [0,1]."
   ]
  },
  {
   "cell_type": "code",
   "execution_count": 2,
   "id": "833980bc",
   "metadata": {},
   "outputs": [],
   "source": [
    "import geowombat as gw\n",
    "from geowombat.data import l8_224078_20200518\n",
    "\n",
    "# Set the 'no data' value and scale all other values\n",
    "with gw.open(l8_224078_20200518) as src:\n",
    "    data = src.gw.set_nodata(0, 65535, (0, 1), 'float64', scale_factor=0.0001)"
   ]
  },
  {
   "cell_type": "markdown",
   "id": "3fd0a968",
   "metadata": {},
   "source": [
    "## Replace values\n",
    "\n",
    "The GeoWombat `replace` function mimics `pandas.DataFrame.replace`."
   ]
  },
  {
   "cell_type": "code",
   "execution_count": 3,
   "id": "38ca4e0b",
   "metadata": {},
   "outputs": [],
   "source": [
    "import geowombat as gw\n",
    "from geowombat.data import l8_224078_20200518\n",
    "\n",
    "# Replace 1 with 10\n",
    "with gw.open(l8_224078_20200518) as src:\n",
    "    data = src.gw.replace({1: 10})"
   ]
  },
  {
   "cell_type": "markdown",
   "id": "2a5d8cb9",
   "metadata": {},
   "source": [
    "```{note}    \n",
    "The `replace` function is typically used with categorical data.\n",
    "```"
   ]
  }
 ],
 "metadata": {
  "jupytext": {
   "text_representation": {
    "extension": ".md",
    "format_name": "myst"
   }
  },
  "kernelspec": {
   "display_name": "Python 3",
   "language": "python",
   "name": "python3"
  },
  "language_info": {
   "codemirror_mode": {
    "name": "ipython",
    "version": 3
   },
   "file_extension": ".py",
   "mimetype": "text/x-python",
   "name": "python",
   "nbconvert_exporter": "python",
   "pygments_lexer": "ipython3",
   "version": "3.7.10"
  },
  "source_map": [
   10,
   35,
   42,
   48,
   55,
   61,
   68
  ]
 },
 "nbformat": 4,
 "nbformat_minor": 5
}