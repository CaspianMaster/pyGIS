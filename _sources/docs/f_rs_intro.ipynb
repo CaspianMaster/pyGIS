{
 "cells": [
  {
   "cell_type": "markdown",
   "id": "addressed-optimization",
   "metadata": {},
   "source": [
    "(f_rs_intro)=\n",
    "\n",
    "# Remote Sensing w. Geowombat\n",
    " \n",
    "For now this section is going to be more or less a copy and paste job from Jordan's excellent tutorials at [Geowombat's readthedocs](geowombat.readthedocs.io/). I promise however to build this out over the coming months!\n",
    "\n",
    "In this section you will learn how to:\n",
    "\n",
    "```{tableofcontents}\n",
    "```\n",
    "\n",
    "\n",
    "```{toctree}\n",
    ":hidden:\n",
    ":titlesonly:\n",
    "\n",
    "\n",
    "f_rs_gw_basics\n",
    "f_rs_io\n",
    "f_rs_plot\n",
    "```"
   ]
  }
 ],
 "metadata": {
  "jupytext": {
   "text_representation": {
    "extension": ".md",
    "format_name": "myst"
   }
  },
  "kernelspec": {
   "display_name": "Python 3",
   "language": "python",
   "name": "python3"
  },
  "language_info": {
   "codemirror_mode": {
    "name": "ipython",
    "version": 3
   },
   "file_extension": ".py",
   "mimetype": "text/x-python",
   "name": "python",
   "nbconvert_exporter": "python",
   "pygments_lexer": "ipython3",
   "version": "3.7.10"
  },
  "source_map": [
   10
  ]
 },
 "nbformat": 4,
 "nbformat_minor": 5
}