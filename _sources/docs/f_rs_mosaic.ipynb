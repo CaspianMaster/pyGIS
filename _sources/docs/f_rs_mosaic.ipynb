{
 "cells": [
  {
   "cell_type": "markdown",
   "id": "3fe3a681",
   "metadata": {},
   "source": [
    "(f_rs_mosaic)=\n",
    "\n",
    "----------------\n",
    "\n",
    "```{admonition} Learning Objectives\n",
    "- Create mosaics of more than one multiband image\n",
    "- Find the intersection of two images\n",
    "- View the footprint of multiple image tiles\n",
    "\n",
    "```\n",
    "```{admonition} Review\n",
    "* [Opening Remotely Sensed Data](f_rs_io.md)\n",
    "* [Raster Operations](e_raster_op_intro.md)\n",
    "```\n",
    "----------------\n",
    "<!-- https://www.l3harrisgeospatial.com/docs/MosaicSeamless.html -->\n",
    "<!-- \n",
    "https://desktop.arcgis.com/en/arcmap/10.3/manage-data/raster-and-images/what-is-a-mosaic.htm -->\n",
    "\n",
    "# Handle Multiple Remotely Sensed Images\n",
    "Doing analysis over larger areas often requires the use of image mosaics (combining two or more images). Luckily for us geowombat makes this process relatively easy. \n",
    "\n",
    "## Union (Mosaic) of Remotely Sensed Image\n",
    "As an example let's plot the union with `mosaic=True` of two images taken on the same day, for the overlapping portions we will use the mean pixel value by setting `overlap='mean'`, but blue band only. Alternatively we could use one of 'mean', 'min', or 'max'.\n",
    "\n",
    "Note we rename the band name with `band_names=['blue']`."
   ]
  },
  {
   "cell_type": "code",
   "execution_count": null,
   "id": "5f258557",
   "metadata": {},
   "outputs": [],
   "source": [
    "# Import GeoWombat\n",
    "import geowombat as gw\n",
    "\n",
    "# import plotting\n",
    "import matplotlib.pyplot as plt\n",
    "import matplotlib.patheffects as pe\n",
    "\n",
    "# load data\n",
    "from geowombat.data import l8_224077_20200518_B2, l8_224078_20200518_B2\n",
    "\n",
    "fig, ax = plt.subplots(dpi=200)\n",
    "filenames = [l8_224077_20200518_B2, l8_224078_20200518_B2]\n",
    "with gw.open(filenames,\n",
    "                band_names=['blue'],\n",
    "                mosaic=True,\n",
    "                overlap = 'mean',\n",
    "                bounds_by='union') as src:\n",
    "    src.where(src != 0).sel(band='blue').plot.imshow(robust=True, ax=ax)\n",
    "plt.tight_layout(pad=1)"
   ]
  },
  {
   "cell_type": "markdown",
   "id": "7da6fa51",
   "metadata": {},
   "source": [
    "## Intersection of Remotely Sensed Image\n",
    "Same idea with the intersection, using `bounds_by='intersection'`, we still need to mosaic the two images `mosaic=True`."
   ]
  },
  {
   "cell_type": "code",
   "execution_count": null,
   "id": "906f6840",
   "metadata": {},
   "outputs": [],
   "source": [
    "fig, ax = plt.subplots(dpi=200)\n",
    "filenames = [l8_224077_20200518_B2, l8_224078_20200518_B2]\n",
    "with gw.open(filenames,\n",
    "                band_names=['blue'],\n",
    "                mosaic=True,\n",
    "                overlap='mean',\n",
    "                bounds_by='intersection') as src:\n",
    "    src.where(src != 0).sel(band='blue').plot.imshow(robust=True, ax=ax)\n",
    "plt.tight_layout(pad=1)"
   ]
  }
 ],
 "metadata": {
  "jupytext": {
   "text_representation": {
    "extension": ".md",
    "format_name": "myst"
   }
  },
  "kernelspec": {
   "display_name": "Python 3",
   "language": "python",
   "name": "python3"
  },
  "source_map": [
   10,
   39,
   59,
   64
  ]
 },
 "nbformat": 4,
 "nbformat_minor": 5
}