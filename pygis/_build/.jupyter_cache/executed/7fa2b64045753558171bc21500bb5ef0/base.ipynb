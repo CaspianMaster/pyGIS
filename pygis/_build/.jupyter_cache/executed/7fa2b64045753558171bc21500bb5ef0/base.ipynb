{
 "cells": [
  {
   "cell_type": "code",
   "execution_count": 1,
   "id": "e32f192d",
   "metadata": {},
   "outputs": [
    {
     "name": "stdout",
     "output_type": "stream",
     "text": [
      "<xarray.DataArray 'array-c1686f70048cb766e2fe94fb3c34fb6d' (band: 3, y: 100, x: 100)>\n",
      "dask.array<array, shape=(3, 100, 100), dtype=float32, chunksize=(1, 64, 64), chunktype=numpy.ndarray>\n",
      "Coordinates:\n",
      "  * band     (band) <U5 'blue' 'green' 'red'\n",
      "  * y        (y) float64 2.05e+06 2.05e+06 2.05e+06 ... 2.05e+06 2.05e+06\n",
      "  * x        (x) float64 7.93e+05 7.93e+05 7.93e+05 ... 7.935e+05 7.935e+05\n",
      "Attributes:\n",
      "    transform:          | 5.00, 0.00, 792988.00|\\n| 0.00,-5.00, 2050382.00|\\n...\n",
      "    crs:                +init=epsg:32618\n",
      "    res:                (5.0, 5.0)\n",
      "    is_tiled:           1\n",
      "    nodatavals:         (nan, nan, nan, nan)\n",
      "    offsets:            (0.0, 0.0, 0.0, 0.0)\n",
      "    data_are_separate:  0\n",
      "    data_are_stacked:   0\n"
     ]
    }
   ],
   "source": [
    "import geowombat as gw\n",
    "from geowombat.data import rgbn\n",
    "\n",
    "from rasterio.windows import Window\n",
    "w = Window(row_off=0, col_off=0, height=100, width=100)\n",
    "\n",
    "with gw.open(rgbn,\n",
    "                band_names=['blue', 'green', 'red'],\n",
    "                num_workers=8,\n",
    "                indexes=[1, 2, 3],\n",
    "                window=w,\n",
    "                out_dtype='float32') as src:\n",
    "    print(src)"
   ]
  },
  {
   "cell_type": "code",
   "execution_count": 2,
   "id": "0d532485",
   "metadata": {},
   "outputs": [
    {
     "name": "stdout",
     "output_type": "stream",
     "text": [
      "[7448 6882 6090]\n"
     ]
    }
   ],
   "source": [
    "import geowombat as gw\n",
    "from geowombat.data import l8_224078_20200518\n",
    "\n",
    "# Coordinates in map projection units\n",
    "y, x = -2823031.15, 761592.60\n",
    "\n",
    "with gw.open(l8_224078_20200518) as src:\n",
    "    # Transform the map coordinates to data indices\n",
    "    j, i = gw.coords_to_indices(x, y, src)\n",
    "    # Subset by index\n",
    "    data = src[:, i, j].data.compute()\n",
    "\n",
    "print(data.flatten())"
   ]
  },
  {
   "cell_type": "code",
   "execution_count": 3,
   "id": "8f0e7728",
   "metadata": {},
   "outputs": [
    {
     "name": "stdout",
     "output_type": "stream",
     "text": [
      "[7448 6882 6090]\n"
     ]
    }
   ],
   "source": [
    "import geowombat as gw\n",
    "from geowombat.data import l8_224078_20200518\n",
    "\n",
    "# Coordinates in latitude/longitude\n",
    "lat, lon = -25.50142964, -54.39756038\n",
    "\n",
    "with gw.open(l8_224078_20200518) as src:\n",
    "    # Transform the coordinates to map units\n",
    "    x, y = gw.lonlat_to_xy(lon, lat, src)\n",
    "    # Transform the map coordinates to data indices\n",
    "    j, i = gw.coords_to_indices(x, y, src)\n",
    "    data = src[:, i, j].data.compute()\n",
    "\n",
    "print(data.flatten())"
   ]
  },
  {
   "cell_type": "code",
   "execution_count": 4,
   "id": "3e8c3d7e",
   "metadata": {},
   "outputs": [
    {
     "name": "stdout",
     "output_type": "stream",
     "text": [
      "        name                         geometry  id     1     2     3\n",
      "0      water  POINT (741522.314 -2811204.698)   0  7966  7326  6254\n",
      "1       crop  POINT (736140.845 -2806478.364)   1  8030  7490  8080\n",
      "2       tree  POINT (745919.508 -2805168.579)   2  7561  6874  6106\n",
      "3  developed  POINT (739056.735 -2811710.662)   3  8302  8202  8111\n",
      "4      water  POINT (737802.183 -2818016.412)   4  8277  7982  7341\n",
      "5       tree  POINT (759209.443 -2828566.230)   5  7398  6711  6007\n"
     ]
    }
   ],
   "source": [
    "import geowombat as gw\n",
    "from geowombat.data import l8_224078_20200518, l8_224078_20200518_points\n",
    "\n",
    "with gw.open(l8_224078_20200518) as src:\n",
    "    df = src.gw.extract(l8_224078_20200518_points)\n",
    "\n",
    "print(df)"
   ]
  },
  {
   "cell_type": "code",
   "execution_count": 5,
   "id": "bb56b674",
   "metadata": {},
   "outputs": [
    {
     "name": "stdout",
     "output_type": "stream",
     "text": [
      "epsg:32621\n",
      "epsg:4326\n"
     ]
    },
    {
     "name": "stdout",
     "output_type": "stream",
     "text": [
      "        name                         geometry  id     1     2     3\n",
      "0      water  POINT (741522.314 -2811204.698)   0  7966  7326  6254\n",
      "1       crop  POINT (736140.845 -2806478.364)   1  8030  7490  8080\n",
      "2       tree  POINT (745919.508 -2805168.579)   2  7561  6874  6106\n",
      "3  developed  POINT (739056.735 -2811710.662)   3  8302  8202  8111\n",
      "4      water  POINT (737802.183 -2818016.412)   4  8277  7982  7341\n",
      "5       tree  POINT (759209.443 -2828566.230)   5  7398  6711  6007\n"
     ]
    }
   ],
   "source": [
    "import geowombat as gw\n",
    "from geowombat.data import l8_224078_20200518, l8_224078_20200518_points\n",
    "import geopandas as gpd\n",
    "\n",
    "point_df = gpd.read_file(l8_224078_20200518_points)\n",
    "print(point_df.crs)\n",
    "\n",
    "# Transform the CRS to WGS84 lat/lon\n",
    "point_df = point_df.to_crs('epsg:4326')\n",
    "print(point_df.crs)\n",
    "\n",
    "with gw.open(l8_224078_20200518) as src:\n",
    "    df = src.gw.extract(point_df)\n",
    "\n",
    "print(df)"
   ]
  },
  {
   "cell_type": "code",
   "execution_count": 6,
   "id": "822cab24",
   "metadata": {},
   "outputs": [
    {
     "name": "stdout",
     "output_type": "stream",
     "text": [
      "        name                         geometry  id  blue  green   red\n",
      "0      water  POINT (741522.314 -2811204.698)   0  7966   7326  6254\n",
      "1       crop  POINT (736140.845 -2806478.364)   1  8030   7490  8080\n",
      "2       tree  POINT (745919.508 -2805168.579)   2  7561   6874  6106\n",
      "3  developed  POINT (739056.735 -2811710.662)   3  8302   8202  8111\n",
      "4      water  POINT (737802.183 -2818016.412)   4  8277   7982  7341\n",
      "5       tree  POINT (759209.443 -2828566.230)   5  7398   6711  6007\n"
     ]
    }
   ],
   "source": [
    "import geowombat as gw\n",
    "from geowombat.data import l8_224078_20200518, l8_224078_20200518_points\n",
    "\n",
    "with gw.config.update(sensor='bgr'):\n",
    "    with gw.open(l8_224078_20200518) as src:\n",
    "        df = src.gw.extract(l8_224078_20200518_points,\n",
    "                            band_names=src.band.values.tolist())\n",
    "\n",
    "print(df)"
   ]
  },
  {
   "cell_type": "code",
   "execution_count": 7,
   "id": "102dbfac",
   "metadata": {},
   "outputs": [
    {
     "name": "stdout",
     "output_type": "stream",
     "text": [
      "        name                         geometry  id  t1_blue  t1_green  t1_red  \\\n",
      "0      water  POINT (741522.314 -2811204.698)   0     7966      7326    6254   \n",
      "1       crop  POINT (736140.845 -2806478.364)   1     8030      7490    8080   \n",
      "2       tree  POINT (745919.508 -2805168.579)   2     7561      6874    6106   \n",
      "3  developed  POINT (739056.735 -2811710.662)   3     8302      8202    8111   \n",
      "4      water  POINT (737802.183 -2818016.412)   4     8277      7982    7341   \n",
      "5       tree  POINT (759209.443 -2828566.230)   5     7398      6711    6007   \n",
      "\n",
      "   t2_blue  t2_green  t2_red  \n",
      "0     7966      7326    6254  \n",
      "1     8030      7490    8080  \n",
      "2     7561      6874    6106  \n",
      "3     8302      8202    8111  \n",
      "4     8277      7982    7341  \n",
      "5     7398      6711    6007  \n"
     ]
    }
   ],
   "source": [
    "from geowombat.data import l8_224078_20200518, l8_224078_20200518_points\n",
    "\n",
    "with gw.config.update(sensor='bgr'):\n",
    "    with gw.open([l8_224078_20200518, l8_224078_20200518],\n",
    "            time_names=['t1', 't2'],\n",
    "            stack_dim='time') as src:\n",
    "\n",
    "        # Extract and by point geometry\n",
    "        df = src.gw.extract(l8_224078_20200518_points)\n",
    "\n",
    "print(df)"
   ]
  },
  {
   "cell_type": "code",
   "execution_count": 8,
   "id": "0940c766",
   "metadata": {},
   "outputs": [
    {
     "name": "stdout",
     "output_type": "stream",
     "text": [
      "     id  point                         geometry       name   blue  green  \\\n",
      "0     0      0  POINT (737535.000 -2795205.000)      water   8017   7435   \n",
      "1     0      1  POINT (737565.000 -2795205.000)      water   8016   7439   \n",
      "2     0      2  POINT (737595.000 -2795205.000)      water   8012   7442   \n",
      "3     0      3  POINT (737625.000 -2795205.000)      water   7997   7422   \n",
      "4     0      4  POINT (737655.000 -2795205.000)      water   7997   7405   \n",
      "..   ..    ...                              ...        ...    ...    ...   \n",
      "667   3    667  POINT (739005.000 -2811795.000)  developed   9014   8236   \n",
      "668   3    668  POINT (739035.000 -2811795.000)  developed   8567   8564   \n",
      "669   3    669  POINT (739065.000 -2811795.000)  developed   8099   7676   \n",
      "670   3    670  POINT (739095.000 -2811795.000)  developed  10151   9651   \n",
      "671   3    671  POINT (739125.000 -2811795.000)  developed   8065   7735   \n",
      "\n",
      "       red  \n",
      "0     6283  \n",
      "1     6294  \n",
      "2     6295  \n",
      "3     6284  \n",
      "4     6266  \n",
      "..     ...  \n",
      "667   8325  \n",
      "668   8447  \n",
      "669   7332  \n",
      "670  10153  \n",
      "671   7501  \n",
      "\n",
      "[672 rows x 7 columns]\n"
     ]
    }
   ],
   "source": [
    "from geowombat.data import l8_224078_20200518, l8_224078_20200518_polygons\n",
    "\n",
    "with gw.config.update(sensor='bgr'):\n",
    "    with gw.open(l8_224078_20200518) as src:\n",
    "        df = src.gw.extract(l8_224078_20200518_polygons,\n",
    "                            band_names=src.band.values.tolist())\n",
    "\n",
    "    print(df)"
   ]
  },
  {
   "cell_type": "code",
   "execution_count": 9,
   "id": "632f7020",
   "metadata": {},
   "outputs": [
    {
     "name": "stdout",
     "output_type": "stream",
     "text": [
      "    point         blue        green          red\n",
      "id                                              \n",
      "0   103.5  7990.052885  7388.432692  6264.807692\n",
      "1   304.0  7692.481865  7037.419689  7571.207254\n",
      "2   497.0  7506.901554  6838.704663  6091.932642\n",
      "3   632.5  8668.423077  8294.717949  8312.192308\n"
     ]
    }
   ],
   "source": [
    "from geowombat.data import l8_224078_20200518, l8_224078_20200518_polygons\n",
    "\n",
    "with gw.config.update(sensor='bgr'):\n",
    "    with gw.open(l8_224078_20200518) as src:\n",
    "        df = src.gw.extract(l8_224078_20200518_polygons,\n",
    "                            band_names=src.band.values.tolist())\n",
    "        # use pandas groupby to calc pixel mean  \n",
    "        df = df.groupby('id').mean()\n",
    "    print(df)"
   ]
  }
 ],
 "metadata": {
  "html_meta": {
   "description lang=en": "Learn how extract pixel values from raster data like sentinel imagery, additionally extract by row and column index, extract by bound window, extract by coordinate, extract by polygon.",
   "description lang=es": "Aprenda a extraer valores de píxeles de datos ráster como imágenes centinela, extraer adicionalmente por índice de fila y columna, extraer por ventana vinculada, extraer por coordenada, extraer por polígono.",
   "description lang=fr": "Découvrez comment extraire des valeurs de pixels à partir de données raster telles que l'imagerie sentinelle, extraire en outre par index de ligne et de colonne, extraire par fenêtre liée, extraire par coordonnées, extraire par polygone.",
   "keywords": "geospatial,raster, extract by point, extract by polygon, extract by bounds, remote sensing",
   "property=og:locale": "en_US"
  },
  "jupytext": {
   "text_representation": {
    "extension": ".md",
    "format_name": "myst"
   }
  },
  "kernelspec": {
   "display_name": "Python 3",
   "language": "python",
   "name": "python3"
  },
  "language_info": {
   "codemirror_mode": {
    "name": "ipython",
    "version": 3
   },
   "file_extension": ".py",
   "mimetype": "text/x-python",
   "name": "python",
   "nbconvert_exporter": "python",
   "pygments_lexer": "ipython3",
   "version": "3.7.10"
  },
  "source_map": [
   16,
   46,
   60,
   98,
   112,
   116,
   131,
   137,
   145,
   153,
   169,
   172,
   182,
   186,
   198,
   204,
   213,
   218
  ]
 },
 "nbformat": 4,
 "nbformat_minor": 5
}