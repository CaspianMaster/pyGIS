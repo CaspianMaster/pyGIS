{
 "cells": [
  {
   "cell_type": "code",
   "execution_count": 1,
   "id": "db93f011",
   "metadata": {},
   "outputs": [],
   "source": [
    "import geowombat as gw\n",
    "from geowombat.data import l8_224078_20200518\n",
    "\n",
    "# Zeros are replaced with nans\n",
    "with gw.open(l8_224078_20200518) as src:\n",
    "    data = src.where(src != 0)"
   ]
  },
  {
   "cell_type": "code",
   "execution_count": 2,
   "id": "bb2b5b9e",
   "metadata": {},
   "outputs": [
    {
     "name": "stdout",
     "output_type": "stream",
     "text": [
      "gw.open:  (0, 0, 0)\n",
      "gw.config (0, 0, 0)\n"
     ]
    }
   ],
   "source": [
    "import geowombat as gw\n",
    "from geowombat.data import l8_224078_20200518\n",
    "\n",
    "# Zeros are replaced with nans\n",
    "with gw.open(l8_224078_20200518, nodata=0) as src:\n",
    "    print('gw.open: ',src.attrs['nodatavals'])\n",
    "\n",
    "# Zeros are replaced with nans\n",
    "with gw.config.update(nodata=0):\n",
    "  with gw.open(l8_224078_20200518) as src:\n",
    "    print('gw.config',src.attrs['nodatavals'])"
   ]
  },
  {
   "cell_type": "code",
   "execution_count": 3,
   "id": "f00f601f",
   "metadata": {},
   "outputs": [],
   "source": [
    "import geowombat as gw\n",
    "from geowombat.data import l8_224078_20200518\n",
    " \n",
    "# Zeros are replaced with nans\n",
    "with gw.config.update(scale_factor=0.0001):\n",
    "  with gw.open(l8_224078_20200518) as src:\n",
    "    src.attrs['scales']"
   ]
  },
  {
   "cell_type": "code",
   "execution_count": 4,
   "id": "4342e1e8",
   "metadata": {},
   "outputs": [],
   "source": [
    "import geowombat as gw\n",
    "from geowombat.data import l8_224078_20200518\n",
    "\n",
    "# Replace 1 with 10\n",
    "with gw.open(l8_224078_20200518) as src:\n",
    "    data = src.gw.replace({1: 10})"
   ]
  }
 ],
 "metadata": {
  "jupytext": {
   "text_representation": {
    "extension": ".md",
    "format_name": "myst"
   }
  },
  "kernelspec": {
   "display_name": "Python 3",
   "language": "python",
   "name": "python3"
  },
  "language_info": {
   "codemirror_mode": {
    "name": "ipython",
    "version": 3
   },
   "file_extension": ".py",
   "mimetype": "text/x-python",
   "name": "python",
   "nbconvert_exporter": "python",
   "pygments_lexer": "ipython3",
   "version": "3.9.13"
  },
  "source_map": [
   10,
   35,
   42,
   47,
   59,
   65,
   73,
   79,
   86
  ]
 },
 "nbformat": 4,
 "nbformat_minor": 5
}