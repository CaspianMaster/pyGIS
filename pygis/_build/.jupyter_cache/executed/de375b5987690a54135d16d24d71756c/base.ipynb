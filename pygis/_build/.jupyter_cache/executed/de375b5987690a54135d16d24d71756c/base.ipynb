{
 "cells": [
  {
   "cell_type": "code",
   "execution_count": 1,
   "id": "65adb299",
   "metadata": {},
   "outputs": [
    {
     "name": "stdout",
     "output_type": "stream",
     "text": [
      "Keyword: with_config     Value: True\n",
      "Keyword: ignore_warnings Value: False\n",
      "Keyword: sensor          Value: None\n",
      "Keyword: scale_factor    Value: 1.0\n",
      "Keyword: nodata          Value: None\n",
      "Keyword: ref_image       Value: None\n",
      "Keyword: ref_bounds      Value: None\n",
      "Keyword: ref_crs         Value: None\n",
      "Keyword: ref_res         Value: None\n",
      "Keyword: ref_tar         Value: None\n",
      "Keyword: blockxsize      Value: 512\n",
      "Keyword: blockysize      Value: 512\n",
      "Keyword: compress        Value: None\n",
      "Keyword: driver          Value: GTiff\n",
      "Keyword: tiled           Value: True\n",
      "Keyword: bigtiff         Value: NO\n",
      "Keyword: l57_angles_path Value: None\n",
      "Keyword: l8_angles_path  Value: None\n"
     ]
    }
   ],
   "source": [
    "import geowombat as gw\n",
    "from geowombat.data import l8_224078_20200518\n",
    "\n",
    "# Using the manager without keywords will set defaults\n",
    "with gw.config.update():\n",
    "    with gw.open(l8_224078_20200518) as src:\n",
    "        for k, v in src.gw.config.items():\n",
    "            print('Keyword:', k.ljust(15), 'Value:', v)"
   ]
  },
  {
   "cell_type": "code",
   "execution_count": 2,
   "id": "7d1955fc",
   "metadata": {},
   "outputs": [
    {
     "name": "stdout",
     "output_type": "stream",
     "text": [
      "+init=epsg:32621\n",
      "+proj=aea +lat_0=-32 +lon_0=-60 +lat_1=-5 +lat_2=-42 +x_0=0 +y_0=0 +ellps=aust_SA +units=m +no_defs=True\n"
     ]
    }
   ],
   "source": [
    "import geowombat as gw\n",
    "from geowombat.data import l8_224078_20200518\n",
    "\n",
    "proj4 = \"+proj=aea +lat_1=-5 +lat_2=-42 +lat_0=-32 +lon_0=-60 +x_0=0 +y_0=0 +ellps=aust_SA +units=m +no_defs \"\n",
    "0\n",
    "# Without the manager\n",
    "with gw.open(l8_224078_20200518) as src:\n",
    "    print(src.crs)\n",
    "\n",
    "# With the manager\n",
    "with gw.config.update(ref_crs=proj4):\n",
    "    with gw.open(l8_224078_20200518) as src:\n",
    "        print(src.crs)"
   ]
  },
  {
   "cell_type": "code",
   "execution_count": 3,
   "id": "1dcdee4c",
   "metadata": {},
   "outputs": [
    {
     "name": "stdout",
     "output_type": "stream",
     "text": [
      "30.0 30.0\n",
      "100.0 100.0\n"
     ]
    }
   ],
   "source": [
    "import geowombat as gw\n",
    "from geowombat.data import l8_224078_20200518\n",
    "\n",
    "# Without the manager\n",
    "with gw.open(l8_224078_20200518) as src:\n",
    "    print(src.gw.celly, src.gw.cellx)\n",
    "\n",
    "# With the manager\n",
    "with gw.config.update(ref_crs=proj4, ref_res=(100, 100)):\n",
    "    with gw.open(l8_224078_20200518) as src:\n",
    "        print(src.gw.celly, src.gw.cellx)"
   ]
  },
  {
   "cell_type": "code",
   "execution_count": 4,
   "id": "74e04a15",
   "metadata": {},
   "outputs": [
    {
     "name": "stdout",
     "output_type": "stream",
     "text": [
      "(717345.0, -2832795.0, 778575.0, -2776995.0)\n"
     ]
    },
    {
     "name": "stdout",
     "output_type": "stream",
     "text": [
      "(724634.17, -2806481.42, 737654.17, -2796221.42)\n"
     ]
    }
   ],
   "source": [
    "import geowombat as gw\n",
    "from geowombat.data import l8_224078_20200518\n",
    "from rasterio.coords import BoundingBox\n",
    "\n",
    "bounds = BoundingBox(left=724634.17, bottom=-2806501.39, right=737655.48, top=-2796221.42)\n",
    "\n",
    "# or\n",
    "# bounds = (724634.17, -2806501.39, 737655.48, -2796221.42)\n",
    "\n",
    "# Without the manager\n",
    "with gw.open(l8_224078_20200518) as src:\n",
    "    print(src.gw.bounds)\n",
    "\n",
    "# With the manager\n",
    "with gw.config.update(ref_bounds=bounds):\n",
    "    with gw.open(l8_224078_20200518) as src:\n",
    "        print(src.gw.bounds)"
   ]
  },
  {
   "cell_type": "code",
   "execution_count": 5,
   "id": "8bf1ef46",
   "metadata": {},
   "outputs": [
    {
     "name": "stdout",
     "output_type": "stream",
     "text": [
      "(717345.0, -2832795.0, 778575.0, -2776995.0)\n"
     ]
    },
    {
     "name": "stdout",
     "output_type": "stream",
     "text": [
      "(694005.0, -2812065.0, 754185.0, -2766615.0)\n",
      "(694005.0, -2812065.0, 754185.0, -2766615.0)\n"
     ]
    }
   ],
   "source": [
    "import geowombat as gw\n",
    "from geowombat.data import l8_224078_20200518, l8_224077_20200518_B2\n",
    "\n",
    "# Without the manager\n",
    "with gw.open(l8_224078_20200518) as src:\n",
    "    print(src.gw.bounds)\n",
    "\n",
    "with gw.open(l8_224077_20200518_B2) as src:\n",
    "    print(src.gw.bounds)\n",
    "\n",
    "# With the manager\n",
    "with gw.config.update(ref_image=l8_224077_20200518_B2):\n",
    "    with gw.open(l8_224078_20200518) as src:\n",
    "        print(src.gw.bounds)"
   ]
  },
  {
   "cell_type": "code",
   "execution_count": 6,
   "id": "1b4758a1",
   "metadata": {},
   "outputs": [
    {
     "name": "stdout",
     "output_type": "stream",
     "text": [
      "<xarray.DataArray 'band' (band: 3)>\n",
      "array([1, 2, 3])\n",
      "Coordinates:\n",
      "  * band     (band) int64 1 2 3\n",
      "<xarray.DataArray 'band' (band: 3)>\n",
      "array(['blue', 'green', 'red'], dtype='<U5')\n",
      "Coordinates:\n",
      "  * band     (band) <U5 'blue' 'green' 'red'\n"
     ]
    }
   ],
   "source": [
    "import geowombat as gw\n",
    "from geowombat.data import l8_224078_20200518\n",
    "\n",
    "# Without the manager\n",
    "with gw.open(l8_224078_20200518) as src:\n",
    "    print(src.band)\n",
    "\n",
    "# With the manager\n",
    "with gw.config.update(sensor='bgr'):\n",
    "    with gw.open(l8_224078_20200518) as src:\n",
    "        print(src.band)"
   ]
  },
  {
   "cell_type": "code",
   "execution_count": 7,
   "id": "16c890ad",
   "metadata": {},
   "outputs": [
    {
     "name": "stdout",
     "output_type": "stream",
     "text": [
      "rgb            : red, green, and blue\n",
      "rgbn           : red, green, blue, and NIR\n",
      "bgr            : blue, green, and red\n",
      "bgrn           : blue, green, red, and NIR\n",
      "l5             : Landsat 5 Thematic Mapper (TM)\n",
      "l7             : Landsat 7 Enhanced Thematic Mapper Plus (ETM+) without panchromatic and thermal bands\n",
      "l7th           : Landsat 7 Enhanced Thematic Mapper Plus (ETM+) with thermal band\n",
      "l7mspan        : Landsat 7 Enhanced Thematic Mapper Plus (ETM+) with panchromatic band\n",
      "l7pan          : Landsat 7 panchromatic band\n",
      "l8             : Landsat 8 Operational Land Imager (OLI) and Thermal Infrared Sensor (TIRS) without panchromatic and thermal bands\n",
      "l8l7           : Landsat 8 Operational Land Imager (OLI) and Thermal Infrared Sensor (TIRS) with 6 Landsat 7-like bands\n",
      "l8l7mspan      : Landsat 8 Operational Land Imager (OLI) and panchromatic band with 6 Landsat 7-like bands\n",
      "l8th           : Landsat 8 Operational Land Imager (OLI) and Thermal Infrared Sensor (TIRS) with thermal band\n",
      "l8pan          : Landsat 8 panchromatic band\n",
      "s2             : Sentinel 2 Multi-Spectral Instrument (MSI) without 3 60m bands (coastal, water vapor, cirrus)\n",
      "s2f            : Sentinel 2 Multi-Spectral Instrument (MSI) with 3 60m bands (coastal, water vapor, cirrus)\n",
      "s2l7           : Sentinel 2 Multi-Spectral Instrument (MSI) with 6 Landsat 7-like bands\n",
      "s210           : Sentinel 2 Multi-Spectral Instrument (MSI) with 4 10m (visible + NIR) bands\n",
      "s220           : Sentinel 2 Multi-Spectral Instrument (MSI) with 6 20m bands\n",
      "s2cloudless    : Sentinel 2 Multi-Spectral Instrument (MSI) with 10 bands for s2cloudless\n",
      "ps             : PlanetScope with 4 (visible + NIR) bands\n",
      "qb             : Quickbird with 4 (visible + NIR) bands\n",
      "ik             : IKONOS with 4 (visible + NIR) bands\n"
     ]
    }
   ],
   "source": [
    "with gw.open(l8_224078_20200518) as src:\n",
    "    for sensor_name, description in src.gw.sensor_names.items():\n",
    "        print('{}: {}'.format(sensor_name.ljust(15), description))"
   ]
  }
 ],
 "metadata": {
  "html_meta": {
   "description lang=en": "Learn how to easily read in remote sensing data from a variety of sensors including LandSat, Sentinel, PlanetScope, and QuickBird, do easy reprojection and snap raster operations on-the-fly, and resampling.",
   "description lang=es": "Aprenda a leer fácilmente los datos de teledetección de una variedad de sensores, incluidos LandSat, Sentinel, PlanetScope y QuickBird, realice operaciones de reproyección y captura de ráster sobre la marcha y remuestreo.",
   "description lang=fr": "Apprenez à lire facilement les données de télédétection à partir d'une variété de capteurs, y compris LandSat, Sentinel, PlanetScope et QuickBird, effectuez une reprojection facile et capturez des opérations raster à la volée, et rééchantillonnez.",
   "keywords": "geospatial,raster, remote sensing, projection, resample, sentinel, landsat ",
   "property=og:locale": "en_US"
  },
  "jupytext": {
   "text_representation": {
    "extension": ".md",
    "format_name": "myst"
   }
  },
  "kernelspec": {
   "display_name": "Python 3",
   "language": "python",
   "name": "python3"
  },
  "language_info": {
   "codemirror_mode": {
    "name": "ipython",
    "version": 3
   },
   "file_extension": ".py",
   "mimetype": "text/x-python",
   "name": "python",
   "nbconvert_exporter": "python",
   "pygments_lexer": "ipython3",
   "version": "3.7.10"
  },
  "source_map": [
   16,
   64,
   73,
   79,
   93,
   99,
   111,
   117,
   135,
   152,
   167,
   176,
   188,
   200,
   204
  ]
 },
 "nbformat": 4,
 "nbformat_minor": 5
}