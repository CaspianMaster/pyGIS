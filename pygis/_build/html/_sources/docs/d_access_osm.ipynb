{
 "cells": [
  {
   "cell_type": "markdown",
   "id": "9af6994a",
   "metadata": {},
   "source": [
    "<!-- (d_access_osm)= -->\n",
    "\n",
    "----------------\n",
    "\n",
    "```{admonition} Learning Objectives\n",
    "- Download and utilize OpenStreetMap data\n",
    "```\n",
    "```{admonition} Review\n",
    "* [Understanding CRS codes](d_understand_crs_codes.md)\n",
    "* [Creating Points, Lines, Polygons](c_new_vectors.md)\n",
    "```\n",
    "----------------\n",
    "\n",
    "# Accessing OSM Data in Python\n",
    "\n",
    "## What is OpenStreetMap?\n",
    "\n",
    "OpenStreetMap (OSM) is a global collaborative (crowd-sourced) dataset and project that aims at creating a free editable map of the world containing a lot of information about our environment [^gpd_clip]. It contains data for example about streets, buildings, different services, and landuse to mention a few. You can view the map at www.openstreetmap.org. You can also sign up as a contributor if you want to edit the map. More details about OpenStreetMap and its contents are available in the [OpenStreetMap Wiki](https://wiki.openstreetmap.org/wiki/Main_Page).\n",
    "\n",
    "## OSMnx\n",
    "\n",
    "This week we will explore a Python module called [OSMnx](https://github.com/gboeing/osmnx)\n",
    "that can be used to retrieve, construct, analyze, and visualize street networks from OpenStreetMap, and also retrieve data about Points of Interest such as restaurants, schools, and lots of different kind of services. It is also easy to conduct network routing based on walking, cycling or driving by combining OSMnx functionalities with a package called [NetworkX](https://networkx.github.io/documentation/stable/).\n",
    "\n",
    "To get an overview of the capabilities of the package, see an introductory video given by the lead developer of the package, Prof. Geoff Boeing: [\"Meet the developer: Introduction to OSMnx package by Geoff Boeing\"](https://www.youtube.com/watch?v=Q0uxu25ddc4&list=PLs9D4XVqc6dCAhhvhZB7aHGD8fCeCC_6N).\n",
    "\n",
    "## Download and visualize OpenStreetMap data with OSMnx\n",
    "\n",
    "One the most useful features that OSMnx provides is an easy-to-use way of retrieving [OpenStreetMap](http://www.openstreetmap.org) data (using [OverPass API](http://wiki.openstreetmap.org/wiki/Overpass_API)).\n",
    "\n",
    "In this tutorial, we will learn how to download and visualize OSM data covering a specified area of interest: the neighborhood of Edgewood in Washington DC USA."
   ]
  },
  {
   "cell_type": "code",
   "execution_count": 1,
   "id": "f5d4a55d",
   "metadata": {},
   "outputs": [],
   "source": [
    "# Specify the name that is used to seach for the data\n",
    "place_name = \"Edgewood Washington, DC, USA\""
   ]
  },
  {
   "cell_type": "markdown",
   "id": "38daad79",
   "metadata": {},
   "source": [
    "### OSM Location Boundary\n",
    "\n",
    "Let's also plot the Polygon that represents the boundary of our area of interest (Washington DC). We can retrieve the Polygon geometry using the `ox.geocode_to_gdf` [docs](https://osmnx.readthedocs.io/en/stable/osmnx.html?highlight=geocode_to_gdf(#osmnx.geocoder.geocode_to_gdf) function."
   ]
  },
  {
   "cell_type": "code",
   "execution_count": 2,
   "id": "cedbbe1c",
   "metadata": {},
   "outputs": [
    {
     "ename": "ModuleNotFoundError",
     "evalue": "No module named 'osmnx'",
     "output_type": "error",
     "traceback": [
      "\u001b[0;31m---------------------------------------------------------------------------\u001b[0m",
      "\u001b[0;31mModuleNotFoundError\u001b[0m                       Traceback (most recent call last)",
      "Cell \u001b[0;32mIn [2], line 2\u001b[0m\n\u001b[1;32m      1\u001b[0m \u001b[38;5;66;03m# import osmnx\u001b[39;00m\n\u001b[0;32m----> 2\u001b[0m \u001b[38;5;28;01mimport\u001b[39;00m \u001b[38;5;21;01mosmnx\u001b[39;00m \u001b[38;5;28;01mas\u001b[39;00m \u001b[38;5;21;01mox\u001b[39;00m\n\u001b[1;32m      3\u001b[0m \u001b[38;5;28;01mimport\u001b[39;00m \u001b[38;5;21;01mgeopandas\u001b[39;00m \u001b[38;5;28;01mas\u001b[39;00m \u001b[38;5;21;01mgpd\u001b[39;00m\n\u001b[1;32m      5\u001b[0m \u001b[38;5;66;03m# Get place boundary related to the place name as a geodataframe\u001b[39;00m\n",
      "\u001b[0;31mModuleNotFoundError\u001b[0m: No module named 'osmnx'"
     ]
    }
   ],
   "source": [
    "# import osmnx\n",
    "import osmnx as ox\n",
    "import geopandas as gpd\n",
    "\n",
    "# Get place boundary related to the place name as a geodataframe\n",
    "area = ox.geocode_to_gdf(place_name)"
   ]
  },
  {
   "cell_type": "markdown",
   "id": "18547b96",
   "metadata": {},
   "source": [
    "As the name of the function already tells us, `gdf_from_place()`returns a GeoDataFrame based on the specified place name query."
   ]
  },
  {
   "cell_type": "code",
   "execution_count": null,
   "id": "734d45ec",
   "metadata": {},
   "outputs": [],
   "source": [
    "# Check the data type\n",
    "area"
   ]
  },
  {
   "cell_type": "markdown",
   "id": "543b5905",
   "metadata": {},
   "source": [
    "Let's still verify the data type:"
   ]
  },
  {
   "cell_type": "code",
   "execution_count": null,
   "id": "32bcd1e1",
   "metadata": {},
   "outputs": [],
   "source": [
    "# Check the data type\n",
    "type(area)"
   ]
  },
  {
   "cell_type": "markdown",
   "id": "19ef2fbd",
   "metadata": {},
   "source": [
    "Finally, let's plot it."
   ]
  },
  {
   "cell_type": "code",
   "execution_count": null,
   "id": "21f6ce38",
   "metadata": {},
   "outputs": [],
   "source": [
    "area.plot()"
   ]
  },
  {
   "cell_type": "markdown",
   "id": "b4b2c548",
   "metadata": {},
   "source": [
    "### OSM Building footprints\n",
    "\n",
    "It is also possible to retrieve other types of OSM data features with OSMnx such as buildings or points of interest (POIs). Let's download the buildings with `ox.geometries_from_place` [docs](https://osmnx.readthedocs.io/en/stable/osmnx.html?highlight=geometries_from_place#osmnx.geometries.geometries_from_place) function and plot them on top of our street network in Kamppi. \n",
    "\n",
    "\n",
    "When fetching spesific types of geometries from OpenStreetMap using OSMnx `geometries_from_place` we also need to specify the correct tags. For getting [all types of buildings](https://wiki.openstreetmap.org/wiki/Buildings), we can use the tag `building=yes`."
   ]
  },
  {
   "cell_type": "code",
   "execution_count": null,
   "id": "6c8b3cf0",
   "metadata": {},
   "outputs": [],
   "source": [
    "# List key-value pairs for tags\n",
    "tags = {'building': True}   \n",
    "\n",
    "buildings = ox.geometries_from_place(place_name, tags)\n",
    "buildings.head()"
   ]
  },
  {
   "cell_type": "markdown",
   "id": "b2bd7814",
   "metadata": {},
   "source": [
    "We can plot the footprints quickly."
   ]
  },
  {
   "cell_type": "code",
   "execution_count": null,
   "id": "b92188eb",
   "metadata": {},
   "outputs": [],
   "source": [
    "# Plot footprints \n",
    "buildings.plot()"
   ]
  },
  {
   "cell_type": "markdown",
   "id": "ddbfff34",
   "metadata": {},
   "source": [
    "### OSM Write Features to .shp\n",
    "Now let's assume we want to access this data outside of python, or have a permanent copy of our building footprints for Edgewood. \n",
    "\n",
    "Since these objects are already `geopandas.GeoDataFrame` it's easy to save them to disk. We simply use `gpd.to_file` [docs](https://geopandas.org/en/stable/docs/reference/api/geopandas.GeoDataFrame.to_file.html).\n",
    "\n",
    "```{Important}\n",
    "We can't write OSM GeoDataFrames directly to disk because they contain field types (like lists) that can't be saved in .shp or .geojsons etc. Instead lets isolate only the attributes we are interested in, **including geometry** which is required. \n",
    "```\n",
    "\n",
    "We need to isolate just the attributes we are interested in:"
   ]
  },
  {
   "cell_type": "code",
   "execution_count": null,
   "id": "5ac9628e",
   "metadata": {},
   "outputs": [],
   "source": [
    "buildings  = buildings.loc[:,buildings.columns.str.contains('addr:|geometry')]"
   ]
  },
  {
   "cell_type": "markdown",
   "id": "6582fff4",
   "metadata": {},
   "source": [
    "```{Important}\n",
    "OSM data often contains multiple feature types like mixing points with polygons. This is a problem when we try to write it to disk.\n",
    "```\n",
    "We also need to isolate the feature type we are looking for [e.g. Multipolygon, Polygon, Point]. Since here we want building footprints we are going to keep only polygons."
   ]
  },
  {
   "cell_type": "code",
   "execution_count": null,
   "id": "4c1b72c2",
   "metadata": {},
   "outputs": [],
   "source": [
    "buildings = buildings.loc[buildings.geometry.type=='Polygon']"
   ]
  },
  {
   "cell_type": "markdown",
   "id": "a06f463e",
   "metadata": {},
   "source": [
    "Now, finally, we can write it to disk."
   ]
  },
  {
   "cell_type": "code",
   "execution_count": null,
   "id": "35e1db9c",
   "metadata": {},
   "outputs": [],
   "source": [
    "# Save footprints \n",
    "buildings.to_file('../temp/edgewood_buildings.shp')  \n",
    "# Or save in a more open source format\n",
    "#buildings.to_file('../temp/edgewood_buildings.geojson', driver='GeoJSON')  "
   ]
  },
  {
   "cell_type": "markdown",
   "id": "384fec34",
   "metadata": {},
   "source": [
    "Sources\n",
    "[^gpd_clip]: [automating-gis-processes](https://automating-gis-processes.github.io/2017/lessons/L3/nearest-neighbour.html)"
   ]
  }
 ],
 "metadata": {
  "html_meta": {
   "description lang=en": "Learn how to access OpenStreetMap (OSM) roads, buildings, and other data via python. ",
   "description lang=es": "Aprenda a acceder a carreteras, edificios y otros datos de OpenStreetMap (OSM) a través de Python.",
   "description lang=fr": "Découvrez comment accéder aux routes, bâtiments et autres données OpenStreetMap (OSM) via python.",
   "keywords": "python open street map OSM",
   "property=og:locale": "en_US"
  },
  "jupytext": {
   "text_representation": {
    "extension": ".md",
    "format_name": "myst"
   }
  },
  "kernelspec": {
   "display_name": "Python 3",
   "language": "python",
   "name": "python3"
  },
  "language_info": {
   "codemirror_mode": {
    "name": "ipython",
    "version": 3
   },
   "file_extension": ".py",
   "mimetype": "text/x-python",
   "name": "python",
   "nbconvert_exporter": "python",
   "pygments_lexer": "ipython3",
   "version": "3.9.13"
  },
  "source_map": [
   16,
   50,
   53,
   59,
   66,
   70,
   73,
   76,
   79,
   82,
   84,
   92,
   98,
   101,
   104,
   116,
   118,
   125,
   127,
   131,
   136
  ]
 },
 "nbformat": 4,
 "nbformat_minor": 5
}