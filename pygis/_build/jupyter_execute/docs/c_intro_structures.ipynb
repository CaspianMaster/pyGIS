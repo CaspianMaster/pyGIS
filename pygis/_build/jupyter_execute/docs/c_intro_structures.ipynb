{
 "cells": [
  {
   "cell_type": "markdown",
   "id": "immediate-shanghai",
   "metadata": {},
   "source": [
    "(b_intro_structures)=\n",
    "\n",
    "# Spatial Feature Representation\n",
    "\n",
    "Topics Covered:\n",
    "- Vector Data\n",
    "    - Data Structures\n",
    "    - Formats\n",
    "        - Geojson\n",
    "        - Shp\n",
    "        - Geopkg\n",
    "\n",
    "- Raster Data\n",
    "    - Data Structures\n",
    "        - Arrays \n",
    "        - Spatial Arrays\n",
    "    - Formats\n",
    "        - GeoTiff\n",
    "\n",
    "\n",
    "```{toctree}\n",
    ":hidden:\n",
    ":titlesonly:\n",
    "\n",
    "\n",
    "c_vectors\n",
    "c_rasters\n",
    "```"
   ]
  }
 ],
 "metadata": {
  "jupytext": {
   "text_representation": {
    "extension": ".md",
    "format_name": "myst"
   }
  },
  "kernelspec": {
   "display_name": "Python 3",
   "language": "python",
   "name": "python3"
  },
  "language_info": {
   "codemirror_mode": {
    "name": "ipython",
    "version": 3
   },
   "file_extension": ".py",
   "mimetype": "text/x-python",
   "name": "python",
   "nbconvert_exporter": "python",
   "pygments_lexer": "ipython3",
   "version": "3.7.10"
  },
  "source_map": [
   10
  ]
 },
 "nbformat": 4,
 "nbformat_minor": 5
}