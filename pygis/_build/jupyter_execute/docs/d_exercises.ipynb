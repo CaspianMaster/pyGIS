{
 "cells": [
  {
   "cell_type": "markdown",
   "id": "continuing-tolerance",
   "metadata": {},
   "source": [
    "(d_exercises)=\n",
    "\n",
    "# CRS Exercises\n",
    " \n",
    "This section will help reinforce what you have learned so far about coordinate reference systems."
   ]
  }
 ],
 "metadata": {
  "jupytext": {
   "text_representation": {
    "extension": ".md",
    "format_name": "myst"
   }
  },
  "kernelspec": {
   "display_name": "Python 3",
   "language": "python",
   "name": "python3"
  },
  "source_map": [
   10
  ]
 },
 "nbformat": 4,
 "nbformat_minor": 5
}