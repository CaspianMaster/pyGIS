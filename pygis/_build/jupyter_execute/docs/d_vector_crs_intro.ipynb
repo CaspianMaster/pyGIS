{
 "cells": [
  {
   "cell_type": "markdown",
   "id": "signed-macro",
   "metadata": {},
   "source": [
    "(d_vector_crs_intro)=\n",
    "\n",
    "----------------\n",
    "\n",
    "```{admonition} Learning Objectives\n",
    "- How to reproject vector data\n",
    "- How does affine transforms relate to reprojection?\n",
    "```\n",
    "```{admonition} Review\n",
    "* [Affine transformation](d_affine)\n",
    "* [Creating Points, Lines, Polygons](e_new_vectors)\n",
    "```\n",
    "----------------\n",
    "\n",
    "# Vector CRS \n",
    "\n",
    "Affine transformations allows us to use simple systems of linear equations to manipulate any point or set of points. It allows us to move, stretch, or even rotate a point or set of points. In this case it is used to move and reshape vector data (point, lines, polygons). In this case we will learn how affine transforms are used to define projections and reproject data.\n",
    "\n",
    "## Describing the Vector Location (Define a Projection)\n",
    "\n",
    "\n",
    "## Reproject\n",
    "\n",
    "<!--\n",
    "https://kartoweb.itc.nl/geometrics/Coordinate%20transformations/coordtrans.html\n",
    "\n",
    " https://geopandas.org/gallery/plotting_with_geoplot.html\n",
    "\n",
    "https://geocompr.robinlovelace.net/geometric-operations.html\n",
    " In this section we will learn how to reproject vector data:\n",
    "\n",
    "\n",
    " Affine transformation is any transformation that preserves lines and parallelism. However, angles or length are not necessarily preserved. Affine transformations include, among others, shifting (translation), scaling and rotation. Additionally, it is possible to use any combination of these. Affine transformations are an essential part of geocomputation. For example, shifting is needed for labels placement, scaling is used in non-contiguous area cartograms (see Section 8.6), and many affine transformations are applied when reprojecting or improving the geometry that was created based on a distorted or wrongly projected map. The sf package implements affine transformation for objects of classes sfg and sfc.\n",
    "\n",
    "nz_sfc = st_geometry(nz)\n",
    "\n",
    "Shifting moves every point by the same distance in map units. It could be done by adding a numerical vector to a vector object. For example, the code below shifts all y-coordinates by 100,000 meters to the north, but leaves the x-coordinates untouched (left panel of Figure 5.5).\n",
    "\n",
    "nz_shift = nz_sfc + c(0, 100000)\n",
    "\n",
    "Scaling enlarges or shrinks objects by a factor. It can be applied either globally or locally. Global scaling increases or decreases all coordinates values in relation to the origin coordinates, while keeping all geometries topological relations intact. It can be done by subtraction or multiplication of asfg or sfc object.\n",
    "\n",
    "Local scaling treats geometries independently and requires points around which geometries are going to be scaled, e.g., centroids. In the example below, each geometry is shrunk by a factor of two around the centroids (middle panel in Figure 5.5). To achieve that, each object is firstly shifted in a way that its center has coordinates of 0, 0 ((nz_sfc - nz_centroid_sfc)). Next, the sizes of the geometries are reduced by half (* 0.5). Finally, each object’s centroid is moved back to the input data coordinates (+ nz_centroid_sfc).\n",
    "\n",
    "nz_centroid_sfc = st_centroid(nz_sfc)\n",
    "nz_scale = (nz_sfc - nz_centroid_sfc) * 0.5 + nz_centroid_sfc\n",
    "\n",
    "Rotation of two-dimensional coordinates requires a rotation matrix:\n",
    "\n",
    "R=[cosθ−sinθsinθcosθ]\n",
    "\n",
    "It rotates points in a clockwise direction. The rotation matrix can be implemented in R as:\n",
    "\n",
    "rotation = function(a){\n",
    "  r = a * pi / 180 #degrees to radians\n",
    "  matrix(c(cos(r), sin(r), -sin(r), cos(r)), nrow = 2, ncol = 2)\n",
    "} \n",
    "\n",
    "The rotation function accepts one argument a - a rotation angle in degrees. Rotation could be done around selected points, such as centroids (right panel of Figure 5.5). See vignette(\"sf3\") for more examples.\n",
    "\n",
    "nz_rotate = (nz_sfc - nz_centroid_sfc) * rotation(30) + nz_centroid_sfc\n",
    "\n",
    "Illustrations of affine transformations: shift, scale and rotate.\n",
    "\n",
    "FIGURE 5.5: Illustrations of affine transformations: shift, scale and rotate.\n",
    "\n",
    "Finally, the newly created geometries can replace the old ones with the st_set_geometry() function:\n",
    "\n",
    "nz_scale_sf = st_set_geometry(nz, nz_scale) -->"
   ]
  }
 ],
 "metadata": {
  "jupytext": {
   "text_representation": {
    "extension": ".md",
    "format_name": "myst"
   }
  },
  "kernelspec": {
   "display_name": "Python 3",
   "language": "python",
   "name": "python3"
  },
  "language_info": {
   "codemirror_mode": {
    "name": "ipython",
    "version": 3
   },
   "file_extension": ".py",
   "mimetype": "text/x-python",
   "name": "python",
   "nbconvert_exporter": "python",
   "pygments_lexer": "ipython3",
   "version": "3.7.10"
  },
  "source_map": [
   10
  ]
 },
 "nbformat": 4,
 "nbformat_minor": 5
}