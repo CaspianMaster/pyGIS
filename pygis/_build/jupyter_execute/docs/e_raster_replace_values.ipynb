{
 "cells": [
  {
   "cell_type": "markdown",
   "id": "c951787e",
   "metadata": {},
   "source": [
    "# Replacing Values w. Rasterio\n",
    "\n",
    "----------------\n",
    "\n",
    "```{admonition} Learning Objectives\n",
    "* Replace and interpolate values in a raster with rasterio\n",
    "```\n",
    "```{admonition} Review\n",
    "* [Spatial Raster Data](c_rasters.md)\n",
    "```\n",
    "\n",
    "----------------\n",
    "\n",
    "Imagery may sometimes have errors due to factors such as noise, distortion, or sensor errors. Some pixels may have extremely high or low values or no value at all. One way to resolve this issue is to manually replace a pixel value with another pixel value. Another option is to interpolate the pixel value based on the values of the pixel's neighbors.\n",
    "\n",
    "We'll explore how to replace raster values with `rasterio`.\n",
    "\n",
    "## Setup\n",
    "\n",
    "First, we will import our modules (click the + below to show code cell)."
   ]
  },
  {
   "cell_type": "code",
   "execution_count": null,
   "id": "dc2f2efa",
   "metadata": {
    "tags": [
     "hide-cell"
    ]
   },
   "outputs": [],
   "source": [
    "# Import modules\n",
    "import numpy as np\n",
    "import matplotlib.pyplot as plt\n",
    "import rasterio\n",
    "from rasterio.transform import Affine\n",
    "from rasterio.fill import fillnodata"
   ]
  },
  {
   "cell_type": "markdown",
   "id": "eee484a1",
   "metadata": {},
   "source": [
    "Next, we will generate a sample raster to be used (click the + below to show code cell)."
   ]
  },
  {
   "cell_type": "code",
   "execution_count": null,
   "id": "ca6ed7c5",
   "metadata": {
    "tags": [
     "hide-cell"
    ]
   },
   "outputs": [],
   "source": [
    "# Generate mesh grid for rasters\n",
    "x = np.linspace(-90, 90, 200)\n",
    "y = np.linspace(90, -90, 200)\n",
    "X, Y = np.meshgrid(x, y)\n",
    "\n",
    "# Generate values for mesh grid\n",
    "Z1 = np.abs(((X - 10) ** 2 + (Y - 10) ** 2) / 1 ** 2)\n",
    "Z2 = np.abs(((X + 10) ** 2 + (Y + 10) ** 2) / 2.5 ** 2)\n",
    "\n",
    "# Generate raster values\n",
    "Z = (Z1 - Z2)\n",
    "\n",
    "# Set transform\n",
    "xres = (x[-1] - x[0]) / len(x)\n",
    "yres = (y[-1] - y[0]) / len(y)\n",
    "transform = Affine.translation(x[0] - xres / 2, y[0] - yres / 2) * Affine.scale(xres, yres)\n",
    "\n",
    "# Save raster\n",
    "with rasterio.open(\n",
    "        \"../temp/replace_values_raster.tif\",\n",
    "        mode=\"w\",\n",
    "        driver=\"GTiff\",\n",
    "        height=Z.shape[0],\n",
    "        width=Z.shape[1],\n",
    "        count=1,\n",
    "        dtype=Z.dtype,\n",
    "        crs=\"+proj=latlong\",\n",
    "        transform=transform,\n",
    ") as new_dataset:\n",
    "        new_dataset.write(Z, 1)"
   ]
  },
  {
   "cell_type": "markdown",
   "id": "56f7e8fa",
   "metadata": {},
   "source": [
    "## Replace values with rasterio\n",
    "\n",
    "We will open the example raster that we generated above."
   ]
  },
  {
   "cell_type": "code",
   "execution_count": null,
   "id": "8ccbcd1d",
   "metadata": {},
   "outputs": [],
   "source": [
    "# Open raster and plot\n",
    "raster_file = rasterio.open(\"../temp/replace_values_raster.tif\")\n",
    "raster = raster_file.read(1)\n",
    "plt.imshow(raster, cmap=\"BrBG\")\n",
    "plt.title(\"Raster\")\n",
    "plt.show()"
   ]
  },
  {
   "cell_type": "markdown",
   "id": "bc1adac5",
   "metadata": {},
   "source": [
    "### Replace values with a specified number\n",
    "\n",
    "Let's say that we want to change the pixel value at row 150, column 100 because it's wrong. We can simply call that pixel value by its row index and column index."
   ]
  },
  {
   "cell_type": "code",
   "execution_count": null,
   "id": "8face73a",
   "metadata": {},
   "outputs": [],
   "source": [
    "# Replace value with 0 at one location\n",
    "raster[150, 100] = 0\n",
    "raster[150, 100]"
   ]
  },
  {
   "cell_type": "markdown",
   "id": "df676905",
   "metadata": {},
   "source": [
    "We can also change multiple pixel values by slicing. In this case, we replace the values in rows 99-101 and columns 6-8 with the value `0`."
   ]
  },
  {
   "cell_type": "code",
   "execution_count": null,
   "id": "0fa578cd",
   "metadata": {},
   "outputs": [],
   "source": [
    "# Replace values with 0 at multiple locations\n",
    "raster[99:102, 6:9] = 0\n",
    "raster[99:102, 6:9]"
   ]
  },
  {
   "cell_type": "markdown",
   "id": "01c74b37",
   "metadata": {},
   "source": [
    "Finally, we can change any pixel values that are of a certain value."
   ]
  },
  {
   "cell_type": "code",
   "execution_count": null,
   "id": "e0d56e6f",
   "metadata": {},
   "outputs": [],
   "source": [
    "# Replace values with 0 if they are greater than or equal to certain number (in this case, 13776)\n",
    "raster[raster >= 13776] = 0\n",
    "raster"
   ]
  },
  {
   "cell_type": "markdown",
   "id": "95bbe14f",
   "metadata": {},
   "source": [
    "### Replace values through interpolation\n",
    "\n",
    "Sometimes, we don't know or have an exact value to replace pixel values with. We can \"fill in\" those pixel values through interpolation. Recall that interpolation uses the pixel values surrounding a certain pixel to determine the value for that certain pixel.\n",
    "\n",
    "In the following example, we will interpolate the values for the pixels that were previously set to `0`.\n",
    "\n",
    "`Rasterio` provides a function `fillnodata()` that does this for us. In addition to specifying a raster, we also need to provide a mask, which tells the function which pixel values need to be filled in. The mask can either be an array of Boolean values (`True` or `False`, where `False` indicates pixels to be filled in) or numbers (where values equal to `0` indicate pixels to be filled in and values equal to `1` indicate pixels to ignore).\n",
    "\n",
    "For more information this function, see the [function documentation](https://rasterio.readthedocs.io/en/latest/api/rasterio.fill.html).\n",
    "\n",
    "```{important} Mask must be in the same shape (number of rows and columns) as that of the input raster.\n",
    "```\n",
    "\n",
    "Below, we will interpolate the pixels whose values were previously set to `0`."
   ]
  },
  {
   "cell_type": "code",
   "execution_count": null,
   "id": "dd750f0c",
   "metadata": {},
   "outputs": [],
   "source": [
    "# Create a Boolean mask (True/False), with a value of False for pixels that equal 0\n",
    "mask_boolean = (raster != 0)\n",
    "mask_boolean"
   ]
  },
  {
   "cell_type": "code",
   "execution_count": null,
   "id": "a68a1ce7",
   "metadata": {},
   "outputs": [],
   "source": [
    "# Create a value mask, with a value of 0 for pixels that equal 0\n",
    "mask_numbers = np.zeros_like(raster)\n",
    "mask_numbers[raster > 0] = 255\n",
    "mask_numbers"
   ]
  },
  {
   "cell_type": "code",
   "execution_count": null,
   "id": "2799a7c2",
   "metadata": {},
   "outputs": [],
   "source": [
    "# Fill in missing values with interpolation\n",
    "# Can use either a Boolean mask or a value mask\n",
    "fillnodata(raster, mask = mask_boolean, max_search_distance = 1000)"
   ]
  },
  {
   "cell_type": "markdown",
   "id": "85f766d2",
   "metadata": {},
   "source": [
    "Finally, we can check the raster values to see the interpolated values."
   ]
  },
  {
   "cell_type": "code",
   "execution_count": null,
   "id": "4c01c3b7",
   "metadata": {},
   "outputs": [],
   "source": [
    "# Print raster array\n",
    "raster"
   ]
  },
  {
   "cell_type": "code",
   "execution_count": null,
   "id": "cae5a30d",
   "metadata": {},
   "outputs": [],
   "source": [
    "# Print subset of raster around row 150, column 100\n",
    "raster[148:153, 98:103]"
   ]
  },
  {
   "cell_type": "code",
   "execution_count": null,
   "id": "fd77ddab",
   "metadata": {},
   "outputs": [],
   "source": [
    "# Print subset of raster around rows 99-101, columns 6-8]\n",
    "raster[97:104, 4:11]"
   ]
  },
  {
   "cell_type": "markdown",
   "id": "c67103b9",
   "metadata": {},
   "source": [
    "## Replace values with `GeoWombat`\n",
    "\n",
    "For replacing raster values with `GeoWombat`, see the chapter on [Editing Rasters and Remotely Sensed Data](f_rs_edit.md)."
   ]
  }
 ],
 "metadata": {
  "html_meta": {
   "description lang=en": "Learn how to replace values in a raster using rasterio and GeoWombat.",
   "keywords": "spatial, python, rasterio, raster, replace, interpolation",
   "property=og:locale": "en_US"
  },
  "jupytext": {
   "text_representation": {
    "extension": ".md",
    "format_name": "myst"
   }
  },
  "kernelspec": {
   "display_name": "Python 3",
   "language": "python",
   "name": "python3"
  },
  "source_map": [
   14,
   37,
   46,
   50,
   83,
   89,
   96,
   102,
   106,
   110,
   114,
   118,
   122,
   139,
   145,
   152,
   156,
   160,
   165,
   170,
   173
  ]
 },
 "nbformat": 4,
 "nbformat_minor": 5
}