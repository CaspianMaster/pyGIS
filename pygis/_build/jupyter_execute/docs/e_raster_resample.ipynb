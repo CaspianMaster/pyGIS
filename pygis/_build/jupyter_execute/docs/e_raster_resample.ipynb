{
 "cells": [
  {
   "cell_type": "markdown",
   "id": "41cd8816",
   "metadata": {},
   "source": [
    "(e_raster_reproject)=\n",
    "\n",
    "----------------\n",
    "\n",
    "```{admonition} Learning Objectives\n",
    "- Resample a raster with rasterio & geowombat\n",
    "- Learn how to match the extent\n",
    "```\n",
    "```{admonition} Review\n",
    "* [Affine transformation](d_affine)\n",
    "* [Raster Coordinate Reference Systems](d_raster_crs_intro)\n",
    "* [Reprojecting Rasters](e_raster_reproject.md)\n",
    "* [Interpolation Methods Explained](d_raster_crs_intro_interpolation_options)\n",
    "```\n",
    "----------------\n",
    "\n",
    "# Resampling & Registering Rasters w. Rasterio and Geowombat\n",
    "\n",
    "## Why is Resampling Important?\n",
    "*Before you begin* any analysis using rater data it is critical that you have rasters that are \"co-registered\". Co-registration requires that any two rasters have the same resolution, and orientation - the origins can differ but they much align. *In other words, co-registration requires that cell centroids align perfectly for all intersecting areas.* Resampling is also extremely common during reprojection operations as it often requires changing the orientation, scale or resolution of an image. \n",
    "\n",
    "**Examples of data that is *not* co-registered**\n",
    "\n",
    "```{figure} ../_static/e_raster/Raster_diff-orientation.jpg\n",
    ":name: Resampling rasters - different orientation\n",
    ":width: 400px\n",
    "Resampling rasters - different orientation\n",
    "```\n",
    "\n",
    "```{figure} ../_static/e_raster/Raster_diff-orientation-origin.jpg\n",
    ":name: Resampling rasters - different orientation and origin\n",
    ":width: 400px\n",
    "Resampling rasters - different orientation and origin\n",
    "```\n",
    "```{figure} ../_static/e_raster/Raster_diff-res.jpg\n",
    ":name: Resampling rasters - different resolution\n",
    ":width: 400px\n",
    "Resampling rasters - different resolution\n",
    "```\n",
    "We can co-register images by resampling, and often reprojecting, one image to match another. \n",
    "\n",
    "(raster_resample_methods)=\n",
    "## Methods for Resampling Explained\n",
    "There are [a number of methods](https://rasterio.readthedocs.io/en/latest/api/rasterio.enums.html#rasterio.enums.Resampling) to resample data, but they often take the form of \"nearest neighbor\", \"bilinear\", and \"cubic convolusion\" - these interpolation methods [are explained here in some detail](d_raster_crs_intro_interpolation_options.md). But there are a number of other including: [‘average’, ‘cubic_spline’, ‘gauss’, ‘lanczos’, ‘max’, ‘med’, ‘min’, ‘mode’, ‘nearest’]. \n",
    "\n",
    "**resampling direction**\n",
    "- Upsampling - converting to higher resolution/smaller cells. \n",
    "- Downsampling - converting to lower resolution/larger cell sizes.\n",
    "\n",
    "\n",
    "## Simple Up/Downsampling in Rasterio & Geowombat\n",
    "### Rasterio Upsampling Example\n",
    "Occationally you will need to resample your data by some factor, for instance you might want data upsampled to a courser resolution due to memory constraints. \n",
    "\n",
    "\n",
    "Here's an example of how to generate the `data` array and the `transform` needed to write it out. We will start by simply reading in the data and coersing a higher resolution, by adding more rows and columns. To understand the `transform`, let's review [affine transformations](d_affine). Here we will update the scale values with the new resolution using $S_{y}$ and $S_{x}$ show below\n",
    "\n",
    "$$\n",
    "   \\begin{eqnarray}\n",
    "   \\mbox{Scale transform: }  \\begin{bmatrix} S_{x} & 0 & 0 \\\\ 0 & S_{y} & 0 \\\\ 0 & 0 & 1 \\end{bmatrix} \n",
    "   \\end{eqnarray}\n",
    "$$"
   ]
  },
  {
   "cell_type": "code",
   "execution_count": 1,
   "id": "ca7f5fbd",
   "metadata": {},
   "outputs": [
    {
     "name": "stdout",
     "output_type": "stream",
     "text": [
      "Shape before resample: (1860, 2041)\n",
      "Shape after resample: (3720, 4082)\n",
      "Transform before resample:\n",
      " | 30.00, 0.00, 717345.00|\n",
      "| 0.00,-30.00,-2776995.00|\n",
      "| 0.00, 0.00, 1.00| \n",
      "\n",
      "Transform after resample:\n",
      " | 15.00, 0.00, 717345.00|\n",
      "| 0.00,-15.00,-2776995.00|\n",
      "| 0.00, 0.00, 1.00|\n"
     ]
    }
   ],
   "source": [
    "import rasterio\n",
    "from rasterio.enums import Resampling\n",
    "\n",
    "image = \"../data/LC08_L1TP_224078_20200518_20200518_01_RT.TIF\"\n",
    "\n",
    "upscale_factor = 2\n",
    "\n",
    "with rasterio.open(image) as dataset:\n",
    "\n",
    "    # resample data to target shape using upscale_factor\n",
    "    data = dataset.read(\n",
    "        out_shape=(\n",
    "            dataset.count,\n",
    "            int(dataset.height * upscale_factor),\n",
    "            int(dataset.width * upscale_factor)\n",
    "        ),\n",
    "        resampling=Resampling.bilinear\n",
    "    )\n",
    "\n",
    "    print('Shape before resample:', dataset.shape)\n",
    "    print('Shape after resample:', data.shape[1:])\n",
    "\n",
    "    # scale image transform\n",
    "    dst_transform = dataset.transform * dataset.transform.scale(\n",
    "        (dataset.width / data.shape[-1]),\n",
    "        (dataset.height / data.shape[-2])\n",
    "    )\n",
    "\n",
    "    print('Transform before resample:\\n', dataset.transform, '\\n')\n",
    "    print('Transform after resample:\\n', dst_transform)\n",
    "\n",
    "    ## Write outputs\n",
    "    # set properties for output\n",
    "    # dst_kwargs = src.meta.copy()\n",
    "    # dst_kwargs.update(\n",
    "    #     {\n",
    "    #         \"crs\": dst_crs,\n",
    "    #         \"transform\": dst_transform,\n",
    "    #         \"width\": data.shape[-1],\n",
    "    #         \"height\": data.shape[-2],\n",
    "    #         \"nodata\": 0,  \n",
    "    #     }\n",
    "    # )\n",
    "\n",
    "    # with rasterio.open(\"../temp/LC08_20200518_15m.tif\", \"w\", **dst_kwargs) as dst:\n",
    "    #     # iterate through bands\n",
    "    #     for i in range(data.shape[0]):\n",
    "    #           dst.write(data[i].astype(rasterio.uint32), i+1)"
   ]
  },
  {
   "cell_type": "markdown",
   "id": "ce06bd90",
   "metadata": {},
   "source": [
    "```{admonition} Reminder\n",
    "Read up on [affine transformations](d_affine_transform_matrix) to help you understand the `transform.scale` function above. \n",
    "```\n",
    "\n",
    "### Geowombat Up/Down Sampling Example\n",
    "As always the easiest way to deal with resampling is by deploying geowombat. It's like a swiss army knife for kicking raster butt. Here we just need to set the desired resolution with `ref_res`, and the `resampling` method in the open statement. We have a number of resampling methods available depending on the context [listed above](raster_resample_methods). Writing a file is a bit more intuitive too."
   ]
  },
  {
   "cell_type": "code",
   "execution_count": 2,
   "id": "38c9077a",
   "metadata": {},
   "outputs": [
    {
     "name": "stdout",
     "output_type": "stream",
     "text": [
      "<xarray.DataArray (band: 3, y: 3720, x: 4082)>\n",
      "dask.array<open_rasterio-5d3779c5d83524d14a4bbcf537a1f23d<this-array>, shape=(3, 3720, 4082), dtype=uint16, chunksize=(1, 256, 256), chunktype=numpy.ndarray>\n",
      "Coordinates:\n",
      "  * band     (band) int64 1 2 3\n",
      "  * y        (y) float64 -2.777e+06 -2.777e+06 ... -2.833e+06 -2.833e+06\n",
      "  * x        (x) float64 7.174e+05 7.174e+05 7.174e+05 ... 7.786e+05 7.786e+05\n",
      "Attributes:\n",
      "    transform:          (15.0, 0.0, 717345.0, 0.0, -15.0, -2776995.0)\n",
      "    crs:                +init=epsg:32621\n",
      "    res:                (15.0, 15.0)\n",
      "    is_tiled:           1\n",
      "    nodatavals:         (0, 0, 0)\n",
      "    scales:             (1.0, 1.0, 1.0)\n",
      "    offsets:            (0.0, 0.0, 0.0)\n",
      "    filename:           ../data/LC08_L1TP_224078_20200518_20200518_01_RT.TIF\n",
      "    resampling:         bilinear\n",
      "    AREA_OR_POINT:      Area\n",
      "    data_are_separate:  0\n",
      "    data_are_stacked:   0\n"
     ]
    }
   ],
   "source": [
    "import geowombat as gw\n",
    " \n",
    "image = \"../data/LC08_L1TP_224078_20200518_20200518_01_RT.TIF\"\n",
    "\n",
    "with gw.config.update(ref_res=15):\n",
    "    with gw.open(image, resampling=\"bilinear\") as src:\n",
    "        print(src)\n",
    "        \n",
    "        # to write out simply:\n",
    "        # src.gw.to_raster(\n",
    "        #     \"../temp/LC08_20200518_15m.tif\",\n",
    "        #     overwrite=True,\n",
    "        # ) "
   ]
  },
  {
   "cell_type": "markdown",
   "id": "dc19f80d",
   "metadata": {},
   "source": [
    "Much.... easier.... \n",
    "\n",
    "\n",
    "## Co-registering Rasters (Aligning cells)\n",
    "One common problem is how to get raster data to align on a cell by cell basis so you can complete your analysis. We will walk through how to do this for both rasterio and geowombat. In the following example we will learn how to align rasters with different origins, resolutions, or orientations. \n",
    "\n",
    "Our example data will look at registering LandSat data with precipitation data from CHIRPS. \n",
    "\n",
    "### Example of Co-registering Rasters with Rasterio\n",
    "Co-registering data is a bit complicated with rasterio, you simply need to choose an \"reference image\" to match the bounds, CRS, and cell size. \n",
    "\n",
    "The original input data LandSat data is 30 meters and will be downsampled to match `precip` which is 500m.  Also note the use of `nodata` to avoid missing values stored as 0. Note we can choose a number of `resampling` techniques [listed above](raster_resample_methods). For more detail on resampling go to [Introduction to Raster CRS](d_raster_crs_intro)."
   ]
  },
  {
   "cell_type": "code",
   "execution_count": 3,
   "id": "6b67bdd0",
   "metadata": {},
   "outputs": [],
   "source": [
    "from rasterio.warp import reproject, Resampling, calculate_default_transform\n",
    "import rasterio\n",
    "def reproj_match(infile, match, outfile):\n",
    "    \"\"\"Reproject a file to match the shape and projection of existing raster. \n",
    "    \n",
    "    Parameters\n",
    "    ----------\n",
    "    infile : (string) path to input file to reproject\n",
    "    match : (string) path to raster with desired shape and projection \n",
    "    outfile : (string) path to output file tif\n",
    "    \"\"\"\n",
    "    # open input\n",
    "    with rasterio.open(infile) as src:\n",
    "        src_transform = src.transform\n",
    "        \n",
    "        # open input to match\n",
    "        with rasterio.open(match) as match:\n",
    "            dst_crs = match.crs\n",
    "            \n",
    "            # calculate the output transform matrix\n",
    "            dst_transform, dst_width, dst_height = calculate_default_transform(\n",
    "                src.crs,     # input CRS\n",
    "                dst_crs,     # output CRS\n",
    "                match.width,   # input width\n",
    "                match.height,  # input height \n",
    "                *match.bounds,  # unpacks input outer boundaries (left, bottom, right, top)\n",
    "            )\n",
    "\n",
    "        # set properties for output\n",
    "        dst_kwargs = src.meta.copy()\n",
    "        dst_kwargs.update({\"crs\": dst_crs,\n",
    "                           \"transform\": dst_transform,\n",
    "                           \"width\": dst_width,\n",
    "                           \"height\": dst_height,\n",
    "                           \"nodata\": 0})\n",
    "        print(\"Coregistered to shape:\", dst_height,dst_width,'\\n Affine',dst_transform)\n",
    "        # open output\n",
    "        with rasterio.open(outfile, \"w\", **dst_kwargs) as dst:\n",
    "            # iterate through bands and write using reproject function\n",
    "            for i in range(1, src.count + 1):\n",
    "                reproject(\n",
    "                    source=rasterio.band(src, i),\n",
    "                    destination=rasterio.band(dst, i),\n",
    "                    src_transform=src.transform,\n",
    "                    src_crs=src.crs,\n",
    "                    dst_transform=dst_transform,\n",
    "                    dst_crs=dst_crs,\n",
    "                    resampling=Resampling.nearest)\n"
   ]
  },
  {
   "cell_type": "markdown",
   "id": "405220cc",
   "metadata": {},
   "source": [
    "Now we can execute out code to co-register two rasters"
   ]
  },
  {
   "cell_type": "code",
   "execution_count": 4,
   "id": "76f1b7d1",
   "metadata": {},
   "outputs": [
    {
     "name": "stdout",
     "output_type": "stream",
     "text": [
      "Coregistered to shape: 136 157 \n",
      " Affine | 0.00, 0.00,-61.49|\n",
      "| 0.00,-0.00,-0.00|\n",
      "| 0.00, 0.00, 1.00|\n"
     ]
    }
   ],
   "source": [
    "LS = \"../data/LC08_L1TP_224078_20200518_20200518_01_RT.TIF\"\n",
    "precip = \"../data/precipitation_20200601_500m.tif\"\n",
    "\n",
    "# co-register LS to match precip raster\n",
    "reproj_match(infile = LS, \n",
    "             match= precip,\n",
    "             outfile = '../temp/LS_reg_precip.tif')"
   ]
  },
  {
   "cell_type": "markdown",
   "id": "574c7c39",
   "metadata": {},
   "source": [
    "### Example of Co-registering Rasters with Geowombat\n",
    "Co-registering data is simple in geowombat, you simply need to choose an \"reference image\" to match the bounds, CRS, and cell size. \n",
    "\n",
    "The original input data `precip` is currently 500m but will be upsampled to 30m as seen in `print(src)`.  Also note the use of `nodata` to avoid missing values stored as -9999. Note we can choose a number of `resampling` techniques [listed above](raster_resample_methods). For more detail on resampling go to [Introduction to Raster CRS](d_raster_crs_intro)."
   ]
  },
  {
   "cell_type": "code",
   "execution_count": 5,
   "id": "70ede017",
   "metadata": {},
   "outputs": [
    {
     "name": "stdout",
     "output_type": "stream",
     "text": [
      "<xarray.DataArray (band: 1, y: 1860, x: 2041)>\n",
      "dask.array<open_rasterio-5ea1b887333ee835e34ed81f251d6116<this-array>, shape=(1, 1860, 2041), dtype=float32, chunksize=(1, 135, 157), chunktype=numpy.ndarray>\n",
      "Coordinates:\n",
      "  * band     (band) int64 1\n",
      "  * y        (y) float64 -2.777e+06 -2.777e+06 ... -2.833e+06 -2.833e+06\n",
      "  * x        (x) float64 7.174e+05 7.174e+05 7.174e+05 ... 7.785e+05 7.786e+05\n",
      "Attributes: (12/13)\n",
      "    transform:          (30.0, 0.0, 717345.0, 0.0, -30.0, -2776995.0)\n",
      "    crs:                +init=epsg:32621\n",
      "    res:                (30.0, 30.0)\n",
      "    is_tiled:           1\n",
      "    nodatavals:         (0,)\n",
      "    scales:             (1.0,)\n",
      "    ...                 ...\n",
      "    descriptions:       ('precipitation',)\n",
      "    filename:           ../data/precipitation_20200601_500m.tif\n",
      "    resampling:         bilinear\n",
      "    AREA_OR_POINT:      Area\n",
      "    data_are_separate:  0\n",
      "    data_are_stacked:   0\n"
     ]
    },
    {
     "data": {
      "image/png": "[encoded data removed]",
      "text/plain": [
       "<Figure size 1200x800 with 1 Axes>"
      ]
     },
     "metadata": {
      "filenames": {
       "image/png": "/pyGIS/pygis/_build/jupyter_execute/docs/e_raster_resample_9_1.png"
      },
      "needs_background": "light"
     },
     "output_type": "display_data"
    }
   ],
   "source": [
    "import geowombat as gw\n",
    "import matplotlib.pyplot as plt\n",
    "fig, ax = plt.subplots(dpi=200)\n",
    "\n",
    "\n",
    "LS = \"../data/LC08_L1TP_224078_20200518_20200518_01_RT.TIF\"\n",
    "precip = \"../data/precipitation_20200601_500m.tif\"\n",
    "\n",
    "with gw.config.update(ref_image=LS):\n",
    "    with gw.open(precip, resampling=\"bilinear\", nodata=-9999) as src:\n",
    "        print(src)\n",
    "        ax.imshow(src.data[0])\n",
    "        \n",
    "        # to write out simply:\n",
    "        # src.gw.to_raster(\n",
    "        #     \"../temp/precip_20200601_30m.tif\",\n",
    "        #     overwrite=True,\n",
    "        # ) "
   ]
  },
  {
   "cell_type": "markdown",
   "id": "45f54062",
   "metadata": {},
   "source": [
    "Although it's a bit hard to tell, the cell size is now 30m (see the slices of the larger original cells at the top of the image).\n",
    "\n",
    "```{admonition} Note\n",
    "Also note that geowombat's built in `.imshow` functionality doesn't currently work for single band images. To get an image we have to extract a `np.ndarray` that has the shape `(1, 1860, 2041)`. Where `(1,.,.)` is the band, so to get a 2d array we select `data[0]`. We also avoid missing values (-9999).\n",
    "```"
   ]
  }
 ],
 "metadata": {
  "html_meta": {
   "description lang=en": "Learn how to resample single and multi-band rasters using rasterio and geowombat. This includes creating using a 'snap raster' as well as seperately matching extent and or resolution of another raster. We demonstrate these using LandSat imagery as examples.",
   "description lang=es": "Aprenda a volver a muestrear rásteres de una o varias bandas mediante rasterio y geowombat. Esto incluye la creación mediante un 'ráster de ajuste', así como la extensión y / o resolución coincidentes por separado de otro ráster. Demostramos esto usando imágenes de LandSat como ejemplos.",
   "description lang=fr": "Apprenez à rééchantillonner des rasters mono et multicanaux à l'aide de rasterio et geowombat. Cela inclut la création à l'aide d'un « raster d'accrochage » ainsi que la correspondance séparée de l'étendue et/ou de la résolution d'un autre raster. Nous les démontrons en utilisant les images LandSat comme exemples.",
   "property=og:locale": "en_US"
  },
  "jupytext": {
   "text_representation": {
    "extension": ".md",
    "format_name": "myst"
   }
  },
  "kernelspec": {
   "display_name": "Python 3",
   "language": "python",
   "name": "python3"
  },
  "language_info": {
   "codemirror_mode": {
    "name": "ipython",
    "version": 3
   },
   "file_extension": ".py",
   "mimetype": "text/x-python",
   "name": "python",
   "nbconvert_exporter": "python",
   "pygments_lexer": "ipython3",
   "version": "3.7.10"
  },
  "source_map": [
   15,
   80,
   129,
   138,
   152,
   166,
   216,
   219,
   227,
   234,
   253
  ]
 },
 "nbformat": 4,
 "nbformat_minor": 5
}