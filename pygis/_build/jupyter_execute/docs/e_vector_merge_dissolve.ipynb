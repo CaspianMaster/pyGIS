{
 "cells": [
  {
   "cell_type": "markdown",
   "id": "functioning-matter",
   "metadata": {},
   "source": [
    "# Merge, Dissolve, Map w. Census Data\n",
    "\n",
    "By: Steven Chao\n",
    "\n",
    "---------------\n",
    "```{admonition} Learning Objectives\n",
    "* Import dataframes into Python for analysis\n",
    "* Perform basic dataframe column operations\n",
    "* Merge dataframes using a unique key\n",
    "* Group attributes based on a similar attribute\n",
    "* Dissolve vector geometries based on attribute values\n",
    "```\n",
    "```{admonition} Review\n",
    "* [Data Structures](c_features)\n",
    "* [Vector Data ](c_vectors)\n",
    "```\n",
    "--------------\n",
    "\n",
    "\n",
    "## Introduction\n",
    "\n",
    "Dataframes are widely used in Python for manipulating data. Recall that a dataframe is essentially an Excel spreadsheet (a 2-D table of rows and columns); in fact, many of the functions that you might use in Excel can often be replicated when working with dataframes in Python!\n",
    "\n",
    "This chapter will introduce you to some of the basic operations that you can perform on dataframes. We will use these basic operations in order to calculate and map poverty rates in the Commonwealth of Virginia. We will pull data from the US Census Bureau's [American Community Survey (ACS)](https://www.census.gov/programs-surveys/acs) 2019 (see [this page](https://www.census.gov/data/developers/data-sets/acs-5year.html) for the data)."
   ]
  },
  {
   "cell_type": "code",
   "execution_count": 1,
   "id": "floral-surgeon",
   "metadata": {},
   "outputs": [],
   "source": [
    "# Import modules\n",
    "import matplotlib.pyplot as plt\n",
    "import pandas as pd\n",
    "import geopandas as gpd\n",
    "from census import Census\n",
    "from us import states"
   ]
  },
  {
   "cell_type": "markdown",
   "id": "empirical-mayor",
   "metadata": {},
   "source": [
    "## Accessing Data\n",
    "\n",
    "### Import census data\n",
    "\n",
    "Let's begin by accessing and importing census data. Importing census data into Python requires a Census API key. A key can be obtained from [Census API Key](http://api.census.gov/data/key_signup.html).  **It will provide you with a unique 40 digit text string. Please keep track of this number. Store it in a safe place.**"
   ]
  },
  {
   "cell_type": "code",
   "execution_count": 2,
   "id": "seeing-wales",
   "metadata": {
    "tags": [
     "remove-output"
    ]
   },
   "outputs": [],
   "source": [
    "# Set API key\n",
    "c = Census(\"CENSUS API KEY HERE\")"
   ]
  },
  {
   "cell_type": "code",
   "execution_count": 3,
   "id": "preliminary-christopher",
   "metadata": {
    "tags": [
     "hide-cell"
    ]
   },
   "outputs": [],
   "source": [
    "#ignore this, I am just reading in my api key privately\n",
    "with open(\"../../../census_api.txt\", \"r\") as f:\n",
    "    c = Census(f.read().replace('\\n', ''))"
   ]
  },
  {
   "cell_type": "markdown",
   "id": "suspected-korean",
   "metadata": {},
   "source": [
    "With the Census API key set, we will access the census data at the tract level for the Commonwealth of Virginia from the 2019 ACS, specifically the `ratio of income to poverty in the past 12 months` (`C17002_001E`, total; `C17002_002E`, < 0.50; and `C17002_003E`, 0.50 - 0.99) variables and the `total population` (`B01003_001E`) variable. For more information on why these variables are used, refer to the US Census Bureau's [article on how the Census Bureau measures poverty](https://www.census.gov/topics/income-poverty/poverty/guidance/poverty-measures.html) and the [list of variables found in ACS](https://api.census.gov/data/2019/acs/acs5/variables.html).\n",
    "\n",
    "The `census` package provides us with some easy convenience methods that allow us to obtain data for a wide variety of geographies. The FIPS code for Virginia is 51, but if needed, we can also use the `us` library to help us figure out the relevant FIPS code."
   ]
  },
  {
   "cell_type": "code",
   "execution_count": 4,
   "id": "mental-thanksgiving",
   "metadata": {},
   "outputs": [],
   "source": [
    "# Obtain Census variables from the 2019 ACS at the tract level for the Commonwealth of Virginia (FIPS code: 51)\n",
    "# C17002_001E: count of ratio of income to poverty in the past 12 months (total)\n",
    "# C17002_002E: count of ratio of income to poverty in the past 12 months (< 0.50)\n",
    "# C17002_003E: count of ratio of income to poverty in the past 12 months (0.50 - 0.99)\n",
    "# B01003_001E: total population\n",
    "# Sources: https://api.census.gov/data/2019/acs/acs5/variables.html; https://pypi.org/project/census/\n",
    "va_census = c.acs5.state_county_tract(fields = ('NAME', 'C17002_001E', 'C17002_002E', 'C17002_003E', 'B01003_001E'),\n",
    "                                      state_fips = states.VA.fips,\n",
    "                                      county_fips = \"*\",\n",
    "                                      tract = \"*\",\n",
    "                                      year = 2017)"
   ]
  },
  {
   "cell_type": "markdown",
   "id": "scheduled-liechtenstein",
   "metadata": {},
   "source": [
    "Now that we have accessed the data and assigned it to a variable, we can read the data into a dataframe using the `pandas` library."
   ]
  },
  {
   "cell_type": "code",
   "execution_count": 5,
   "id": "scheduled-cabinet",
   "metadata": {},
   "outputs": [
    {
     "name": "stdout",
     "output_type": "stream",
     "text": [
      "                                         NAME  C17002_001E  C17002_002E  \\\n",
      "0     Census Tract 60, Norfolk city, Virginia       3947.0        284.0   \n",
      "1  Census Tract 65.02, Norfolk city, Virginia       3287.0        383.0   \n",
      "\n",
      "   C17002_003E  B01003_001E state county   tract  \n",
      "0        507.0       3947.0    51    710  006000  \n",
      "1        480.0       3302.0    51    710  006502  \n",
      "Shape:  (1907, 8)\n"
     ]
    }
   ],
   "source": [
    "# Create a dataframe from the census data\n",
    "va_df = pd.DataFrame(va_census)\n",
    "\n",
    "# Show the dataframe\n",
    "print(va_df.head(2))\n",
    "print('Shape: ', va_df.shape)"
   ]
  },
  {
   "cell_type": "markdown",
   "id": "proper-indian",
   "metadata": {},
   "source": [
    "By showing the dataframe, we can see that there are 1907 rows (therefore 1907 census tracts) and 8 columns.\n",
    "\n",
    "### Import Shapefile\n",
    "\n",
    "Let's also read into Python a shapefile of the Virginia census tracts and reproject it to the UTM Zone 17N projection. (This shapefile can be downloaded on the Census Bureau's website on the [Cartographic Boundary Files page](https://www.census.gov/geographies/mapping-files/time-series/geo/cartographic-boundary.html) or the [TIGER/Line Shapefiles page](https://www.census.gov/geographies/mapping-files/time-series/geo/tiger-line-file.html).)"
   ]
  },
  {
   "cell_type": "code",
   "execution_count": 6,
   "id": "academic-omaha",
   "metadata": {},
   "outputs": [
    {
     "name": "stdout",
     "output_type": "stream",
     "text": [
      "  STATEFP COUNTYFP TRACTCE        GEOID    NAME             NAMELSAD  MTFCC  \\\n",
      "0      51      700  032132  51700032132  321.32  Census Tract 321.32  G5020   \n",
      "1      51      700  032226  51700032226  322.26  Census Tract 322.26  G5020   \n",
      "\n",
      "  FUNCSTAT    ALAND  AWATER     INTPTLAT      INTPTLON  \\\n",
      "0        S  2552457       0  +37.1475176  -076.5212499   \n",
      "1        S  3478916  165945  +37.1625163  -076.5527816   \n",
      "\n",
      "                                            geometry  \n",
      "0  POLYGON ((897174.191 4119897.084, 897174.811 4...  \n",
      "1  POLYGON ((893470.562 4123469.385, 893542.722 4...  \n",
      "Shape:  (1907, 13)\n",
      "\n",
      "The shapefile projection is: epsg:32617\n"
     ]
    }
   ],
   "source": [
    "# Access shapefile of Virginia census tracts\n",
    "va_tract = gpd.read_file(\"https://www2.census.gov/geo/tiger/TIGER2019/TRACT/tl_2019_51_tract.zip\")\n",
    "\n",
    "# Reproject shapefile to UTM Zone 17N\n",
    "# https://spatialreference.org/ref/epsg/wgs-84-utm-zone-17n/\n",
    "va_tract = va_tract.to_crs(epsg = 32617)\n",
    "\n",
    "# Print GeoDataFrame of shapefile\n",
    "print(va_tract.head(2))\n",
    "print('Shape: ', va_tract.shape)\n",
    "\n",
    "# Check shapefile projection\n",
    "print(\"\\nThe shapefile projection is: {}\".format(va_tract.crs))"
   ]
  },
  {
   "cell_type": "markdown",
   "id": "wicked-essex",
   "metadata": {},
   "source": [
    "By printing the shapefile, we can see that the shapefile also has 1907 rows (1907 tracts). This number matches with the number of census records that we have on file. Perfect!\n",
    "\n",
    "Not so fast, though. We have a potential problem: We have the census data, and we have the shapefile of census tracts that correspond with that data, but they are stored in two separate variables (`va_df` and `va_tract` respectively)! That makes it a bit difficult to map since these two separate datasets aren't connected to each other.\n",
    "\n",
    "## Performing Dataframe Operations\n",
    "\n",
    "### Create new column from old columns to get combined FIPS code\n",
    "\n",
    "To solve this problem, we can join the two dataframes together via a field or column that is common to both dataframes, which is referred to as a key.\n",
    "\n",
    "Looking at the two datasets above, it appears that the `GEOID` column from `va_tract` and the `state`, `county`, and `tract` columns combined from `va_df` could serve as the unique key for joining these two dataframes together. In their current forms, this join will not be successful, as we'll need to merge the `state`, `county`, and `tract` columns from `va_df` together to make it parallel to the `GEOID` column from `va_tract`. We can simply add the columns together, much like math or the basic operators in Python, and assign the \"sum\" to a new column.\n",
    "\n",
    "To create a new column--or call an existing column in a dataframe--we can use indexing with `[]` and the column name (string). (There is a different way if you want to access columns using the index number; read more about indexing and selecting data [in the pandas documentation](https://pandas.pydata.org/pandas-docs/stable/user_guide/indexing.html).)"
   ]
  },
  {
   "cell_type": "code",
   "execution_count": 7,
   "id": "arranged-australia",
   "metadata": {},
   "outputs": [],
   "source": [
    "# Combine state, county, and tract columns together to create a new string and assign to new column\n",
    "va_df[\"GEOID\"] = va_df[\"state\"] + va_df[\"county\"] + va_df[\"tract\"]"
   ]
  },
  {
   "cell_type": "markdown",
   "id": "dominant-picture",
   "metadata": {},
   "source": [
    "Printing out the first rew rows of the dataframe, we can see that the new column `GEOID` has been created with the values from the three columns combined."
   ]
  },
  {
   "cell_type": "code",
   "execution_count": 8,
   "id": "hungry-condition",
   "metadata": {},
   "outputs": [
    {
     "data": {
      "text/html": [
       "<div>\n",
       "<style scoped>\n",
       "    .dataframe tbody tr th:only-of-type {\n",
       "        vertical-align: middle;\n",
       "    }\n",
       "\n",
       "    .dataframe tbody tr th {\n",
       "        vertical-align: top;\n",
       "    }\n",
       "\n",
       "    .dataframe thead th {\n",
       "        text-align: right;\n",
       "    }\n",
       "</style>\n",
       "<table border=\"1\" class=\"dataframe\">\n",
       "  <thead>\n",
       "    <tr style=\"text-align: right;\">\n",
       "      <th></th>\n",
       "      <th>NAME</th>\n",
       "      <th>C17002_001E</th>\n",
       "      <th>C17002_002E</th>\n",
       "      <th>C17002_003E</th>\n",
       "      <th>B01003_001E</th>\n",
       "      <th>state</th>\n",
       "      <th>county</th>\n",
       "      <th>tract</th>\n",
       "      <th>GEOID</th>\n",
       "    </tr>\n",
       "  </thead>\n",
       "  <tbody>\n",
       "    <tr>\n",
       "      <th>0</th>\n",
       "      <td>Census Tract 60, Norfolk city, Virginia</td>\n",
       "      <td>3947.0</td>\n",
       "      <td>284.0</td>\n",
       "      <td>507.0</td>\n",
       "      <td>3947.0</td>\n",
       "      <td>51</td>\n",
       "      <td>710</td>\n",
       "      <td>006000</td>\n",
       "      <td>51710006000</td>\n",
       "    </tr>\n",
       "    <tr>\n",
       "      <th>1</th>\n",
       "      <td>Census Tract 65.02, Norfolk city, Virginia</td>\n",
       "      <td>3287.0</td>\n",
       "      <td>383.0</td>\n",
       "      <td>480.0</td>\n",
       "      <td>3302.0</td>\n",
       "      <td>51</td>\n",
       "      <td>710</td>\n",
       "      <td>006502</td>\n",
       "      <td>51710006502</td>\n",
       "    </tr>\n",
       "  </tbody>\n",
       "</table>\n",
       "</div>"
      ],
      "text/plain": [
       "                                         NAME  C17002_001E  C17002_002E  \\\n",
       "0     Census Tract 60, Norfolk city, Virginia       3947.0        284.0   \n",
       "1  Census Tract 65.02, Norfolk city, Virginia       3287.0        383.0   \n",
       "\n",
       "   C17002_003E  B01003_001E state county   tract        GEOID  \n",
       "0        507.0       3947.0    51    710  006000  51710006000  \n",
       "1        480.0       3302.0    51    710  006502  51710006502  "
      ]
     },
     "execution_count": 8,
     "metadata": {},
     "output_type": "execute_result"
    }
   ],
   "source": [
    "# Print head of dataframe\n",
    "va_df.head(2)"
   ]
  },
  {
   "cell_type": "markdown",
   "id": "separated-audience",
   "metadata": {},
   "source": [
    "### Remove dataframe columns that are no longer needed\n",
    "\n",
    "To reduce clutter, we can delete the `state`, `county`, and `tract` columns from `va_df` since we don't need them anymore. Remember that when we want to modify a dataframe, we must assign the modified dataframe back to the original variable (or a new one, if preferred). Otherwise, any modifications won't be saved. An alternative to assigning the dataframe back to the variable is to simply pass `inplace = True`. For more information, see the [pandas help documentation on `drop`](https://pandas.pydata.org/docs/reference/api/pandas.DataFrame.drop.html)."
   ]
  },
  {
   "cell_type": "code",
   "execution_count": 9,
   "id": "developmental-swedish",
   "metadata": {},
   "outputs": [
    {
     "data": {
      "text/html": [
       "<div>\n",
       "<style scoped>\n",
       "    .dataframe tbody tr th:only-of-type {\n",
       "        vertical-align: middle;\n",
       "    }\n",
       "\n",
       "    .dataframe tbody tr th {\n",
       "        vertical-align: top;\n",
       "    }\n",
       "\n",
       "    .dataframe thead th {\n",
       "        text-align: right;\n",
       "    }\n",
       "</style>\n",
       "<table border=\"1\" class=\"dataframe\">\n",
       "  <thead>\n",
       "    <tr style=\"text-align: right;\">\n",
       "      <th></th>\n",
       "      <th>NAME</th>\n",
       "      <th>C17002_001E</th>\n",
       "      <th>C17002_002E</th>\n",
       "      <th>C17002_003E</th>\n",
       "      <th>B01003_001E</th>\n",
       "      <th>GEOID</th>\n",
       "    </tr>\n",
       "  </thead>\n",
       "  <tbody>\n",
       "    <tr>\n",
       "      <th>0</th>\n",
       "      <td>Census Tract 60, Norfolk city, Virginia</td>\n",
       "      <td>3947.0</td>\n",
       "      <td>284.0</td>\n",
       "      <td>507.0</td>\n",
       "      <td>3947.0</td>\n",
       "      <td>51710006000</td>\n",
       "    </tr>\n",
       "    <tr>\n",
       "      <th>1</th>\n",
       "      <td>Census Tract 65.02, Norfolk city, Virginia</td>\n",
       "      <td>3287.0</td>\n",
       "      <td>383.0</td>\n",
       "      <td>480.0</td>\n",
       "      <td>3302.0</td>\n",
       "      <td>51710006502</td>\n",
       "    </tr>\n",
       "  </tbody>\n",
       "</table>\n",
       "</div>"
      ],
      "text/plain": [
       "                                         NAME  C17002_001E  C17002_002E  \\\n",
       "0     Census Tract 60, Norfolk city, Virginia       3947.0        284.0   \n",
       "1  Census Tract 65.02, Norfolk city, Virginia       3287.0        383.0   \n",
       "\n",
       "   C17002_003E  B01003_001E        GEOID  \n",
       "0        507.0       3947.0  51710006000  \n",
       "1        480.0       3302.0  51710006502  "
      ]
     },
     "execution_count": 9,
     "metadata": {},
     "output_type": "execute_result"
    }
   ],
   "source": [
    "# Remove columns\n",
    "va_df = va_df.drop(columns = [\"state\", \"county\", \"tract\"])\n",
    "\n",
    "# Show updated dataframe\n",
    "va_df.head(2)"
   ]
  },
  {
   "cell_type": "markdown",
   "id": "bronze-format",
   "metadata": {},
   "source": [
    "### Check column data types\n",
    "\n",
    "The key in both dataframe must be of the same data type. Let's check the data type of the `GEOID` columns in both dataframes. If they aren't the same, we will have to change the data type of columns to make them the same."
   ]
  },
  {
   "cell_type": "code",
   "execution_count": 10,
   "id": "unknown-color",
   "metadata": {},
   "outputs": [
    {
     "name": "stdout",
     "output_type": "stream",
     "text": [
      "Column data types for census data:\n",
      "NAME            object\n",
      "C17002_001E    float64\n",
      "C17002_002E    float64\n",
      "C17002_003E    float64\n",
      "B01003_001E    float64\n",
      "GEOID           object\n",
      "dtype: object\n",
      "\n",
      "Column data types for census shapefile:\n",
      "STATEFP       object\n",
      "COUNTYFP      object\n",
      "TRACTCE       object\n",
      "GEOID         object\n",
      "NAME          object\n",
      "NAMELSAD      object\n",
      "MTFCC         object\n",
      "FUNCSTAT      object\n",
      "ALAND          int64\n",
      "AWATER         int64\n",
      "INTPTLAT      object\n",
      "INTPTLON      object\n",
      "geometry    geometry\n",
      "dtype: object\n"
     ]
    }
   ],
   "source": [
    "# Check column data types for census data\n",
    "print(\"Column data types for census data:\\n{}\".format(va_df.dtypes))\n",
    "\n",
    "# Check column data types for census shapefile\n",
    "print(\"\\nColumn data types for census shapefile:\\n{}\".format(va_tract.dtypes))\n",
    "\n",
    "# Source: https://pandas.pydata.org/pandas-docs/stable/reference/api/pandas.DataFrame.dtypes.html"
   ]
  },
  {
   "cell_type": "markdown",
   "id": "defined-basket",
   "metadata": {},
   "source": [
    "Looks like the `GEOID` columns are the same!\n",
    "\n",
    "### Merge dataframes\n",
    "\n",
    "Now, we are ready to merge the two dataframes together, using the `GEOID` columns as the primary key. We can use the `merge` method in `GeoPandas` called on the `va_tract` shapefile dataset."
   ]
  },
  {
   "cell_type": "code",
   "execution_count": 11,
   "id": "generic-pakistan",
   "metadata": {},
   "outputs": [
    {
     "name": "stdout",
     "output_type": "stream",
     "text": [
      "  STATEFP COUNTYFP TRACTCE        GEOID  NAME_x             NAMELSAD  MTFCC  \\\n",
      "0      51      700  032132  51700032132  321.32  Census Tract 321.32  G5020   \n",
      "1      51      700  032226  51700032226  322.26  Census Tract 322.26  G5020   \n",
      "\n",
      "  FUNCSTAT    ALAND  AWATER     INTPTLAT      INTPTLON  \\\n",
      "0        S  2552457       0  +37.1475176  -076.5212499   \n",
      "1        S  3478916  165945  +37.1625163  -076.5527816   \n",
      "\n",
      "                                            geometry  \\\n",
      "0  POLYGON ((897174.191 4119897.084, 897174.811 4...   \n",
      "1  POLYGON ((893470.562 4123469.385, 893542.722 4...   \n",
      "\n",
      "                                             NAME_y  C17002_001E  C17002_002E  \\\n",
      "0  Census Tract 321.32, Newport News city, Virginia       5025.0        161.0   \n",
      "1  Census Tract 322.26, Newport News city, Virginia       4167.0        736.0   \n",
      "\n",
      "   C17002_003E  B01003_001E  \n",
      "0        342.0       5079.0  \n",
      "1        559.0       4167.0  \n",
      "Shape:  (1907, 18)\n"
     ]
    }
   ],
   "source": [
    "# Join the attributes of the dataframes together\n",
    "# Source: https://geopandas.org/docs/user_guide/mergingdata.html\n",
    "va_merge = va_tract.merge(va_df, on = \"GEOID\")\n",
    "\n",
    "# Show result\n",
    "print(va_merge.head(2))\n",
    "print('Shape: ', va_merge.shape)"
   ]
  },
  {
   "cell_type": "markdown",
   "id": "promotional-marks",
   "metadata": {},
   "source": [
    "Success! We still have 1907 rows, which means that all rows (or most of them) were successfully matched! Notice how the census data has been added on after the shapefile data in the dataframe.\n",
    "\n",
    "Some additional notes about joining dataframes:\n",
    "* the columns for the key do not need to have the same name.\n",
    "* for this join, we had a one-to-one relationship, meaning one attribute in one dataframe matched to one (and only one) attribute in the other dataframe. Joins with a many-to-one, one-to-many, or many-to-many relationship are also possible, but in some cases, they require some special considerations. See this [Esri ArcGIS help documentation on joins and relates](https://desktop.arcgis.com/en/arcmap/10.3/manage-data/tables/about-joining-and-relating-tables.htm) for more information.\n",
    "\n",
    "### Subset dataframe\n",
    "\n",
    "Now that we merged the dataframes together, we can further clean up the dataframe and remove columns that are not needed. Instead of using the `drop` method, we can simply select the columns we want to keep and create a new dataframe with those selected columns."
   ]
  },
  {
   "cell_type": "code",
   "execution_count": 12,
   "id": "postal-horizon",
   "metadata": {},
   "outputs": [
    {
     "name": "stdout",
     "output_type": "stream",
     "text": [
      "  STATEFP COUNTYFP TRACTCE        GEOID  \\\n",
      "0      51      700  032132  51700032132   \n",
      "1      51      700  032226  51700032226   \n",
      "\n",
      "                                            geometry  C17002_001E  \\\n",
      "0  POLYGON ((897174.191 4119897.084, 897174.811 4...       5025.0   \n",
      "1  POLYGON ((893470.562 4123469.385, 893542.722 4...       4167.0   \n",
      "\n",
      "   C17002_002E  C17002_003E  B01003_001E  \n",
      "0        161.0        342.0       5079.0  \n",
      "1        736.0        559.0       4167.0  \n",
      "Shape:  (1907, 9)\n"
     ]
    }
   ],
   "source": [
    "# Create new dataframe from select columns\n",
    "va_poverty_tract = va_merge[[\"STATEFP\", \"COUNTYFP\", \"TRACTCE\", \"GEOID\", \"geometry\", \"C17002_001E\", \"C17002_002E\", \"C17002_003E\", \"B01003_001E\"]]\n",
    "\n",
    "# Show dataframe\n",
    "print(va_poverty_tract.head(2))\n",
    "print('Shape: ', va_poverty_tract.shape)"
   ]
  },
  {
   "cell_type": "markdown",
   "id": "stone-northeast",
   "metadata": {},
   "source": [
    "Notice how the number of columns dropped from 13 to 9.\n",
    "\n",
    "### Dissolve geometries and get summarized statistics to get poverty statistics at the county level\n",
    "\n",
    "Next, we will group all the census tracts within the same county (`COUNTYFP`) and aggregate the poverty and population values for those tracts within the same county. We can use the `dissolve` function in `GeoPandas`, which is the spatial version of `groupby` in `pandas`. We use `dissolve` instead of `groupby` because the former also groups and merges all the geometries (in this case, census tracts) within a given group (in this case, counties)."
   ]
  },
  {
   "cell_type": "code",
   "execution_count": 13,
   "id": "minimal-bloom",
   "metadata": {},
   "outputs": [
    {
     "name": "stdout",
     "output_type": "stream",
     "text": [
      "                                                   geometry  C17002_001E  \\\n",
      "COUNTYFP                                                                   \n",
      "001       POLYGON ((971901.668 4160101.088, 971814.409 4...      32345.0   \n",
      "003       POLYGON ((734957.267 4207640.156, 734931.249 4...      97587.0   \n",
      "\n",
      "          C17002_002E  C17002_003E  B01003_001E  \n",
      "COUNTYFP                                         \n",
      "001            2423.0       3993.0      32840.0  \n",
      "003            5276.0       4305.0     105105.0  \n",
      "Shape:  (133, 5)\n"
     ]
    }
   ],
   "source": [
    "# Dissolve and group the census tracts within each county and aggregate all the values together\n",
    "# Source: https://geopandas.org/docs/user_guide/aggregation_with_dissolve.html\n",
    "va_poverty_county = va_poverty_tract.dissolve(by = 'COUNTYFP', aggfunc = 'sum')\n",
    "\n",
    "# Show dataframe\n",
    "print(va_poverty_county.head(2))\n",
    "print('Shape: ', va_poverty_county.shape)"
   ]
  },
  {
   "cell_type": "markdown",
   "id": "egyptian-superintendent",
   "metadata": {},
   "source": [
    "Notice that we got the number of rows down from 1907 to 133.\n",
    "\n",
    "### Perform column math to get poverty rates\n",
    "\n",
    "We can estimate the poverty rate by dividing the sum of `C17002_002E` (ratio of income to poverty in the past 12 months, < 0.50) and `C17002_003E` (ratio of income to poverty in the past 12 months, 0.50 - 0.99) by `B01003_001E` (total population).\n",
    "\n",
    "Side note: Notice that `C17002_001E` (ratio of income to poverty in the past 12 months, total), which theoretically should count everyone, does not exactly match up with `B01003_001E` (total population). We'll disregard this for now since the difference is not too significant."
   ]
  },
  {
   "cell_type": "code",
   "execution_count": 14,
   "id": "determined-poetry",
   "metadata": {},
   "outputs": [
    {
     "data": {
      "text/html": [
       "<div>\n",
       "<style scoped>\n",
       "    .dataframe tbody tr th:only-of-type {\n",
       "        vertical-align: middle;\n",
       "    }\n",
       "\n",
       "    .dataframe tbody tr th {\n",
       "        vertical-align: top;\n",
       "    }\n",
       "\n",
       "    .dataframe thead th {\n",
       "        text-align: right;\n",
       "    }\n",
       "</style>\n",
       "<table border=\"1\" class=\"dataframe\">\n",
       "  <thead>\n",
       "    <tr style=\"text-align: right;\">\n",
       "      <th></th>\n",
       "      <th>geometry</th>\n",
       "      <th>C17002_001E</th>\n",
       "      <th>C17002_002E</th>\n",
       "      <th>C17002_003E</th>\n",
       "      <th>B01003_001E</th>\n",
       "      <th>Poverty_Rate</th>\n",
       "    </tr>\n",
       "    <tr>\n",
       "      <th>COUNTYFP</th>\n",
       "      <th></th>\n",
       "      <th></th>\n",
       "      <th></th>\n",
       "      <th></th>\n",
       "      <th></th>\n",
       "      <th></th>\n",
       "    </tr>\n",
       "  </thead>\n",
       "  <tbody>\n",
       "    <tr>\n",
       "      <th>001</th>\n",
       "      <td>POLYGON ((971901.668 4160101.088, 971814.409 4...</td>\n",
       "      <td>32345.0</td>\n",
       "      <td>2423.0</td>\n",
       "      <td>3993.0</td>\n",
       "      <td>32840.0</td>\n",
       "      <td>19.537150</td>\n",
       "    </tr>\n",
       "    <tr>\n",
       "      <th>003</th>\n",
       "      <td>POLYGON ((734957.267 4207640.156, 734931.249 4...</td>\n",
       "      <td>97587.0</td>\n",
       "      <td>5276.0</td>\n",
       "      <td>4305.0</td>\n",
       "      <td>105105.0</td>\n",
       "      <td>9.115646</td>\n",
       "    </tr>\n",
       "  </tbody>\n",
       "</table>\n",
       "</div>"
      ],
      "text/plain": [
       "                                                   geometry  C17002_001E  \\\n",
       "COUNTYFP                                                                   \n",
       "001       POLYGON ((971901.668 4160101.088, 971814.409 4...      32345.0   \n",
       "003       POLYGON ((734957.267 4207640.156, 734931.249 4...      97587.0   \n",
       "\n",
       "          C17002_002E  C17002_003E  B01003_001E  Poverty_Rate  \n",
       "COUNTYFP                                                       \n",
       "001            2423.0       3993.0      32840.0     19.537150  \n",
       "003            5276.0       4305.0     105105.0      9.115646  "
      ]
     },
     "execution_count": 14,
     "metadata": {},
     "output_type": "execute_result"
    }
   ],
   "source": [
    "# Get poverty rate and store values in new column\n",
    "va_poverty_county[\"Poverty_Rate\"] = (va_poverty_county[\"C17002_002E\"] + va_poverty_county[\"C17002_003E\"]) / va_poverty_county[\"B01003_001E\"] * 100\n",
    "\n",
    "# Show dataframe\n",
    "va_poverty_county.head(2)"
   ]
  },
  {
   "cell_type": "markdown",
   "id": "powered-catering",
   "metadata": {},
   "source": [
    "## Plotting Results\n",
    "\n",
    "Finally, since we have the spatial component connected to our census data, we can plot the results!"
   ]
  },
  {
   "cell_type": "code",
   "execution_count": 15,
   "id": "controlled-casino",
   "metadata": {},
   "outputs": [
    {
     "data": {
      "text/plain": [
       "Text(0.5, 1.0, 'Poverty Rates (%) in Virginia')"
      ]
     },
     "execution_count": 15,
     "metadata": {},
     "output_type": "execute_result"
    },
    {
     "data": {
      "image/png": "[encoded data removed]",
      "text/plain": [
       "<Figure size 1440x720 with 2 Axes>"
      ]
     },
     "metadata": {
      "filenames": {
       "image/png": "/home/mmann1123/Documents/github/pyGIS/pygis/_build/jupyter_execute/docs/e_vector_merge_dissolve_28_1.png"
      },
      "needs_background": "light"
     },
     "output_type": "display_data"
    }
   ],
   "source": [
    "# Create subplots\n",
    "fig, ax = plt.subplots(1, 1, figsize = (20, 10))\n",
    "\n",
    "# Plot data\n",
    "# Source: https://geopandas.readthedocs.io/en/latest/docs/user_guide/mapping.html\n",
    "va_poverty_county.plot(column = \"Poverty_Rate\",\n",
    "                       ax = ax,\n",
    "                       cmap = \"RdPu\",\n",
    "                       legend = True)\n",
    "\n",
    "# Stylize plots\n",
    "plt.style.use('bmh')\n",
    "\n",
    "# Set title\n",
    "ax.set_title('Poverty Rates (%) in Virginia', fontdict = {'fontsize': '25', 'fontweight' : '3'})"
   ]
  }
 ],
 "metadata": {
  "jupytext": {
   "text_representation": {
    "extension": ".md",
    "format_name": "myst",
    "format_version": 0.12,
    "jupytext_version": "1.8.2"
   }
  },
  "kernelspec": {
   "display_name": "Python 3.7.10 64-bit ('pygisbookgw': conda)",
   "name": "python371064bitpygisbookgwconda0513153e7d7b4503839be1e6673bfbb2"
  },
  "language_info": {
   "codemirror_mode": {
    "name": "ipython",
    "version": 3
   },
   "file_extension": ".py",
   "mimetype": "text/x-python",
   "name": "python",
   "nbconvert_exporter": "python",
   "pygments_lexer": "ipython3",
   "version": "3.7.10"
  },
  "source_map": [
   11,
   38,
   45,
   54,
   60,
   65,
   71,
   83,
   87,
   94,
   102,
   116,
   132,
   135,
   139,
   142,
   148,
   154,
   160,
   168,
   176,
   184,
   196,
   203,
   211,
   219,
   229,
   235,
   241
  ]
 },
 "nbformat": 4,
 "nbformat_minor": 5
}