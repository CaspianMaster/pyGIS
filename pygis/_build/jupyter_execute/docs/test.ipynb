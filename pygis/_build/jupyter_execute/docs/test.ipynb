{
 "cells": [
  {
   "cell_type": "code",
   "execution_count": 1,
   "metadata": {},
   "outputs": [
    {
     "data": {
      "image/png": "[encoded data removed]",
      "text/plain": [
       "<Figure size 864x432 with 1 Axes>"
      ]
     },
     "metadata": {
      "filenames": {
       "image/png": "/home/mmann1123/Documents/github/pyGIS/pygis/_build/jupyter_execute/docs/test_0_0.png"
      },
      "needs_background": "light"
     },
     "output_type": "display_data"
    }
   ],
   "source": [
    "import geopandas as gpd\n",
    "import matplotlib.pyplot as plt\n",
    "from shapely.geometry import Point\n",
    "plt.style.use('bmh') # better for plotting geometries vs general plots.\n",
    "\n",
    "\n",
    "d = {'name': ['Washington\\n(38.90, -77.03)', 'Baltimore\\n(39.29, -76.61)'], 'geometry': [Point(38.907192, -77.036873), Point(39.290386, -76.612190)]}\n",
    "gdf = gpd.GeoDataFrame(d, crs=\"EPSG:4326\")\n",
    "\n",
    "fig, ax = plt.subplots(figsize=(12, 6))\n",
    "gdf.plot(ax=ax)\n",
    "plt.xlim([38.5, 40])\n",
    "\n",
    "for x, y, label in zip(gdf.geometry.x, gdf.geometry.y, gdf.name):\n",
    "    ax.annotate(label, xy=(x, y), xytext=(3, 3), textcoords=\"offset points\")\n"
   ]
  },
  {
   "cell_type": "code",
   "execution_count": 2,
   "metadata": {},
   "outputs": [
    {
     "ename": "IndentationError",
     "evalue": "unexpected indent (<ipython-input-2-0285122a5659>, line 5)",
     "output_type": "error",
     "traceback": [
      "\u001b[0;36m  File \u001b[0;32m\"<ipython-input-2-0285122a5659>\"\u001b[0;36m, line \u001b[0;32m5\u001b[0m\n\u001b[0;31m    Y =[2,1,3]\u001b[0m\n\u001b[0m    ^\u001b[0m\n\u001b[0;31mIndentationError\u001b[0m\u001b[0;31m:\u001b[0m unexpected indent\n"
     ]
    }
   ],
   "source": [
    "\n",
    "import geopandas\n",
    "from plotnine import *\n",
    "\n",
    "X = [1,3,2]\n",
    " Y =[2,1,3]\n",
    "\n",
    "(\n",
    "ggplot() + geom_point(aes(x=X, y=Y), size=2) +\n",
    "      theme(title = NULL)  +        \n",
    "      coord_cartesian(xlim = c(0,4), ylim = c(0,4))  +\n",
    "     geom_text(aes(x=X, y=Y, label = paste(\"(\",X,\",\",Y,\")\",sep=\"\")), hjust = 1.2, size=3)\n",
    "     \n",
    ")"
   ]
  },
  {
   "cell_type": "code",
   "execution_count": 14,
   "metadata": {},
   "outputs": [
    {
     "data": {
      "text/html": [
       "<div>\n",
       "<style scoped>\n",
       "    .dataframe tbody tr th:only-of-type {\n",
       "        vertical-align: middle;\n",
       "    }\n",
       "\n",
       "    .dataframe tbody tr th {\n",
       "        vertical-align: top;\n",
       "    }\n",
       "\n",
       "    .dataframe thead th {\n",
       "        text-align: right;\n",
       "    }\n",
       "</style>\n",
       "<table border=\"1\" class=\"dataframe\">\n",
       "  <thead>\n",
       "    <tr style=\"text-align: right;\">\n",
       "      <th></th>\n",
       "      <th>col1</th>\n",
       "      <th>geometry</th>\n",
       "    </tr>\n",
       "  </thead>\n",
       "  <tbody>\n",
       "    <tr>\n",
       "      <th>0</th>\n",
       "      <td>WasDC</td>\n",
       "      <td>POINT (38.90719 -77.03687)</td>\n",
       "    </tr>\n",
       "    <tr>\n",
       "      <th>1</th>\n",
       "      <td>Phili</td>\n",
       "      <td>POINT (39.95258 -75.16522)</td>\n",
       "    </tr>\n",
       "  </tbody>\n",
       "</table>\n",
       "</div>"
      ],
      "text/plain": [
       "    col1                    geometry\n",
       "0  WasDC  POINT (38.90719 -77.03687)\n",
       "1  Phili  POINT (39.95258 -75.16522)"
      ]
     },
     "execution_count": 14,
     "metadata": {},
     "output_type": "execute_result"
    }
   ],
   "source": [
    "gdf"
   ]
  },
  {
   "cell_type": "code",
   "execution_count": null,
   "metadata": {},
   "outputs": [],
   "source": []
  }
 ],
 "metadata": {
  "kernelspec": {
   "display_name": "Python 3.7.10 64-bit ('pygisbook': conda)",
   "language": "python",
   "name": "python371064bitpygisbookcondab18b291b55654f4aa32bb008e70703ec"
  },
  "language_info": {
   "codemirror_mode": {
    "name": "ipython",
    "version": 3
   },
   "file_extension": ".py",
   "mimetype": "text/x-python",
   "name": "python",
   "nbconvert_exporter": "python",
   "pygments_lexer": "ipython3",
   "version": "3.7.10"
  }
 },
 "nbformat": 4,
 "nbformat_minor": 2
}